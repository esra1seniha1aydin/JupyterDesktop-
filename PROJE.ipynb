{
 "cells": [
  {
   "cell_type": "code",
   "execution_count": 2,
   "id": "602e4d23",
   "metadata": {},
   "outputs": [],
   "source": [
    "import pandas as pd\n",
    "import numpy as np\n",
    "import matplotlib.pyplot as plt\n",
    "from scipy import stats\n",
    "from sklearn.model_selection import train_test_split\n",
    "from sklearn.neighbors import KNeighborsClassifier\n",
    "from sklearn.preprocessing import PolynomialFeatures"
   ]
  },
  {
   "cell_type": "code",
   "execution_count": 3,
   "id": "79bba704",
   "metadata": {},
   "outputs": [],
   "source": [
    "df=pd.read_csv(\"C:/Users/casper/Desktop/HotelReservations.csv\",sep=\";\",encoding='latin-1')"
   ]
  },
  {
   "cell_type": "code",
   "execution_count": 4,
   "id": "3b9c3c62",
   "metadata": {},
   "outputs": [
    {
     "data": {
      "text/html": [
       "<div>\n",
       "<style scoped>\n",
       "    .dataframe tbody tr th:only-of-type {\n",
       "        vertical-align: middle;\n",
       "    }\n",
       "\n",
       "    .dataframe tbody tr th {\n",
       "        vertical-align: top;\n",
       "    }\n",
       "\n",
       "    .dataframe thead th {\n",
       "        text-align: right;\n",
       "    }\n",
       "</style>\n",
       "<table border=\"1\" class=\"dataframe\">\n",
       "  <thead>\n",
       "    <tr style=\"text-align: right;\">\n",
       "      <th></th>\n",
       "      <th>Booking_ID</th>\n",
       "      <th>no_of_adults</th>\n",
       "      <th>no_of_children</th>\n",
       "      <th>no_of_weekend_nights</th>\n",
       "      <th>no_of_week_nights</th>\n",
       "      <th>type_of_meal_plan</th>\n",
       "      <th>required_car_parking_space</th>\n",
       "      <th>room_type_reserved</th>\n",
       "      <th>lead_time</th>\n",
       "      <th>arrival_year</th>\n",
       "      <th>arrival_month</th>\n",
       "      <th>arrival_date</th>\n",
       "      <th>market_segment_type</th>\n",
       "      <th>repeated_guest</th>\n",
       "      <th>no_of_previous_cancellations</th>\n",
       "      <th>no_of_previous_bookings_not_canceled</th>\n",
       "      <th>avg_price_per_room</th>\n",
       "      <th>no_of_special_requests</th>\n",
       "      <th>booking_status</th>\n",
       "    </tr>\n",
       "  </thead>\n",
       "  <tbody>\n",
       "    <tr>\n",
       "      <th>0</th>\n",
       "      <td>INN00001</td>\n",
       "      <td>2</td>\n",
       "      <td>0</td>\n",
       "      <td>1</td>\n",
       "      <td>2</td>\n",
       "      <td>Meal Plan 1</td>\n",
       "      <td>0</td>\n",
       "      <td>Room_Type 1</td>\n",
       "      <td>224</td>\n",
       "      <td>2017</td>\n",
       "      <td>10</td>\n",
       "      <td>2</td>\n",
       "      <td>Offline</td>\n",
       "      <td>0</td>\n",
       "      <td>0</td>\n",
       "      <td>0</td>\n",
       "      <td>65</td>\n",
       "      <td>0</td>\n",
       "      <td>Not_Canceled</td>\n",
       "    </tr>\n",
       "    <tr>\n",
       "      <th>1</th>\n",
       "      <td>INN00002</td>\n",
       "      <td>2</td>\n",
       "      <td>0</td>\n",
       "      <td>2</td>\n",
       "      <td>3</td>\n",
       "      <td>Not Selected</td>\n",
       "      <td>0</td>\n",
       "      <td>Room_Type 1</td>\n",
       "      <td>5</td>\n",
       "      <td>2018</td>\n",
       "      <td>11</td>\n",
       "      <td>6</td>\n",
       "      <td>Online</td>\n",
       "      <td>0</td>\n",
       "      <td>0</td>\n",
       "      <td>0</td>\n",
       "      <td>10668</td>\n",
       "      <td>1</td>\n",
       "      <td>Not_Canceled</td>\n",
       "    </tr>\n",
       "    <tr>\n",
       "      <th>2</th>\n",
       "      <td>INN00003</td>\n",
       "      <td>1</td>\n",
       "      <td>0</td>\n",
       "      <td>2</td>\n",
       "      <td>1</td>\n",
       "      <td>Meal Plan 1</td>\n",
       "      <td>0</td>\n",
       "      <td>Room_Type 1</td>\n",
       "      <td>1</td>\n",
       "      <td>2018</td>\n",
       "      <td>2</td>\n",
       "      <td>28</td>\n",
       "      <td>Online</td>\n",
       "      <td>0</td>\n",
       "      <td>0</td>\n",
       "      <td>0</td>\n",
       "      <td>60</td>\n",
       "      <td>0</td>\n",
       "      <td>Canceled</td>\n",
       "    </tr>\n",
       "    <tr>\n",
       "      <th>3</th>\n",
       "      <td>INN00004</td>\n",
       "      <td>2</td>\n",
       "      <td>0</td>\n",
       "      <td>0</td>\n",
       "      <td>2</td>\n",
       "      <td>Meal Plan 1</td>\n",
       "      <td>0</td>\n",
       "      <td>Room_Type 1</td>\n",
       "      <td>211</td>\n",
       "      <td>2018</td>\n",
       "      <td>5</td>\n",
       "      <td>20</td>\n",
       "      <td>Online</td>\n",
       "      <td>0</td>\n",
       "      <td>0</td>\n",
       "      <td>0</td>\n",
       "      <td>100</td>\n",
       "      <td>0</td>\n",
       "      <td>Canceled</td>\n",
       "    </tr>\n",
       "    <tr>\n",
       "      <th>4</th>\n",
       "      <td>INN00005</td>\n",
       "      <td>2</td>\n",
       "      <td>0</td>\n",
       "      <td>1</td>\n",
       "      <td>1</td>\n",
       "      <td>Not Selected</td>\n",
       "      <td>0</td>\n",
       "      <td>Room_Type 1</td>\n",
       "      <td>48</td>\n",
       "      <td>2018</td>\n",
       "      <td>4</td>\n",
       "      <td>11</td>\n",
       "      <td>Online</td>\n",
       "      <td>0</td>\n",
       "      <td>0</td>\n",
       "      <td>0</td>\n",
       "      <td>945</td>\n",
       "      <td>0</td>\n",
       "      <td>Canceled</td>\n",
       "    </tr>\n",
       "  </tbody>\n",
       "</table>\n",
       "</div>"
      ],
      "text/plain": [
       "  Booking_ID  no_of_adults  no_of_children  no_of_weekend_nights  \\\n",
       "0   INN00001             2               0                     1   \n",
       "1   INN00002             2               0                     2   \n",
       "2   INN00003             1               0                     2   \n",
       "3   INN00004             2               0                     0   \n",
       "4   INN00005             2               0                     1   \n",
       "\n",
       "   no_of_week_nights type_of_meal_plan  required_car_parking_space  \\\n",
       "0                  2       Meal Plan 1                           0   \n",
       "1                  3      Not Selected                           0   \n",
       "2                  1       Meal Plan 1                           0   \n",
       "3                  2       Meal Plan 1                           0   \n",
       "4                  1      Not Selected                           0   \n",
       "\n",
       "  room_type_reserved  lead_time  arrival_year  arrival_month  arrival_date  \\\n",
       "0        Room_Type 1        224          2017             10             2   \n",
       "1        Room_Type 1          5          2018             11             6   \n",
       "2        Room_Type 1          1          2018              2            28   \n",
       "3        Room_Type 1        211          2018              5            20   \n",
       "4        Room_Type 1         48          2018              4            11   \n",
       "\n",
       "  market_segment_type  repeated_guest  no_of_previous_cancellations  \\\n",
       "0             Offline               0                             0   \n",
       "1              Online               0                             0   \n",
       "2              Online               0                             0   \n",
       "3              Online               0                             0   \n",
       "4              Online               0                             0   \n",
       "\n",
       "   no_of_previous_bookings_not_canceled  avg_price_per_room  \\\n",
       "0                                     0                  65   \n",
       "1                                     0               10668   \n",
       "2                                     0                  60   \n",
       "3                                     0                 100   \n",
       "4                                     0                 945   \n",
       "\n",
       "   no_of_special_requests booking_status  \n",
       "0                       0   Not_Canceled  \n",
       "1                       1   Not_Canceled  \n",
       "2                       0       Canceled  \n",
       "3                       0       Canceled  \n",
       "4                       0       Canceled  "
      ]
     },
     "execution_count": 4,
     "metadata": {},
     "output_type": "execute_result"
    }
   ],
   "source": [
    "df.head()"
   ]
  },
  {
   "cell_type": "code",
   "execution_count": 5,
   "id": "e793d61b",
   "metadata": {},
   "outputs": [
    {
     "data": {
      "text/html": [
       "<div>\n",
       "<style scoped>\n",
       "    .dataframe tbody tr th:only-of-type {\n",
       "        vertical-align: middle;\n",
       "    }\n",
       "\n",
       "    .dataframe tbody tr th {\n",
       "        vertical-align: top;\n",
       "    }\n",
       "\n",
       "    .dataframe thead th {\n",
       "        text-align: right;\n",
       "    }\n",
       "</style>\n",
       "<table border=\"1\" class=\"dataframe\">\n",
       "  <thead>\n",
       "    <tr style=\"text-align: right;\">\n",
       "      <th></th>\n",
       "      <th>Booking_ID</th>\n",
       "      <th>no_of_adults</th>\n",
       "      <th>no_of_children</th>\n",
       "      <th>no_of_weekend_nights</th>\n",
       "      <th>no_of_week_nights</th>\n",
       "      <th>type_of_meal_plan</th>\n",
       "      <th>required_car_parking_space</th>\n",
       "      <th>room_type_reserved</th>\n",
       "      <th>lead_time</th>\n",
       "      <th>arrival_year</th>\n",
       "      <th>arrival_month</th>\n",
       "      <th>arrival_date</th>\n",
       "      <th>market_segment_type</th>\n",
       "      <th>repeated_guest</th>\n",
       "      <th>no_of_previous_cancellations</th>\n",
       "      <th>no_of_previous_bookings_not_canceled</th>\n",
       "      <th>avg_price_per_room</th>\n",
       "      <th>no_of_special_requests</th>\n",
       "      <th>booking_status</th>\n",
       "    </tr>\n",
       "  </thead>\n",
       "  <tbody>\n",
       "    <tr>\n",
       "      <th>9994</th>\n",
       "      <td>INN09995</td>\n",
       "      <td>3</td>\n",
       "      <td>0</td>\n",
       "      <td>0</td>\n",
       "      <td>4</td>\n",
       "      <td>Meal Plan 1</td>\n",
       "      <td>0</td>\n",
       "      <td>Room_Type 4</td>\n",
       "      <td>109</td>\n",
       "      <td>2018</td>\n",
       "      <td>8</td>\n",
       "      <td>24</td>\n",
       "      <td>Online</td>\n",
       "      <td>0</td>\n",
       "      <td>0</td>\n",
       "      <td>0</td>\n",
       "      <td>1521</td>\n",
       "      <td>0</td>\n",
       "      <td>Canceled</td>\n",
       "    </tr>\n",
       "    <tr>\n",
       "      <th>9995</th>\n",
       "      <td>INN09996</td>\n",
       "      <td>2</td>\n",
       "      <td>0</td>\n",
       "      <td>2</td>\n",
       "      <td>1</td>\n",
       "      <td>Meal Plan 1</td>\n",
       "      <td>0</td>\n",
       "      <td>Room_Type 1</td>\n",
       "      <td>55</td>\n",
       "      <td>2018</td>\n",
       "      <td>4</td>\n",
       "      <td>3</td>\n",
       "      <td>Offline</td>\n",
       "      <td>0</td>\n",
       "      <td>0</td>\n",
       "      <td>0</td>\n",
       "      <td>75</td>\n",
       "      <td>1</td>\n",
       "      <td>Not_Canceled</td>\n",
       "    </tr>\n",
       "    <tr>\n",
       "      <th>9996</th>\n",
       "      <td>INN09997</td>\n",
       "      <td>2</td>\n",
       "      <td>0</td>\n",
       "      <td>2</td>\n",
       "      <td>1</td>\n",
       "      <td>Meal Plan 1</td>\n",
       "      <td>0</td>\n",
       "      <td>Room_Type 1</td>\n",
       "      <td>2</td>\n",
       "      <td>2017</td>\n",
       "      <td>9</td>\n",
       "      <td>12</td>\n",
       "      <td>Online</td>\n",
       "      <td>0</td>\n",
       "      <td>0</td>\n",
       "      <td>0</td>\n",
       "      <td>13867</td>\n",
       "      <td>1</td>\n",
       "      <td>Not_Canceled</td>\n",
       "    </tr>\n",
       "    <tr>\n",
       "      <th>9997</th>\n",
       "      <td>INN09998</td>\n",
       "      <td>2</td>\n",
       "      <td>0</td>\n",
       "      <td>0</td>\n",
       "      <td>3</td>\n",
       "      <td>Meal Plan 1</td>\n",
       "      <td>0</td>\n",
       "      <td>Room_Type 1</td>\n",
       "      <td>105</td>\n",
       "      <td>2018</td>\n",
       "      <td>10</td>\n",
       "      <td>12</td>\n",
       "      <td>Offline</td>\n",
       "      <td>0</td>\n",
       "      <td>0</td>\n",
       "      <td>0</td>\n",
       "      <td>75</td>\n",
       "      <td>0</td>\n",
       "      <td>Not_Canceled</td>\n",
       "    </tr>\n",
       "    <tr>\n",
       "      <th>9998</th>\n",
       "      <td>INN09999</td>\n",
       "      <td>2</td>\n",
       "      <td>0</td>\n",
       "      <td>4</td>\n",
       "      <td>6</td>\n",
       "      <td>Meal Plan 1</td>\n",
       "      <td>0</td>\n",
       "      <td>Room_Type 1</td>\n",
       "      <td>207</td>\n",
       "      <td>2018</td>\n",
       "      <td>8</td>\n",
       "      <td>20</td>\n",
       "      <td>Offline</td>\n",
       "      <td>0</td>\n",
       "      <td>0</td>\n",
       "      <td>0</td>\n",
       "      <td>7225</td>\n",
       "      <td>0</td>\n",
       "      <td>Not_Canceled</td>\n",
       "    </tr>\n",
       "  </tbody>\n",
       "</table>\n",
       "</div>"
      ],
      "text/plain": [
       "     Booking_ID  no_of_adults  no_of_children  no_of_weekend_nights  \\\n",
       "9994   INN09995             3               0                     0   \n",
       "9995   INN09996             2               0                     2   \n",
       "9996   INN09997             2               0                     2   \n",
       "9997   INN09998             2               0                     0   \n",
       "9998   INN09999             2               0                     4   \n",
       "\n",
       "      no_of_week_nights type_of_meal_plan  required_car_parking_space  \\\n",
       "9994                  4       Meal Plan 1                           0   \n",
       "9995                  1       Meal Plan 1                           0   \n",
       "9996                  1       Meal Plan 1                           0   \n",
       "9997                  3       Meal Plan 1                           0   \n",
       "9998                  6       Meal Plan 1                           0   \n",
       "\n",
       "     room_type_reserved  lead_time  arrival_year  arrival_month  arrival_date  \\\n",
       "9994        Room_Type 4        109          2018              8            24   \n",
       "9995        Room_Type 1         55          2018              4             3   \n",
       "9996        Room_Type 1          2          2017              9            12   \n",
       "9997        Room_Type 1        105          2018             10            12   \n",
       "9998        Room_Type 1        207          2018              8            20   \n",
       "\n",
       "     market_segment_type  repeated_guest  no_of_previous_cancellations  \\\n",
       "9994              Online               0                             0   \n",
       "9995             Offline               0                             0   \n",
       "9996              Online               0                             0   \n",
       "9997             Offline               0                             0   \n",
       "9998             Offline               0                             0   \n",
       "\n",
       "      no_of_previous_bookings_not_canceled  avg_price_per_room  \\\n",
       "9994                                     0                1521   \n",
       "9995                                     0                  75   \n",
       "9996                                     0               13867   \n",
       "9997                                     0                  75   \n",
       "9998                                     0                7225   \n",
       "\n",
       "      no_of_special_requests booking_status  \n",
       "9994                       0       Canceled  \n",
       "9995                       1   Not_Canceled  \n",
       "9996                       1   Not_Canceled  \n",
       "9997                       0   Not_Canceled  \n",
       "9998                       0   Not_Canceled  "
      ]
     },
     "execution_count": 5,
     "metadata": {},
     "output_type": "execute_result"
    }
   ],
   "source": [
    "df.tail()"
   ]
  },
  {
   "cell_type": "code",
   "execution_count": 6,
   "id": "e9cc3b2f",
   "metadata": {},
   "outputs": [
    {
     "data": {
      "text/plain": [
       "(9999, 19)"
      ]
     },
     "execution_count": 6,
     "metadata": {},
     "output_type": "execute_result"
    }
   ],
   "source": [
    "df.shape"
   ]
  },
  {
   "cell_type": "code",
   "execution_count": 7,
   "id": "406f4076",
   "metadata": {},
   "outputs": [
    {
     "data": {
      "text/plain": [
       "9999"
      ]
     },
     "execution_count": 7,
     "metadata": {},
     "output_type": "execute_result"
    }
   ],
   "source": [
    "len(df)"
   ]
  },
  {
   "cell_type": "code",
   "execution_count": 8,
   "id": "3cc57d2a",
   "metadata": {},
   "outputs": [
    {
     "data": {
      "text/plain": [
       "Index(['Booking_ID', 'no_of_adults', 'no_of_children', 'no_of_weekend_nights',\n",
       "       'no_of_week_nights', 'type_of_meal_plan', 'required_car_parking_space',\n",
       "       'room_type_reserved', 'lead_time', 'arrival_year', 'arrival_month',\n",
       "       'arrival_date', 'market_segment_type', 'repeated_guest',\n",
       "       'no_of_previous_cancellations', 'no_of_previous_bookings_not_canceled',\n",
       "       'avg_price_per_room', 'no_of_special_requests', 'booking_status'],\n",
       "      dtype='object')"
      ]
     },
     "execution_count": 8,
     "metadata": {},
     "output_type": "execute_result"
    }
   ],
   "source": [
    "df.columns"
   ]
  },
  {
   "cell_type": "code",
   "execution_count": 9,
   "id": "f7692c5b",
   "metadata": {},
   "outputs": [
    {
     "data": {
      "text/plain": [
       "Booking_ID                              object\n",
       "no_of_adults                             int64\n",
       "no_of_children                           int64\n",
       "no_of_weekend_nights                     int64\n",
       "no_of_week_nights                        int64\n",
       "type_of_meal_plan                       object\n",
       "required_car_parking_space               int64\n",
       "room_type_reserved                      object\n",
       "lead_time                                int64\n",
       "arrival_year                             int64\n",
       "arrival_month                            int64\n",
       "arrival_date                             int64\n",
       "market_segment_type                     object\n",
       "repeated_guest                           int64\n",
       "no_of_previous_cancellations             int64\n",
       "no_of_previous_bookings_not_canceled     int64\n",
       "avg_price_per_room                       int64\n",
       "no_of_special_requests                   int64\n",
       "booking_status                          object\n",
       "dtype: object"
      ]
     },
     "execution_count": 9,
     "metadata": {},
     "output_type": "execute_result"
    }
   ],
   "source": [
    "df.dtypes"
   ]
  },
  {
   "cell_type": "code",
   "execution_count": 10,
   "id": "50dfc697",
   "metadata": {},
   "outputs": [
    {
     "data": {
      "text/html": [
       "<div>\n",
       "<style scoped>\n",
       "    .dataframe tbody tr th:only-of-type {\n",
       "        vertical-align: middle;\n",
       "    }\n",
       "\n",
       "    .dataframe tbody tr th {\n",
       "        vertical-align: top;\n",
       "    }\n",
       "\n",
       "    .dataframe thead th {\n",
       "        text-align: right;\n",
       "    }\n",
       "</style>\n",
       "<table border=\"1\" class=\"dataframe\">\n",
       "  <thead>\n",
       "    <tr style=\"text-align: right;\">\n",
       "      <th></th>\n",
       "      <th>Booking_ID</th>\n",
       "      <th>no_of_adults</th>\n",
       "      <th>no_of_children</th>\n",
       "      <th>no_of_weekend_nights</th>\n",
       "      <th>no_of_week_nights</th>\n",
       "      <th>type_of_meal_plan</th>\n",
       "      <th>required_car_parking_space</th>\n",
       "      <th>room_type_reserved</th>\n",
       "      <th>lead_time</th>\n",
       "      <th>arrival_year</th>\n",
       "      <th>arrival_month</th>\n",
       "      <th>arrival_date</th>\n",
       "      <th>market_segment_type</th>\n",
       "      <th>repeated_guest</th>\n",
       "      <th>no_of_previous_cancellations</th>\n",
       "      <th>no_of_previous_bookings_not_canceled</th>\n",
       "      <th>avg_price_per_room</th>\n",
       "      <th>no_of_special_requests</th>\n",
       "      <th>booking_status</th>\n",
       "    </tr>\n",
       "  </thead>\n",
       "  <tbody>\n",
       "    <tr>\n",
       "      <th>0</th>\n",
       "      <td>False</td>\n",
       "      <td>False</td>\n",
       "      <td>False</td>\n",
       "      <td>False</td>\n",
       "      <td>False</td>\n",
       "      <td>False</td>\n",
       "      <td>False</td>\n",
       "      <td>False</td>\n",
       "      <td>False</td>\n",
       "      <td>False</td>\n",
       "      <td>False</td>\n",
       "      <td>False</td>\n",
       "      <td>False</td>\n",
       "      <td>False</td>\n",
       "      <td>False</td>\n",
       "      <td>False</td>\n",
       "      <td>False</td>\n",
       "      <td>False</td>\n",
       "      <td>False</td>\n",
       "    </tr>\n",
       "    <tr>\n",
       "      <th>1</th>\n",
       "      <td>False</td>\n",
       "      <td>False</td>\n",
       "      <td>False</td>\n",
       "      <td>False</td>\n",
       "      <td>False</td>\n",
       "      <td>False</td>\n",
       "      <td>False</td>\n",
       "      <td>False</td>\n",
       "      <td>False</td>\n",
       "      <td>False</td>\n",
       "      <td>False</td>\n",
       "      <td>False</td>\n",
       "      <td>False</td>\n",
       "      <td>False</td>\n",
       "      <td>False</td>\n",
       "      <td>False</td>\n",
       "      <td>False</td>\n",
       "      <td>False</td>\n",
       "      <td>False</td>\n",
       "    </tr>\n",
       "    <tr>\n",
       "      <th>2</th>\n",
       "      <td>False</td>\n",
       "      <td>False</td>\n",
       "      <td>False</td>\n",
       "      <td>False</td>\n",
       "      <td>False</td>\n",
       "      <td>False</td>\n",
       "      <td>False</td>\n",
       "      <td>False</td>\n",
       "      <td>False</td>\n",
       "      <td>False</td>\n",
       "      <td>False</td>\n",
       "      <td>False</td>\n",
       "      <td>False</td>\n",
       "      <td>False</td>\n",
       "      <td>False</td>\n",
       "      <td>False</td>\n",
       "      <td>False</td>\n",
       "      <td>False</td>\n",
       "      <td>False</td>\n",
       "    </tr>\n",
       "    <tr>\n",
       "      <th>3</th>\n",
       "      <td>False</td>\n",
       "      <td>False</td>\n",
       "      <td>False</td>\n",
       "      <td>False</td>\n",
       "      <td>False</td>\n",
       "      <td>False</td>\n",
       "      <td>False</td>\n",
       "      <td>False</td>\n",
       "      <td>False</td>\n",
       "      <td>False</td>\n",
       "      <td>False</td>\n",
       "      <td>False</td>\n",
       "      <td>False</td>\n",
       "      <td>False</td>\n",
       "      <td>False</td>\n",
       "      <td>False</td>\n",
       "      <td>False</td>\n",
       "      <td>False</td>\n",
       "      <td>False</td>\n",
       "    </tr>\n",
       "    <tr>\n",
       "      <th>4</th>\n",
       "      <td>False</td>\n",
       "      <td>False</td>\n",
       "      <td>False</td>\n",
       "      <td>False</td>\n",
       "      <td>False</td>\n",
       "      <td>False</td>\n",
       "      <td>False</td>\n",
       "      <td>False</td>\n",
       "      <td>False</td>\n",
       "      <td>False</td>\n",
       "      <td>False</td>\n",
       "      <td>False</td>\n",
       "      <td>False</td>\n",
       "      <td>False</td>\n",
       "      <td>False</td>\n",
       "      <td>False</td>\n",
       "      <td>False</td>\n",
       "      <td>False</td>\n",
       "      <td>False</td>\n",
       "    </tr>\n",
       "    <tr>\n",
       "      <th>...</th>\n",
       "      <td>...</td>\n",
       "      <td>...</td>\n",
       "      <td>...</td>\n",
       "      <td>...</td>\n",
       "      <td>...</td>\n",
       "      <td>...</td>\n",
       "      <td>...</td>\n",
       "      <td>...</td>\n",
       "      <td>...</td>\n",
       "      <td>...</td>\n",
       "      <td>...</td>\n",
       "      <td>...</td>\n",
       "      <td>...</td>\n",
       "      <td>...</td>\n",
       "      <td>...</td>\n",
       "      <td>...</td>\n",
       "      <td>...</td>\n",
       "      <td>...</td>\n",
       "      <td>...</td>\n",
       "    </tr>\n",
       "    <tr>\n",
       "      <th>9994</th>\n",
       "      <td>False</td>\n",
       "      <td>False</td>\n",
       "      <td>False</td>\n",
       "      <td>False</td>\n",
       "      <td>False</td>\n",
       "      <td>False</td>\n",
       "      <td>False</td>\n",
       "      <td>False</td>\n",
       "      <td>False</td>\n",
       "      <td>False</td>\n",
       "      <td>False</td>\n",
       "      <td>False</td>\n",
       "      <td>False</td>\n",
       "      <td>False</td>\n",
       "      <td>False</td>\n",
       "      <td>False</td>\n",
       "      <td>False</td>\n",
       "      <td>False</td>\n",
       "      <td>False</td>\n",
       "    </tr>\n",
       "    <tr>\n",
       "      <th>9995</th>\n",
       "      <td>False</td>\n",
       "      <td>False</td>\n",
       "      <td>False</td>\n",
       "      <td>False</td>\n",
       "      <td>False</td>\n",
       "      <td>False</td>\n",
       "      <td>False</td>\n",
       "      <td>False</td>\n",
       "      <td>False</td>\n",
       "      <td>False</td>\n",
       "      <td>False</td>\n",
       "      <td>False</td>\n",
       "      <td>False</td>\n",
       "      <td>False</td>\n",
       "      <td>False</td>\n",
       "      <td>False</td>\n",
       "      <td>False</td>\n",
       "      <td>False</td>\n",
       "      <td>False</td>\n",
       "    </tr>\n",
       "    <tr>\n",
       "      <th>9996</th>\n",
       "      <td>False</td>\n",
       "      <td>False</td>\n",
       "      <td>False</td>\n",
       "      <td>False</td>\n",
       "      <td>False</td>\n",
       "      <td>False</td>\n",
       "      <td>False</td>\n",
       "      <td>False</td>\n",
       "      <td>False</td>\n",
       "      <td>False</td>\n",
       "      <td>False</td>\n",
       "      <td>False</td>\n",
       "      <td>False</td>\n",
       "      <td>False</td>\n",
       "      <td>False</td>\n",
       "      <td>False</td>\n",
       "      <td>False</td>\n",
       "      <td>False</td>\n",
       "      <td>False</td>\n",
       "    </tr>\n",
       "    <tr>\n",
       "      <th>9997</th>\n",
       "      <td>False</td>\n",
       "      <td>False</td>\n",
       "      <td>False</td>\n",
       "      <td>False</td>\n",
       "      <td>False</td>\n",
       "      <td>False</td>\n",
       "      <td>False</td>\n",
       "      <td>False</td>\n",
       "      <td>False</td>\n",
       "      <td>False</td>\n",
       "      <td>False</td>\n",
       "      <td>False</td>\n",
       "      <td>False</td>\n",
       "      <td>False</td>\n",
       "      <td>False</td>\n",
       "      <td>False</td>\n",
       "      <td>False</td>\n",
       "      <td>False</td>\n",
       "      <td>False</td>\n",
       "    </tr>\n",
       "    <tr>\n",
       "      <th>9998</th>\n",
       "      <td>False</td>\n",
       "      <td>False</td>\n",
       "      <td>False</td>\n",
       "      <td>False</td>\n",
       "      <td>False</td>\n",
       "      <td>False</td>\n",
       "      <td>False</td>\n",
       "      <td>False</td>\n",
       "      <td>False</td>\n",
       "      <td>False</td>\n",
       "      <td>False</td>\n",
       "      <td>False</td>\n",
       "      <td>False</td>\n",
       "      <td>False</td>\n",
       "      <td>False</td>\n",
       "      <td>False</td>\n",
       "      <td>False</td>\n",
       "      <td>False</td>\n",
       "      <td>False</td>\n",
       "    </tr>\n",
       "  </tbody>\n",
       "</table>\n",
       "<p>9999 rows × 19 columns</p>\n",
       "</div>"
      ],
      "text/plain": [
       "      Booking_ID  no_of_adults  no_of_children  no_of_weekend_nights  \\\n",
       "0          False         False           False                 False   \n",
       "1          False         False           False                 False   \n",
       "2          False         False           False                 False   \n",
       "3          False         False           False                 False   \n",
       "4          False         False           False                 False   \n",
       "...          ...           ...             ...                   ...   \n",
       "9994       False         False           False                 False   \n",
       "9995       False         False           False                 False   \n",
       "9996       False         False           False                 False   \n",
       "9997       False         False           False                 False   \n",
       "9998       False         False           False                 False   \n",
       "\n",
       "      no_of_week_nights  type_of_meal_plan  required_car_parking_space  \\\n",
       "0                 False              False                       False   \n",
       "1                 False              False                       False   \n",
       "2                 False              False                       False   \n",
       "3                 False              False                       False   \n",
       "4                 False              False                       False   \n",
       "...                 ...                ...                         ...   \n",
       "9994              False              False                       False   \n",
       "9995              False              False                       False   \n",
       "9996              False              False                       False   \n",
       "9997              False              False                       False   \n",
       "9998              False              False                       False   \n",
       "\n",
       "      room_type_reserved  lead_time  arrival_year  arrival_month  \\\n",
       "0                  False      False         False          False   \n",
       "1                  False      False         False          False   \n",
       "2                  False      False         False          False   \n",
       "3                  False      False         False          False   \n",
       "4                  False      False         False          False   \n",
       "...                  ...        ...           ...            ...   \n",
       "9994               False      False         False          False   \n",
       "9995               False      False         False          False   \n",
       "9996               False      False         False          False   \n",
       "9997               False      False         False          False   \n",
       "9998               False      False         False          False   \n",
       "\n",
       "      arrival_date  market_segment_type  repeated_guest  \\\n",
       "0            False                False           False   \n",
       "1            False                False           False   \n",
       "2            False                False           False   \n",
       "3            False                False           False   \n",
       "4            False                False           False   \n",
       "...            ...                  ...             ...   \n",
       "9994         False                False           False   \n",
       "9995         False                False           False   \n",
       "9996         False                False           False   \n",
       "9997         False                False           False   \n",
       "9998         False                False           False   \n",
       "\n",
       "      no_of_previous_cancellations  no_of_previous_bookings_not_canceled  \\\n",
       "0                            False                                 False   \n",
       "1                            False                                 False   \n",
       "2                            False                                 False   \n",
       "3                            False                                 False   \n",
       "4                            False                                 False   \n",
       "...                            ...                                   ...   \n",
       "9994                         False                                 False   \n",
       "9995                         False                                 False   \n",
       "9996                         False                                 False   \n",
       "9997                         False                                 False   \n",
       "9998                         False                                 False   \n",
       "\n",
       "      avg_price_per_room  no_of_special_requests  booking_status  \n",
       "0                  False                   False           False  \n",
       "1                  False                   False           False  \n",
       "2                  False                   False           False  \n",
       "3                  False                   False           False  \n",
       "4                  False                   False           False  \n",
       "...                  ...                     ...             ...  \n",
       "9994               False                   False           False  \n",
       "9995               False                   False           False  \n",
       "9996               False                   False           False  \n",
       "9997               False                   False           False  \n",
       "9998               False                   False           False  \n",
       "\n",
       "[9999 rows x 19 columns]"
      ]
     },
     "execution_count": 10,
     "metadata": {},
     "output_type": "execute_result"
    }
   ],
   "source": [
    "df.isnull()"
   ]
  },
  {
   "cell_type": "code",
   "execution_count": 11,
   "id": "ec91c66a",
   "metadata": {},
   "outputs": [
    {
     "data": {
      "text/plain": [
       "0       INN00001\n",
       "1       INN00002\n",
       "2       INN00003\n",
       "3       INN00004\n",
       "4       INN00005\n",
       "          ...   \n",
       "9994    INN09995\n",
       "9995    INN09996\n",
       "9996    INN09997\n",
       "9997    INN09998\n",
       "9998    INN09999\n",
       "Name: Booking_ID, Length: 9999, dtype: object"
      ]
     },
     "execution_count": 11,
     "metadata": {},
     "output_type": "execute_result"
    }
   ],
   "source": [
    "df['Booking_ID']"
   ]
  },
  {
   "cell_type": "code",
   "execution_count": 12,
   "id": "394d1711",
   "metadata": {},
   "outputs": [],
   "source": [
    "summarizeNumCol=df.describe()"
   ]
  },
  {
   "cell_type": "code",
   "execution_count": 13,
   "id": "feb206e8",
   "metadata": {},
   "outputs": [
    {
     "name": "stdout",
     "output_type": "stream",
     "text": [
      "Bütün sayısal sütunları topla:\n"
     ]
    }
   ],
   "source": [
    "print(\"Bütün sayısal sütunları topla:\")"
   ]
  },
  {
   "cell_type": "code",
   "execution_count": 14,
   "id": "2cbfa001",
   "metadata": {},
   "outputs": [
    {
     "data": {
      "text/html": [
       "<div>\n",
       "<style scoped>\n",
       "    .dataframe tbody tr th:only-of-type {\n",
       "        vertical-align: middle;\n",
       "    }\n",
       "\n",
       "    .dataframe tbody tr th {\n",
       "        vertical-align: top;\n",
       "    }\n",
       "\n",
       "    .dataframe thead th {\n",
       "        text-align: right;\n",
       "    }\n",
       "</style>\n",
       "<table border=\"1\" class=\"dataframe\">\n",
       "  <thead>\n",
       "    <tr style=\"text-align: right;\">\n",
       "      <th></th>\n",
       "      <th>no_of_adults</th>\n",
       "      <th>no_of_children</th>\n",
       "      <th>no_of_weekend_nights</th>\n",
       "      <th>no_of_week_nights</th>\n",
       "      <th>required_car_parking_space</th>\n",
       "      <th>lead_time</th>\n",
       "      <th>arrival_year</th>\n",
       "      <th>arrival_month</th>\n",
       "      <th>arrival_date</th>\n",
       "      <th>repeated_guest</th>\n",
       "      <th>no_of_previous_cancellations</th>\n",
       "      <th>no_of_previous_bookings_not_canceled</th>\n",
       "      <th>avg_price_per_room</th>\n",
       "      <th>no_of_special_requests</th>\n",
       "    </tr>\n",
       "  </thead>\n",
       "  <tbody>\n",
       "    <tr>\n",
       "      <th>count</th>\n",
       "      <td>9999.000000</td>\n",
       "      <td>9999.000000</td>\n",
       "      <td>9999.000000</td>\n",
       "      <td>9999.000000</td>\n",
       "      <td>9999.000000</td>\n",
       "      <td>9999.000000</td>\n",
       "      <td>9999.000000</td>\n",
       "      <td>9999.00000</td>\n",
       "      <td>9999.000000</td>\n",
       "      <td>9999.000000</td>\n",
       "      <td>9999.000000</td>\n",
       "      <td>9999.000000</td>\n",
       "      <td>9999.000000</td>\n",
       "      <td>9999.000000</td>\n",
       "    </tr>\n",
       "    <tr>\n",
       "      <th>mean</th>\n",
       "      <td>1.852585</td>\n",
       "      <td>0.102610</td>\n",
       "      <td>0.812281</td>\n",
       "      <td>2.198920</td>\n",
       "      <td>0.032803</td>\n",
       "      <td>85.413341</td>\n",
       "      <td>2017.823982</td>\n",
       "      <td>7.40054</td>\n",
       "      <td>15.592859</td>\n",
       "      <td>0.026503</td>\n",
       "      <td>0.018802</td>\n",
       "      <td>0.152615</td>\n",
       "      <td>2825.975798</td>\n",
       "      <td>0.638064</td>\n",
       "    </tr>\n",
       "    <tr>\n",
       "      <th>std</th>\n",
       "      <td>0.512956</td>\n",
       "      <td>0.400879</td>\n",
       "      <td>0.873509</td>\n",
       "      <td>1.421597</td>\n",
       "      <td>0.178130</td>\n",
       "      <td>86.198054</td>\n",
       "      <td>0.380854</td>\n",
       "      <td>3.05754</td>\n",
       "      <td>8.730670</td>\n",
       "      <td>0.160633</td>\n",
       "      <td>0.291999</td>\n",
       "      <td>1.698614</td>\n",
       "      <td>4432.299494</td>\n",
       "      <td>0.795765</td>\n",
       "    </tr>\n",
       "    <tr>\n",
       "      <th>min</th>\n",
       "      <td>0.000000</td>\n",
       "      <td>0.000000</td>\n",
       "      <td>0.000000</td>\n",
       "      <td>0.000000</td>\n",
       "      <td>0.000000</td>\n",
       "      <td>0.000000</td>\n",
       "      <td>2017.000000</td>\n",
       "      <td>1.00000</td>\n",
       "      <td>1.000000</td>\n",
       "      <td>0.000000</td>\n",
       "      <td>0.000000</td>\n",
       "      <td>0.000000</td>\n",
       "      <td>0.000000</td>\n",
       "      <td>0.000000</td>\n",
       "    </tr>\n",
       "    <tr>\n",
       "      <th>25%</th>\n",
       "      <td>2.000000</td>\n",
       "      <td>0.000000</td>\n",
       "      <td>0.000000</td>\n",
       "      <td>1.000000</td>\n",
       "      <td>0.000000</td>\n",
       "      <td>17.000000</td>\n",
       "      <td>2018.000000</td>\n",
       "      <td>5.00000</td>\n",
       "      <td>8.000000</td>\n",
       "      <td>0.000000</td>\n",
       "      <td>0.000000</td>\n",
       "      <td>0.000000</td>\n",
       "      <td>100.000000</td>\n",
       "      <td>0.000000</td>\n",
       "    </tr>\n",
       "    <tr>\n",
       "      <th>50%</th>\n",
       "      <td>2.000000</td>\n",
       "      <td>0.000000</td>\n",
       "      <td>1.000000</td>\n",
       "      <td>2.000000</td>\n",
       "      <td>0.000000</td>\n",
       "      <td>57.000000</td>\n",
       "      <td>2018.000000</td>\n",
       "      <td>8.00000</td>\n",
       "      <td>15.000000</td>\n",
       "      <td>0.000000</td>\n",
       "      <td>0.000000</td>\n",
       "      <td>0.000000</td>\n",
       "      <td>792.000000</td>\n",
       "      <td>0.000000</td>\n",
       "    </tr>\n",
       "    <tr>\n",
       "      <th>75%</th>\n",
       "      <td>2.000000</td>\n",
       "      <td>0.000000</td>\n",
       "      <td>2.000000</td>\n",
       "      <td>3.000000</td>\n",
       "      <td>0.000000</td>\n",
       "      <td>126.000000</td>\n",
       "      <td>2018.000000</td>\n",
       "      <td>10.00000</td>\n",
       "      <td>23.000000</td>\n",
       "      <td>0.000000</td>\n",
       "      <td>0.000000</td>\n",
       "      <td>0.000000</td>\n",
       "      <td>1911.500000</td>\n",
       "      <td>1.000000</td>\n",
       "    </tr>\n",
       "    <tr>\n",
       "      <th>max</th>\n",
       "      <td>4.000000</td>\n",
       "      <td>10.000000</td>\n",
       "      <td>6.000000</td>\n",
       "      <td>15.000000</td>\n",
       "      <td>1.000000</td>\n",
       "      <td>443.000000</td>\n",
       "      <td>2018.000000</td>\n",
       "      <td>12.00000</td>\n",
       "      <td>31.000000</td>\n",
       "      <td>1.000000</td>\n",
       "      <td>11.000000</td>\n",
       "      <td>53.000000</td>\n",
       "      <td>26667.000000</td>\n",
       "      <td>5.000000</td>\n",
       "    </tr>\n",
       "  </tbody>\n",
       "</table>\n",
       "</div>"
      ],
      "text/plain": [
       "       no_of_adults  no_of_children  no_of_weekend_nights  no_of_week_nights  \\\n",
       "count   9999.000000     9999.000000           9999.000000        9999.000000   \n",
       "mean       1.852585        0.102610              0.812281           2.198920   \n",
       "std        0.512956        0.400879              0.873509           1.421597   \n",
       "min        0.000000        0.000000              0.000000           0.000000   \n",
       "25%        2.000000        0.000000              0.000000           1.000000   \n",
       "50%        2.000000        0.000000              1.000000           2.000000   \n",
       "75%        2.000000        0.000000              2.000000           3.000000   \n",
       "max        4.000000       10.000000              6.000000          15.000000   \n",
       "\n",
       "       required_car_parking_space    lead_time  arrival_year  arrival_month  \\\n",
       "count                 9999.000000  9999.000000   9999.000000     9999.00000   \n",
       "mean                     0.032803    85.413341   2017.823982        7.40054   \n",
       "std                      0.178130    86.198054      0.380854        3.05754   \n",
       "min                      0.000000     0.000000   2017.000000        1.00000   \n",
       "25%                      0.000000    17.000000   2018.000000        5.00000   \n",
       "50%                      0.000000    57.000000   2018.000000        8.00000   \n",
       "75%                      0.000000   126.000000   2018.000000       10.00000   \n",
       "max                      1.000000   443.000000   2018.000000       12.00000   \n",
       "\n",
       "       arrival_date  repeated_guest  no_of_previous_cancellations  \\\n",
       "count   9999.000000     9999.000000                   9999.000000   \n",
       "mean      15.592859        0.026503                      0.018802   \n",
       "std        8.730670        0.160633                      0.291999   \n",
       "min        1.000000        0.000000                      0.000000   \n",
       "25%        8.000000        0.000000                      0.000000   \n",
       "50%       15.000000        0.000000                      0.000000   \n",
       "75%       23.000000        0.000000                      0.000000   \n",
       "max       31.000000        1.000000                     11.000000   \n",
       "\n",
       "       no_of_previous_bookings_not_canceled  avg_price_per_room  \\\n",
       "count                           9999.000000         9999.000000   \n",
       "mean                               0.152615         2825.975798   \n",
       "std                                1.698614         4432.299494   \n",
       "min                                0.000000            0.000000   \n",
       "25%                                0.000000          100.000000   \n",
       "50%                                0.000000          792.000000   \n",
       "75%                                0.000000         1911.500000   \n",
       "max                               53.000000        26667.000000   \n",
       "\n",
       "       no_of_special_requests  \n",
       "count             9999.000000  \n",
       "mean                 0.638064  \n",
       "std                  0.795765  \n",
       "min                  0.000000  \n",
       "25%                  0.000000  \n",
       "50%                  0.000000  \n",
       "75%                  1.000000  \n",
       "max                  5.000000  "
      ]
     },
     "execution_count": 14,
     "metadata": {},
     "output_type": "execute_result"
    }
   ],
   "source": [
    "summarizeNumCol"
   ]
  },
  {
   "cell_type": "code",
   "execution_count": 15,
   "id": "14260b8d",
   "metadata": {},
   "outputs": [],
   "source": [
    "cnt=df[\"arrival_date\"].count()"
   ]
  },
  {
   "cell_type": "code",
   "execution_count": 16,
   "id": "dd70a6d9",
   "metadata": {},
   "outputs": [
    {
     "name": "stdout",
     "output_type": "stream",
     "text": [
      "Count--> 9999\n"
     ]
    }
   ],
   "source": [
    "print(\"Count-->\",cnt)# arrival date sütununda kaç satır var"
   ]
  },
  {
   "cell_type": "code",
   "execution_count": 17,
   "id": "2fa9eee0",
   "metadata": {},
   "outputs": [],
   "source": [
    "summ=df[\"arrival_date\"].astype(float).sum()"
   ]
  },
  {
   "cell_type": "code",
   "execution_count": 18,
   "id": "9c55c8b2",
   "metadata": {},
   "outputs": [
    {
     "name": "stdout",
     "output_type": "stream",
     "text": [
      "Toplam--> 155913.0\n"
     ]
    }
   ],
   "source": [
    "print(\"Toplam-->\",summ)#arrival date sütunun toplamı"
   ]
  },
  {
   "cell_type": "code",
   "execution_count": 19,
   "id": "4ed1dc8e",
   "metadata": {},
   "outputs": [],
   "source": [
    "meann=df[\"arrival_date\"].astype(float).mean()"
   ]
  },
  {
   "cell_type": "code",
   "execution_count": 20,
   "id": "481f9c83",
   "metadata": {},
   "outputs": [
    {
     "name": "stdout",
     "output_type": "stream",
     "text": [
      "Ortalama--> 15.592859285928593\n"
     ]
    }
   ],
   "source": [
    "print(\"Ortalama-->\",meann)#arrival date sütunun ortalaması"
   ]
  },
  {
   "cell_type": "code",
   "execution_count": 21,
   "id": "e248ba41",
   "metadata": {},
   "outputs": [],
   "source": [
    "medyan=df[\"arrival_date\"].median()"
   ]
  },
  {
   "cell_type": "code",
   "execution_count": 22,
   "id": "e3159284",
   "metadata": {},
   "outputs": [
    {
     "name": "stdout",
     "output_type": "stream",
     "text": [
      "Medyan= 15.0\n"
     ]
    }
   ],
   "source": [
    "print(\"Medyan=\",medyan)#arrival date sütununun medyanı"
   ]
  },
  {
   "cell_type": "code",
   "execution_count": 23,
   "id": "5454ee1f",
   "metadata": {},
   "outputs": [],
   "source": [
    "std=df[\"arrival_date\"].std()"
   ]
  },
  {
   "cell_type": "code",
   "execution_count": 24,
   "id": "3acd50ed",
   "metadata": {},
   "outputs": [
    {
     "name": "stdout",
     "output_type": "stream",
     "text": [
      "Standart Sapma--> 8.730669959108969\n"
     ]
    }
   ],
   "source": [
    "print(\"Standart Sapma-->\",std)#arrival date sütununun standart sapması"
   ]
  },
  {
   "cell_type": "code",
   "execution_count": 25,
   "id": "5ae6dd7e",
   "metadata": {},
   "outputs": [],
   "source": [
    "minn=df[\"arrival_date\"].min()"
   ]
  },
  {
   "cell_type": "code",
   "execution_count": 26,
   "id": "e1e7b078",
   "metadata": {},
   "outputs": [
    {
     "name": "stdout",
     "output_type": "stream",
     "text": [
      "Minimum--> 1\n"
     ]
    }
   ],
   "source": [
    "print(\"Minimum-->\",minn)#arrival date sütununun minimum değeri"
   ]
  },
  {
   "cell_type": "code",
   "execution_count": 27,
   "id": "7aae2add",
   "metadata": {},
   "outputs": [],
   "source": [
    "maximum=df[\"arrival_date\"].max()"
   ]
  },
  {
   "cell_type": "code",
   "execution_count": 28,
   "id": "aa62db49",
   "metadata": {},
   "outputs": [
    {
     "name": "stdout",
     "output_type": "stream",
     "text": [
      "Maximum--> 31\n"
     ]
    }
   ],
   "source": [
    "print(\"Maximum-->\",maximum)#arrival date sütununun maksimum değeri"
   ]
  },
  {
   "cell_type": "code",
   "execution_count": 29,
   "id": "bbff2dde",
   "metadata": {},
   "outputs": [],
   "source": [
    "kümtop=df[\"arrival_date\"].cumsum#arrival date sütununun kümülatif toplamı"
   ]
  },
  {
   "cell_type": "code",
   "execution_count": 30,
   "id": "17371e0d",
   "metadata": {},
   "outputs": [
    {
     "name": "stdout",
     "output_type": "stream",
     "text": [
      "Kümülatif Toplam--> <bound method NDFrame._add_numeric_operations.<locals>.cumsum of 0        2\n",
      "1        6\n",
      "2       28\n",
      "3       20\n",
      "4       11\n",
      "        ..\n",
      "9994    24\n",
      "9995     3\n",
      "9996    12\n",
      "9997    12\n",
      "9998    20\n",
      "Name: arrival_date, Length: 9999, dtype: int64>\n"
     ]
    }
   ],
   "source": [
    "print(\"Kümülatif Toplam-->\",kümtop)"
   ]
  },
  {
   "cell_type": "code",
   "execution_count": 31,
   "id": "7ffac51e",
   "metadata": {},
   "outputs": [],
   "source": [
    "siralanmisveri=df.sort_values(by='arrival_date')"
   ]
  },
  {
   "cell_type": "code",
   "execution_count": 32,
   "id": "77ab0194",
   "metadata": {},
   "outputs": [
    {
     "name": "stdout",
     "output_type": "stream",
     "text": [
      "'arrival_date'kolonuna göre sıralama:\n"
     ]
    }
   ],
   "source": [
    "print(\"'arrival_date'kolonuna göre sıralama:\")"
   ]
  },
  {
   "cell_type": "code",
   "execution_count": 33,
   "id": "93f666dc",
   "metadata": {},
   "outputs": [],
   "source": [
    "grupluverilerinort=(df.groupby(\"no_of_special_requests\").mean())"
   ]
  },
  {
   "cell_type": "code",
   "execution_count": 34,
   "id": "95537b15",
   "metadata": {},
   "outputs": [
    {
     "name": "stdout",
     "output_type": "stream",
     "text": [
      "Gruplu Verilerin Ortalamaları:\n"
     ]
    }
   ],
   "source": [
    "print(\"Gruplu Verilerin Ortalamaları:\")"
   ]
  },
  {
   "cell_type": "code",
   "execution_count": 35,
   "id": "5ff3158f",
   "metadata": {},
   "outputs": [
    {
     "data": {
      "text/html": [
       "<div>\n",
       "<style scoped>\n",
       "    .dataframe tbody tr th:only-of-type {\n",
       "        vertical-align: middle;\n",
       "    }\n",
       "\n",
       "    .dataframe tbody tr th {\n",
       "        vertical-align: top;\n",
       "    }\n",
       "\n",
       "    .dataframe thead th {\n",
       "        text-align: right;\n",
       "    }\n",
       "</style>\n",
       "<table border=\"1\" class=\"dataframe\">\n",
       "  <thead>\n",
       "    <tr style=\"text-align: right;\">\n",
       "      <th></th>\n",
       "      <th>no_of_adults</th>\n",
       "      <th>no_of_children</th>\n",
       "      <th>no_of_weekend_nights</th>\n",
       "      <th>no_of_week_nights</th>\n",
       "      <th>required_car_parking_space</th>\n",
       "      <th>lead_time</th>\n",
       "      <th>arrival_year</th>\n",
       "      <th>arrival_month</th>\n",
       "      <th>arrival_date</th>\n",
       "      <th>repeated_guest</th>\n",
       "      <th>no_of_previous_cancellations</th>\n",
       "      <th>no_of_previous_bookings_not_canceled</th>\n",
       "      <th>avg_price_per_room</th>\n",
       "    </tr>\n",
       "    <tr>\n",
       "      <th>no_of_special_requests</th>\n",
       "      <th></th>\n",
       "      <th></th>\n",
       "      <th></th>\n",
       "      <th></th>\n",
       "      <th></th>\n",
       "      <th></th>\n",
       "      <th></th>\n",
       "      <th></th>\n",
       "      <th></th>\n",
       "      <th></th>\n",
       "      <th></th>\n",
       "      <th></th>\n",
       "      <th></th>\n",
       "    </tr>\n",
       "  </thead>\n",
       "  <tbody>\n",
       "    <tr>\n",
       "      <th>0</th>\n",
       "      <td>1.766892</td>\n",
       "      <td>0.067380</td>\n",
       "      <td>0.753003</td>\n",
       "      <td>2.138514</td>\n",
       "      <td>0.018206</td>\n",
       "      <td>92.882132</td>\n",
       "      <td>2017.800113</td>\n",
       "      <td>7.170608</td>\n",
       "      <td>15.381569</td>\n",
       "      <td>0.027778</td>\n",
       "      <td>0.016517</td>\n",
       "      <td>0.120308</td>\n",
       "      <td>2200.769895</td>\n",
       "    </tr>\n",
       "    <tr>\n",
       "      <th>1</th>\n",
       "      <td>1.913879</td>\n",
       "      <td>0.118649</td>\n",
       "      <td>0.869269</td>\n",
       "      <td>2.260533</td>\n",
       "      <td>0.048637</td>\n",
       "      <td>79.048017</td>\n",
       "      <td>2017.871128</td>\n",
       "      <td>7.349442</td>\n",
       "      <td>15.576208</td>\n",
       "      <td>0.028810</td>\n",
       "      <td>0.024164</td>\n",
       "      <td>0.181846</td>\n",
       "      <td>3566.456939</td>\n",
       "    </tr>\n",
       "    <tr>\n",
       "      <th>2</th>\n",
       "      <td>2.036424</td>\n",
       "      <td>0.193709</td>\n",
       "      <td>0.894040</td>\n",
       "      <td>2.266556</td>\n",
       "      <td>0.048013</td>\n",
       "      <td>73.125828</td>\n",
       "      <td>2017.810430</td>\n",
       "      <td>8.229305</td>\n",
       "      <td>16.376656</td>\n",
       "      <td>0.013245</td>\n",
       "      <td>0.014073</td>\n",
       "      <td>0.227649</td>\n",
       "      <td>3534.115066</td>\n",
       "    </tr>\n",
       "    <tr>\n",
       "      <th>3</th>\n",
       "      <td>2.014354</td>\n",
       "      <td>0.196172</td>\n",
       "      <td>0.947368</td>\n",
       "      <td>2.392344</td>\n",
       "      <td>0.071770</td>\n",
       "      <td>66.066986</td>\n",
       "      <td>2017.779904</td>\n",
       "      <td>9.000000</td>\n",
       "      <td>16.464115</td>\n",
       "      <td>0.028708</td>\n",
       "      <td>0.023923</td>\n",
       "      <td>0.076555</td>\n",
       "      <td>2981.555024</td>\n",
       "    </tr>\n",
       "    <tr>\n",
       "      <th>4</th>\n",
       "      <td>1.904762</td>\n",
       "      <td>0.428571</td>\n",
       "      <td>1.000000</td>\n",
       "      <td>2.142857</td>\n",
       "      <td>0.047619</td>\n",
       "      <td>78.761905</td>\n",
       "      <td>2017.857143</td>\n",
       "      <td>9.380952</td>\n",
       "      <td>17.047619</td>\n",
       "      <td>0.095238</td>\n",
       "      <td>0.000000</td>\n",
       "      <td>0.333333</td>\n",
       "      <td>3737.047619</td>\n",
       "    </tr>\n",
       "    <tr>\n",
       "      <th>5</th>\n",
       "      <td>2.200000</td>\n",
       "      <td>0.000000</td>\n",
       "      <td>1.000000</td>\n",
       "      <td>2.600000</td>\n",
       "      <td>0.000000</td>\n",
       "      <td>41.400000</td>\n",
       "      <td>2017.800000</td>\n",
       "      <td>10.000000</td>\n",
       "      <td>19.600000</td>\n",
       "      <td>0.000000</td>\n",
       "      <td>0.000000</td>\n",
       "      <td>0.000000</td>\n",
       "      <td>9574.600000</td>\n",
       "    </tr>\n",
       "  </tbody>\n",
       "</table>\n",
       "</div>"
      ],
      "text/plain": [
       "                        no_of_adults  no_of_children  no_of_weekend_nights  \\\n",
       "no_of_special_requests                                                       \n",
       "0                           1.766892        0.067380              0.753003   \n",
       "1                           1.913879        0.118649              0.869269   \n",
       "2                           2.036424        0.193709              0.894040   \n",
       "3                           2.014354        0.196172              0.947368   \n",
       "4                           1.904762        0.428571              1.000000   \n",
       "5                           2.200000        0.000000              1.000000   \n",
       "\n",
       "                        no_of_week_nights  required_car_parking_space  \\\n",
       "no_of_special_requests                                                  \n",
       "0                                2.138514                    0.018206   \n",
       "1                                2.260533                    0.048637   \n",
       "2                                2.266556                    0.048013   \n",
       "3                                2.392344                    0.071770   \n",
       "4                                2.142857                    0.047619   \n",
       "5                                2.600000                    0.000000   \n",
       "\n",
       "                        lead_time  arrival_year  arrival_month  arrival_date  \\\n",
       "no_of_special_requests                                                         \n",
       "0                       92.882132   2017.800113       7.170608     15.381569   \n",
       "1                       79.048017   2017.871128       7.349442     15.576208   \n",
       "2                       73.125828   2017.810430       8.229305     16.376656   \n",
       "3                       66.066986   2017.779904       9.000000     16.464115   \n",
       "4                       78.761905   2017.857143       9.380952     17.047619   \n",
       "5                       41.400000   2017.800000      10.000000     19.600000   \n",
       "\n",
       "                        repeated_guest  no_of_previous_cancellations  \\\n",
       "no_of_special_requests                                                 \n",
       "0                             0.027778                      0.016517   \n",
       "1                             0.028810                      0.024164   \n",
       "2                             0.013245                      0.014073   \n",
       "3                             0.028708                      0.023923   \n",
       "4                             0.095238                      0.000000   \n",
       "5                             0.000000                      0.000000   \n",
       "\n",
       "                        no_of_previous_bookings_not_canceled  \\\n",
       "no_of_special_requests                                         \n",
       "0                                                   0.120308   \n",
       "1                                                   0.181846   \n",
       "2                                                   0.227649   \n",
       "3                                                   0.076555   \n",
       "4                                                   0.333333   \n",
       "5                                                   0.000000   \n",
       "\n",
       "                        avg_price_per_room  \n",
       "no_of_special_requests                      \n",
       "0                              2200.769895  \n",
       "1                              3566.456939  \n",
       "2                              3534.115066  \n",
       "3                              2981.555024  \n",
       "4                              3737.047619  \n",
       "5                              9574.600000  "
      ]
     },
     "execution_count": 35,
     "metadata": {},
     "output_type": "execute_result"
    }
   ],
   "source": [
    "grupluverilerinort"
   ]
  },
  {
   "cell_type": "code",
   "execution_count": 36,
   "id": "7e89d7f6",
   "metadata": {},
   "outputs": [
    {
     "data": {
      "text/plain": [
       "0"
      ]
     },
     "execution_count": 36,
     "metadata": {},
     "output_type": "execute_result"
    }
   ],
   "source": [
    "df.duplicated().sum()"
   ]
  },
  {
   "cell_type": "code",
   "execution_count": 37,
   "id": "52fd0fe5",
   "metadata": {},
   "outputs": [],
   "source": [
    "dropDuplicatedData=df.drop_duplicates()"
   ]
  },
  {
   "cell_type": "code",
   "execution_count": 38,
   "id": "84b26eb7",
   "metadata": {},
   "outputs": [],
   "source": [
    "missingValue=df.isnull()"
   ]
  },
  {
   "cell_type": "code",
   "execution_count": 39,
   "id": "b7bac699",
   "metadata": {},
   "outputs": [
    {
     "data": {
      "text/plain": [
       "Booking_ID                              0\n",
       "no_of_adults                            0\n",
       "no_of_children                          0\n",
       "no_of_weekend_nights                    0\n",
       "no_of_week_nights                       0\n",
       "type_of_meal_plan                       0\n",
       "required_car_parking_space              0\n",
       "room_type_reserved                      0\n",
       "lead_time                               0\n",
       "arrival_year                            0\n",
       "arrival_month                           0\n",
       "arrival_date                            0\n",
       "market_segment_type                     0\n",
       "repeated_guest                          0\n",
       "no_of_previous_cancellations            0\n",
       "no_of_previous_bookings_not_canceled    0\n",
       "avg_price_per_room                      0\n",
       "no_of_special_requests                  0\n",
       "booking_status                          0\n",
       "dtype: int64"
      ]
     },
     "execution_count": 39,
     "metadata": {},
     "output_type": "execute_result"
    }
   ],
   "source": [
    "df.isnull().sum()"
   ]
  },
  {
   "cell_type": "code",
   "execution_count": 40,
   "id": "56103a45",
   "metadata": {},
   "outputs": [],
   "source": [
    "df1=df.dropna()"
   ]
  },
  {
   "cell_type": "code",
   "execution_count": 41,
   "id": "4ce87fd4",
   "metadata": {},
   "outputs": [],
   "source": [
    "missingValue=df1.isnull()"
   ]
  },
  {
   "cell_type": "code",
   "execution_count": 42,
   "id": "04af894f",
   "metadata": {},
   "outputs": [
    {
     "data": {
      "text/plain": [
       "Booking_ID                              0\n",
       "no_of_adults                            0\n",
       "no_of_children                          0\n",
       "no_of_weekend_nights                    0\n",
       "no_of_week_nights                       0\n",
       "type_of_meal_plan                       0\n",
       "required_car_parking_space              0\n",
       "room_type_reserved                      0\n",
       "lead_time                               0\n",
       "arrival_year                            0\n",
       "arrival_month                           0\n",
       "arrival_date                            0\n",
       "market_segment_type                     0\n",
       "repeated_guest                          0\n",
       "no_of_previous_cancellations            0\n",
       "no_of_previous_bookings_not_canceled    0\n",
       "avg_price_per_room                      0\n",
       "no_of_special_requests                  0\n",
       "booking_status                          0\n",
       "dtype: int64"
      ]
     },
     "execution_count": 42,
     "metadata": {},
     "output_type": "execute_result"
    }
   ],
   "source": [
    "df1.isnull().sum()"
   ]
  },
  {
   "cell_type": "code",
   "execution_count": 43,
   "id": "70d73de7",
   "metadata": {},
   "outputs": [],
   "source": [
    "df['lead_time'].fillna(0,inplace=True)"
   ]
  },
  {
   "cell_type": "code",
   "execution_count": 44,
   "id": "1ac34f46",
   "metadata": {},
   "outputs": [],
   "source": [
    "lead_time=df['lead_time']"
   ]
  },
  {
   "cell_type": "code",
   "execution_count": 45,
   "id": "138e977c",
   "metadata": {},
   "outputs": [],
   "source": [
    "df['booking_status'].fillna(0,inplace=True)"
   ]
  },
  {
   "cell_type": "code",
   "execution_count": 46,
   "id": "27721ac6",
   "metadata": {},
   "outputs": [],
   "source": [
    "booking_status=df['booking_status']"
   ]
  },
  {
   "cell_type": "code",
   "execution_count": 47,
   "id": "f8ebe148",
   "metadata": {},
   "outputs": [],
   "source": [
    "df1['arrival_date'].fillna(df1[\"arrival_date\"].mean(),inplace=True)"
   ]
  },
  {
   "cell_type": "code",
   "execution_count": 48,
   "id": "3d00f405",
   "metadata": {},
   "outputs": [],
   "source": [
    "arrival_date=df1['arrival_date']"
   ]
  },
  {
   "cell_type": "code",
   "execution_count": 49,
   "id": "62f7872d",
   "metadata": {
    "scrolled": true
   },
   "outputs": [
    {
     "data": {
      "text/html": [
       "<div>\n",
       "<style scoped>\n",
       "    .dataframe tbody tr th:only-of-type {\n",
       "        vertical-align: middle;\n",
       "    }\n",
       "\n",
       "    .dataframe tbody tr th {\n",
       "        vertical-align: top;\n",
       "    }\n",
       "\n",
       "    .dataframe thead th {\n",
       "        text-align: right;\n",
       "    }\n",
       "</style>\n",
       "<table border=\"1\" class=\"dataframe\">\n",
       "  <thead>\n",
       "    <tr style=\"text-align: right;\">\n",
       "      <th></th>\n",
       "      <th>Booking_ID</th>\n",
       "      <th>no_of_adults</th>\n",
       "      <th>no_of_children</th>\n",
       "      <th>no_of_weekend_nights</th>\n",
       "      <th>no_of_week_nights</th>\n",
       "      <th>type_of_meal_plan</th>\n",
       "      <th>required_car_parking_space</th>\n",
       "      <th>room_type_reserved</th>\n",
       "      <th>lead_time</th>\n",
       "      <th>arrival_year</th>\n",
       "      <th>arrival_month</th>\n",
       "      <th>arrival_date</th>\n",
       "      <th>market_segment_type</th>\n",
       "      <th>repeated_guest</th>\n",
       "      <th>no_of_previous_cancellations</th>\n",
       "      <th>no_of_previous_bookings_not_canceled</th>\n",
       "      <th>avg_price_per_room</th>\n",
       "      <th>no_of_special_requests</th>\n",
       "      <th>booking_status</th>\n",
       "    </tr>\n",
       "  </thead>\n",
       "  <tbody>\n",
       "    <tr>\n",
       "      <th>0</th>\n",
       "      <td>INN00001</td>\n",
       "      <td>2</td>\n",
       "      <td>0</td>\n",
       "      <td>1</td>\n",
       "      <td>2</td>\n",
       "      <td>Meal Plan 1</td>\n",
       "      <td>0</td>\n",
       "      <td>Room_Type 1</td>\n",
       "      <td>224</td>\n",
       "      <td>2017</td>\n",
       "      <td>10</td>\n",
       "      <td>2</td>\n",
       "      <td>Offline</td>\n",
       "      <td>0</td>\n",
       "      <td>0</td>\n",
       "      <td>0</td>\n",
       "      <td>65</td>\n",
       "      <td>0</td>\n",
       "      <td>Not_Canceled</td>\n",
       "    </tr>\n",
       "    <tr>\n",
       "      <th>1</th>\n",
       "      <td>INN00002</td>\n",
       "      <td>2</td>\n",
       "      <td>0</td>\n",
       "      <td>2</td>\n",
       "      <td>3</td>\n",
       "      <td>Not Selected</td>\n",
       "      <td>0</td>\n",
       "      <td>Room_Type 1</td>\n",
       "      <td>5</td>\n",
       "      <td>2018</td>\n",
       "      <td>11</td>\n",
       "      <td>6</td>\n",
       "      <td>Online</td>\n",
       "      <td>0</td>\n",
       "      <td>0</td>\n",
       "      <td>0</td>\n",
       "      <td>10668</td>\n",
       "      <td>1</td>\n",
       "      <td>Not_Canceled</td>\n",
       "    </tr>\n",
       "    <tr>\n",
       "      <th>2</th>\n",
       "      <td>INN00003</td>\n",
       "      <td>1</td>\n",
       "      <td>0</td>\n",
       "      <td>2</td>\n",
       "      <td>1</td>\n",
       "      <td>Meal Plan 1</td>\n",
       "      <td>0</td>\n",
       "      <td>Room_Type 1</td>\n",
       "      <td>1</td>\n",
       "      <td>2018</td>\n",
       "      <td>2</td>\n",
       "      <td>28</td>\n",
       "      <td>Online</td>\n",
       "      <td>0</td>\n",
       "      <td>0</td>\n",
       "      <td>0</td>\n",
       "      <td>60</td>\n",
       "      <td>0</td>\n",
       "      <td>Canceled</td>\n",
       "    </tr>\n",
       "    <tr>\n",
       "      <th>3</th>\n",
       "      <td>INN00004</td>\n",
       "      <td>2</td>\n",
       "      <td>0</td>\n",
       "      <td>0</td>\n",
       "      <td>2</td>\n",
       "      <td>Meal Plan 1</td>\n",
       "      <td>0</td>\n",
       "      <td>Room_Type 1</td>\n",
       "      <td>211</td>\n",
       "      <td>2018</td>\n",
       "      <td>5</td>\n",
       "      <td>20</td>\n",
       "      <td>Online</td>\n",
       "      <td>0</td>\n",
       "      <td>0</td>\n",
       "      <td>0</td>\n",
       "      <td>100</td>\n",
       "      <td>0</td>\n",
       "      <td>Canceled</td>\n",
       "    </tr>\n",
       "    <tr>\n",
       "      <th>4</th>\n",
       "      <td>INN00005</td>\n",
       "      <td>2</td>\n",
       "      <td>0</td>\n",
       "      <td>1</td>\n",
       "      <td>1</td>\n",
       "      <td>Not Selected</td>\n",
       "      <td>0</td>\n",
       "      <td>Room_Type 1</td>\n",
       "      <td>48</td>\n",
       "      <td>2018</td>\n",
       "      <td>4</td>\n",
       "      <td>11</td>\n",
       "      <td>Online</td>\n",
       "      <td>0</td>\n",
       "      <td>0</td>\n",
       "      <td>0</td>\n",
       "      <td>945</td>\n",
       "      <td>0</td>\n",
       "      <td>Canceled</td>\n",
       "    </tr>\n",
       "  </tbody>\n",
       "</table>\n",
       "</div>"
      ],
      "text/plain": [
       "  Booking_ID  no_of_adults  no_of_children  no_of_weekend_nights  \\\n",
       "0   INN00001             2               0                     1   \n",
       "1   INN00002             2               0                     2   \n",
       "2   INN00003             1               0                     2   \n",
       "3   INN00004             2               0                     0   \n",
       "4   INN00005             2               0                     1   \n",
       "\n",
       "   no_of_week_nights type_of_meal_plan  required_car_parking_space  \\\n",
       "0                  2       Meal Plan 1                           0   \n",
       "1                  3      Not Selected                           0   \n",
       "2                  1       Meal Plan 1                           0   \n",
       "3                  2       Meal Plan 1                           0   \n",
       "4                  1      Not Selected                           0   \n",
       "\n",
       "  room_type_reserved  lead_time  arrival_year  arrival_month  arrival_date  \\\n",
       "0        Room_Type 1        224          2017             10             2   \n",
       "1        Room_Type 1          5          2018             11             6   \n",
       "2        Room_Type 1          1          2018              2            28   \n",
       "3        Room_Type 1        211          2018              5            20   \n",
       "4        Room_Type 1         48          2018              4            11   \n",
       "\n",
       "  market_segment_type  repeated_guest  no_of_previous_cancellations  \\\n",
       "0             Offline               0                             0   \n",
       "1              Online               0                             0   \n",
       "2              Online               0                             0   \n",
       "3              Online               0                             0   \n",
       "4              Online               0                             0   \n",
       "\n",
       "   no_of_previous_bookings_not_canceled  avg_price_per_room  \\\n",
       "0                                     0                  65   \n",
       "1                                     0               10668   \n",
       "2                                     0                  60   \n",
       "3                                     0                 100   \n",
       "4                                     0                 945   \n",
       "\n",
       "   no_of_special_requests booking_status  \n",
       "0                       0   Not_Canceled  \n",
       "1                       1   Not_Canceled  \n",
       "2                       0       Canceled  \n",
       "3                       0       Canceled  \n",
       "4                       0       Canceled  "
      ]
     },
     "execution_count": 49,
     "metadata": {},
     "output_type": "execute_result"
    }
   ],
   "source": [
    "df.head()"
   ]
  },
  {
   "cell_type": "code",
   "execution_count": 50,
   "id": "0c9338ea",
   "metadata": {},
   "outputs": [
    {
     "data": {
      "text/plain": [
       "0       224\n",
       "1         5\n",
       "2         1\n",
       "3       211\n",
       "4        48\n",
       "       ... \n",
       "9994    109\n",
       "9995     55\n",
       "9996      2\n",
       "9997    105\n",
       "9998    207\n",
       "Name: lead_time, Length: 9999, dtype: int64"
      ]
     },
     "execution_count": 50,
     "metadata": {},
     "output_type": "execute_result"
    }
   ],
   "source": [
    "df['lead_time']#istediğimiz sütunun verilerini çağırma"
   ]
  },
  {
   "cell_type": "code",
   "execution_count": 51,
   "id": "eb00aeb1",
   "metadata": {},
   "outputs": [
    {
     "data": {
      "text/plain": [
       "0     224\n",
       "1       5\n",
       "2       1\n",
       "3     211\n",
       "4      48\n",
       "5     346\n",
       "6      34\n",
       "7      83\n",
       "8     121\n",
       "9      44\n",
       "10      0\n",
       "11     35\n",
       "12     30\n",
       "13     95\n",
       "14     47\n",
       "Name: lead_time, dtype: int64"
      ]
     },
     "execution_count": 51,
     "metadata": {},
     "output_type": "execute_result"
    }
   ],
   "source": [
    "df['lead_time'][:15]#istediğimiz sütundan isteğe bağlı satır sayısı kadar veri çağırma"
   ]
  },
  {
   "cell_type": "code",
   "execution_count": 52,
   "id": "7bf8e91c",
   "metadata": {},
   "outputs": [],
   "source": [
    "df2=df[[\"lead_time\",\"avg_price_per_room\"]]#istediğimiz sütunların bileşik çağırma"
   ]
  },
  {
   "cell_type": "code",
   "execution_count": 53,
   "id": "a72e5562",
   "metadata": {
    "scrolled": true
   },
   "outputs": [
    {
     "data": {
      "text/html": [
       "<div>\n",
       "<style scoped>\n",
       "    .dataframe tbody tr th:only-of-type {\n",
       "        vertical-align: middle;\n",
       "    }\n",
       "\n",
       "    .dataframe tbody tr th {\n",
       "        vertical-align: top;\n",
       "    }\n",
       "\n",
       "    .dataframe thead th {\n",
       "        text-align: right;\n",
       "    }\n",
       "</style>\n",
       "<table border=\"1\" class=\"dataframe\">\n",
       "  <thead>\n",
       "    <tr style=\"text-align: right;\">\n",
       "      <th></th>\n",
       "      <th>lead_time</th>\n",
       "      <th>avg_price_per_room</th>\n",
       "    </tr>\n",
       "  </thead>\n",
       "  <tbody>\n",
       "    <tr>\n",
       "      <th>0</th>\n",
       "      <td>224</td>\n",
       "      <td>65</td>\n",
       "    </tr>\n",
       "    <tr>\n",
       "      <th>1</th>\n",
       "      <td>5</td>\n",
       "      <td>10668</td>\n",
       "    </tr>\n",
       "    <tr>\n",
       "      <th>2</th>\n",
       "      <td>1</td>\n",
       "      <td>60</td>\n",
       "    </tr>\n",
       "    <tr>\n",
       "      <th>3</th>\n",
       "      <td>211</td>\n",
       "      <td>100</td>\n",
       "    </tr>\n",
       "    <tr>\n",
       "      <th>4</th>\n",
       "      <td>48</td>\n",
       "      <td>945</td>\n",
       "    </tr>\n",
       "  </tbody>\n",
       "</table>\n",
       "</div>"
      ],
      "text/plain": [
       "   lead_time  avg_price_per_room\n",
       "0        224                  65\n",
       "1          5               10668\n",
       "2          1                  60\n",
       "3        211                 100\n",
       "4         48                 945"
      ]
     },
     "execution_count": 53,
     "metadata": {},
     "output_type": "execute_result"
    }
   ],
   "source": [
    "df2.head()"
   ]
  },
  {
   "cell_type": "code",
   "execution_count": 54,
   "id": "71df8d3c",
   "metadata": {},
   "outputs": [
    {
     "data": {
      "text/html": [
       "<div>\n",
       "<style scoped>\n",
       "    .dataframe tbody tr th:only-of-type {\n",
       "        vertical-align: middle;\n",
       "    }\n",
       "\n",
       "    .dataframe tbody tr th {\n",
       "        vertical-align: top;\n",
       "    }\n",
       "\n",
       "    .dataframe thead th {\n",
       "        text-align: right;\n",
       "    }\n",
       "</style>\n",
       "<table border=\"1\" class=\"dataframe\">\n",
       "  <thead>\n",
       "    <tr style=\"text-align: right;\">\n",
       "      <th></th>\n",
       "      <th>lead_time</th>\n",
       "      <th>avg_price_per_room</th>\n",
       "    </tr>\n",
       "  </thead>\n",
       "  <tbody>\n",
       "    <tr>\n",
       "      <th>8041</th>\n",
       "      <td>0</td>\n",
       "      <td>9914</td>\n",
       "    </tr>\n",
       "    <tr>\n",
       "      <th>680</th>\n",
       "      <td>0</td>\n",
       "      <td>6974</td>\n",
       "    </tr>\n",
       "    <tr>\n",
       "      <th>2083</th>\n",
       "      <td>0</td>\n",
       "      <td>4184</td>\n",
       "    </tr>\n",
       "    <tr>\n",
       "      <th>3423</th>\n",
       "      <td>0</td>\n",
       "      <td>89</td>\n",
       "    </tr>\n",
       "    <tr>\n",
       "      <th>5205</th>\n",
       "      <td>0</td>\n",
       "      <td>155</td>\n",
       "    </tr>\n",
       "    <tr>\n",
       "      <th>...</th>\n",
       "      <td>...</td>\n",
       "      <td>...</td>\n",
       "    </tr>\n",
       "    <tr>\n",
       "      <th>1943</th>\n",
       "      <td>443</td>\n",
       "      <td>65</td>\n",
       "    </tr>\n",
       "    <tr>\n",
       "      <th>3373</th>\n",
       "      <td>443</td>\n",
       "      <td>65</td>\n",
       "    </tr>\n",
       "    <tr>\n",
       "      <th>3146</th>\n",
       "      <td>443</td>\n",
       "      <td>65</td>\n",
       "    </tr>\n",
       "    <tr>\n",
       "      <th>5211</th>\n",
       "      <td>443</td>\n",
       "      <td>65</td>\n",
       "    </tr>\n",
       "    <tr>\n",
       "      <th>2279</th>\n",
       "      <td>443</td>\n",
       "      <td>65</td>\n",
       "    </tr>\n",
       "  </tbody>\n",
       "</table>\n",
       "<p>9999 rows × 2 columns</p>\n",
       "</div>"
      ],
      "text/plain": [
       "      lead_time  avg_price_per_room\n",
       "8041          0                9914\n",
       "680           0                6974\n",
       "2083          0                4184\n",
       "3423          0                  89\n",
       "5205          0                 155\n",
       "...         ...                 ...\n",
       "1943        443                  65\n",
       "3373        443                  65\n",
       "3146        443                  65\n",
       "5211        443                  65\n",
       "2279        443                  65\n",
       "\n",
       "[9999 rows x 2 columns]"
      ]
     },
     "execution_count": 54,
     "metadata": {},
     "output_type": "execute_result"
    }
   ],
   "source": [
    "df2.sort_values(\"lead_time\")#istediğimiz sütunun büyükten küçüğe doğru sıralanmış hali"
   ]
  },
  {
   "cell_type": "code",
   "execution_count": 55,
   "id": "77412ca3",
   "metadata": {},
   "outputs": [
    {
     "data": {
      "text/plain": [
       "0      353\n",
       "1      267\n",
       "2      187\n",
       "4      177\n",
       "6      167\n",
       "      ... \n",
       "352      1\n",
       "381      1\n",
       "361      1\n",
       "246      1\n",
       "306      1\n",
       "Name: lead_time, Length: 337, dtype: int64"
      ]
     },
     "execution_count": 55,
     "metadata": {},
     "output_type": "execute_result"
    }
   ],
   "source": [
    "df2[\"lead_time\"].value_counts()#çağırdığımız sütunun satır sayısı ve  veri tipini öğrenme"
   ]
  },
  {
   "cell_type": "code",
   "execution_count": 56,
   "id": "e36f6920",
   "metadata": {},
   "outputs": [
    {
     "data": {
      "text/plain": [
       "5"
      ]
     },
     "execution_count": 56,
     "metadata": {},
     "output_type": "execute_result"
    }
   ],
   "source": [
    "df2['lead_time'][1]#çağırdığımız sütunun isteğe bağlı satıra denk gelen değeri öğrenme"
   ]
  },
  {
   "cell_type": "code",
   "execution_count": 57,
   "id": "90385029",
   "metadata": {},
   "outputs": [
    {
     "data": {
      "text/html": [
       "<div>\n",
       "<style scoped>\n",
       "    .dataframe tbody tr th:only-of-type {\n",
       "        vertical-align: middle;\n",
       "    }\n",
       "\n",
       "    .dataframe tbody tr th {\n",
       "        vertical-align: top;\n",
       "    }\n",
       "\n",
       "    .dataframe thead th {\n",
       "        text-align: right;\n",
       "    }\n",
       "</style>\n",
       "<table border=\"1\" class=\"dataframe\">\n",
       "  <thead>\n",
       "    <tr style=\"text-align: right;\">\n",
       "      <th></th>\n",
       "      <th>lead_time</th>\n",
       "      <th>avg_price_per_room</th>\n",
       "    </tr>\n",
       "  </thead>\n",
       "  <tbody>\n",
       "    <tr>\n",
       "      <th>798</th>\n",
       "      <td>200</td>\n",
       "      <td>1054</td>\n",
       "    </tr>\n",
       "    <tr>\n",
       "      <th>1667</th>\n",
       "      <td>200</td>\n",
       "      <td>15045</td>\n",
       "    </tr>\n",
       "    <tr>\n",
       "      <th>2419</th>\n",
       "      <td>200</td>\n",
       "      <td>6218</td>\n",
       "    </tr>\n",
       "    <tr>\n",
       "      <th>2541</th>\n",
       "      <td>200</td>\n",
       "      <td>7225</td>\n",
       "    </tr>\n",
       "    <tr>\n",
       "      <th>2653</th>\n",
       "      <td>200</td>\n",
       "      <td>9095</td>\n",
       "    </tr>\n",
       "    <tr>\n",
       "      <th>3020</th>\n",
       "      <td>200</td>\n",
       "      <td>90</td>\n",
       "    </tr>\n",
       "    <tr>\n",
       "      <th>6914</th>\n",
       "      <td>200</td>\n",
       "      <td>12954</td>\n",
       "    </tr>\n",
       "    <tr>\n",
       "      <th>8482</th>\n",
       "      <td>200</td>\n",
       "      <td>15045</td>\n",
       "    </tr>\n",
       "  </tbody>\n",
       "</table>\n",
       "</div>"
      ],
      "text/plain": [
       "      lead_time  avg_price_per_room\n",
       "798         200                1054\n",
       "1667        200               15045\n",
       "2419        200                6218\n",
       "2541        200                7225\n",
       "2653        200                9095\n",
       "3020        200                  90\n",
       "6914        200               12954\n",
       "8482        200               15045"
      ]
     },
     "execution_count": 57,
     "metadata": {},
     "output_type": "execute_result"
    }
   ],
   "source": [
    "df2.loc[df2['lead_time']==200]#lead time sütunun değeri 200 olan satırları çağırma"
   ]
  },
  {
   "cell_type": "code",
   "execution_count": 58,
   "id": "8ec9233b",
   "metadata": {},
   "outputs": [
    {
     "data": {
      "text/plain": [
       "pandas.core.frame.DataFrame"
      ]
     },
     "execution_count": 58,
     "metadata": {},
     "output_type": "execute_result"
    }
   ],
   "source": [
    "type(df2.loc[df2['lead_time']==200])"
   ]
  },
  {
   "cell_type": "code",
   "execution_count": 59,
   "id": "2c2127c9",
   "metadata": {},
   "outputs": [
    {
     "data": {
      "text/html": [
       "<div>\n",
       "<style scoped>\n",
       "    .dataframe tbody tr th:only-of-type {\n",
       "        vertical-align: middle;\n",
       "    }\n",
       "\n",
       "    .dataframe tbody tr th {\n",
       "        vertical-align: top;\n",
       "    }\n",
       "\n",
       "    .dataframe thead th {\n",
       "        text-align: right;\n",
       "    }\n",
       "</style>\n",
       "<table border=\"1\" class=\"dataframe\">\n",
       "  <thead>\n",
       "    <tr style=\"text-align: right;\">\n",
       "      <th></th>\n",
       "      <th>lead_time</th>\n",
       "      <th>avg_price_per_room</th>\n",
       "    </tr>\n",
       "  </thead>\n",
       "  <tbody>\n",
       "    <tr>\n",
       "      <th>1</th>\n",
       "      <td>5</td>\n",
       "      <td>10668</td>\n",
       "    </tr>\n",
       "    <tr>\n",
       "      <th>2</th>\n",
       "      <td>1</td>\n",
       "      <td>60</td>\n",
       "    </tr>\n",
       "    <tr>\n",
       "      <th>4</th>\n",
       "      <td>48</td>\n",
       "      <td>945</td>\n",
       "    </tr>\n",
       "    <tr>\n",
       "      <th>6</th>\n",
       "      <td>34</td>\n",
       "      <td>10755</td>\n",
       "    </tr>\n",
       "    <tr>\n",
       "      <th>7</th>\n",
       "      <td>83</td>\n",
       "      <td>10561</td>\n",
       "    </tr>\n",
       "    <tr>\n",
       "      <th>...</th>\n",
       "      <td>...</td>\n",
       "      <td>...</td>\n",
       "    </tr>\n",
       "    <tr>\n",
       "      <th>9992</th>\n",
       "      <td>164</td>\n",
       "      <td>8925</td>\n",
       "    </tr>\n",
       "    <tr>\n",
       "      <th>9994</th>\n",
       "      <td>109</td>\n",
       "      <td>1521</td>\n",
       "    </tr>\n",
       "    <tr>\n",
       "      <th>9995</th>\n",
       "      <td>55</td>\n",
       "      <td>75</td>\n",
       "    </tr>\n",
       "    <tr>\n",
       "      <th>9996</th>\n",
       "      <td>2</td>\n",
       "      <td>13867</td>\n",
       "    </tr>\n",
       "    <tr>\n",
       "      <th>9997</th>\n",
       "      <td>105</td>\n",
       "      <td>75</td>\n",
       "    </tr>\n",
       "  </tbody>\n",
       "</table>\n",
       "<p>8838 rows × 2 columns</p>\n",
       "</div>"
      ],
      "text/plain": [
       "      lead_time  avg_price_per_room\n",
       "1             5               10668\n",
       "2             1                  60\n",
       "4            48                 945\n",
       "6            34               10755\n",
       "7            83               10561\n",
       "...         ...                 ...\n",
       "9992        164                8925\n",
       "9994        109                1521\n",
       "9995         55                  75\n",
       "9996          2               13867\n",
       "9997        105                  75\n",
       "\n",
       "[8838 rows x 2 columns]"
      ]
     },
     "execution_count": 59,
     "metadata": {},
     "output_type": "execute_result"
    }
   ],
   "source": [
    "df2.loc[df2['lead_time']<200]#lead time sütununda 200'den küçük olan değerleri çağırma"
   ]
  },
  {
   "cell_type": "code",
   "execution_count": 60,
   "id": "710a23fe",
   "metadata": {},
   "outputs": [
    {
     "data": {
      "text/html": [
       "<div>\n",
       "<style scoped>\n",
       "    .dataframe tbody tr th:only-of-type {\n",
       "        vertical-align: middle;\n",
       "    }\n",
       "\n",
       "    .dataframe tbody tr th {\n",
       "        vertical-align: top;\n",
       "    }\n",
       "\n",
       "    .dataframe thead th {\n",
       "        text-align: right;\n",
       "    }\n",
       "</style>\n",
       "<table border=\"1\" class=\"dataframe\">\n",
       "  <thead>\n",
       "    <tr style=\"text-align: right;\">\n",
       "      <th></th>\n",
       "      <th>lead_time</th>\n",
       "      <th>avg_price_per_room</th>\n",
       "    </tr>\n",
       "  </thead>\n",
       "  <tbody>\n",
       "    <tr>\n",
       "      <th>1</th>\n",
       "      <td>5</td>\n",
       "      <td>10668</td>\n",
       "    </tr>\n",
       "    <tr>\n",
       "      <th>4</th>\n",
       "      <td>48</td>\n",
       "      <td>945</td>\n",
       "    </tr>\n",
       "    <tr>\n",
       "      <th>6</th>\n",
       "      <td>34</td>\n",
       "      <td>10755</td>\n",
       "    </tr>\n",
       "    <tr>\n",
       "      <th>9</th>\n",
       "      <td>44</td>\n",
       "      <td>13344</td>\n",
       "    </tr>\n",
       "    <tr>\n",
       "      <th>10</th>\n",
       "      <td>0</td>\n",
       "      <td>8503</td>\n",
       "    </tr>\n",
       "    <tr>\n",
       "      <th>...</th>\n",
       "      <td>...</td>\n",
       "      <td>...</td>\n",
       "    </tr>\n",
       "    <tr>\n",
       "      <th>9985</th>\n",
       "      <td>30</td>\n",
       "      <td>1494</td>\n",
       "    </tr>\n",
       "    <tr>\n",
       "      <th>9986</th>\n",
       "      <td>28</td>\n",
       "      <td>1316</td>\n",
       "    </tr>\n",
       "    <tr>\n",
       "      <th>9987</th>\n",
       "      <td>49</td>\n",
       "      <td>9315</td>\n",
       "    </tr>\n",
       "    <tr>\n",
       "      <th>9989</th>\n",
       "      <td>6</td>\n",
       "      <td>1335</td>\n",
       "    </tr>\n",
       "    <tr>\n",
       "      <th>9996</th>\n",
       "      <td>2</td>\n",
       "      <td>13867</td>\n",
       "    </tr>\n",
       "  </tbody>\n",
       "</table>\n",
       "<p>2781 rows × 2 columns</p>\n",
       "</div>"
      ],
      "text/plain": [
       "      lead_time  avg_price_per_room\n",
       "1             5               10668\n",
       "4            48                 945\n",
       "6            34               10755\n",
       "9            44               13344\n",
       "10            0                8503\n",
       "...         ...                 ...\n",
       "9985         30                1494\n",
       "9986         28                1316\n",
       "9987         49                9315\n",
       "9989          6                1335\n",
       "9996          2               13867\n",
       "\n",
       "[2781 rows x 2 columns]"
      ]
     },
     "execution_count": 60,
     "metadata": {},
     "output_type": "execute_result"
    }
   ],
   "source": [
    "df2.loc[(df2['lead_time']<65) & (df2['avg_price_per_room']>150)]#lead time sütununde 65'ten küçük olan ve price per room sütununda 150'den büyük olan değerleri çağırma"
   ]
  },
  {
   "cell_type": "code",
   "execution_count": 61,
   "id": "459097b1",
   "metadata": {},
   "outputs": [
    {
     "data": {
      "text/plain": [
       "numpy.int64"
      ]
     },
     "execution_count": 61,
     "metadata": {},
     "output_type": "execute_result"
    }
   ],
   "source": [
    "df[\"lead_time\"]=pd.to_numeric(df[\"lead_time\"])\n",
    "type (df[\"lead_time\"][0])"
   ]
  },
  {
   "cell_type": "code",
   "execution_count": 62,
   "id": "7b83a874",
   "metadata": {},
   "outputs": [],
   "source": [
    "import random"
   ]
  },
  {
   "cell_type": "code",
   "execution_count": 63,
   "id": "af2f12fe",
   "metadata": {},
   "outputs": [],
   "source": [
    "randomlist1=random.sample(range(50,100),2)#50-100 arasında rassal 2 sayı üretme\n",
    "randomlist2=random.sample(range(50,150),2)"
   ]
  },
  {
   "cell_type": "code",
   "execution_count": 64,
   "id": "2adacfe5",
   "metadata": {},
   "outputs": [
    {
     "data": {
      "text/plain": [
       "[66, 61]"
      ]
     },
     "execution_count": 64,
     "metadata": {},
     "output_type": "execute_result"
    }
   ],
   "source": [
    "randomlist1"
   ]
  },
  {
   "cell_type": "code",
   "execution_count": 65,
   "id": "dba90601",
   "metadata": {},
   "outputs": [
    {
     "data": {
      "text/plain": [
       "[50, 63]"
      ]
     },
     "execution_count": 65,
     "metadata": {},
     "output_type": "execute_result"
    }
   ],
   "source": [
    "randomlist2"
   ]
  },
  {
   "cell_type": "code",
   "execution_count": 66,
   "id": "869b6c75",
   "metadata": {},
   "outputs": [],
   "source": [
    "randomlists=[randomlist1,randomlist2]"
   ]
  },
  {
   "cell_type": "code",
   "execution_count": 67,
   "id": "c3645de3",
   "metadata": {},
   "outputs": [
    {
     "data": {
      "text/plain": [
       "[[66, 61], [50, 63]]"
      ]
     },
     "execution_count": 67,
     "metadata": {},
     "output_type": "execute_result"
    }
   ],
   "source": [
    "randomlists"
   ]
  },
  {
   "cell_type": "code",
   "execution_count": 68,
   "id": "49e7c3fe",
   "metadata": {},
   "outputs": [],
   "source": [
    "columns=[\"birinci maç\",\"ikinci maç\"]#ürettiğimiz değerleri matris haline getirme\n",
    "esra=pd.DataFrame(randomlists,index=[\"ev sahibi\",\"misafir\"],columns=columns)"
   ]
  },
  {
   "cell_type": "code",
   "execution_count": 69,
   "id": "b946279e",
   "metadata": {},
   "outputs": [
    {
     "data": {
      "text/html": [
       "<div>\n",
       "<style scoped>\n",
       "    .dataframe tbody tr th:only-of-type {\n",
       "        vertical-align: middle;\n",
       "    }\n",
       "\n",
       "    .dataframe tbody tr th {\n",
       "        vertical-align: top;\n",
       "    }\n",
       "\n",
       "    .dataframe thead th {\n",
       "        text-align: right;\n",
       "    }\n",
       "</style>\n",
       "<table border=\"1\" class=\"dataframe\">\n",
       "  <thead>\n",
       "    <tr style=\"text-align: right;\">\n",
       "      <th></th>\n",
       "      <th>birinci maç</th>\n",
       "      <th>ikinci maç</th>\n",
       "    </tr>\n",
       "  </thead>\n",
       "  <tbody>\n",
       "    <tr>\n",
       "      <th>ev sahibi</th>\n",
       "      <td>66</td>\n",
       "      <td>61</td>\n",
       "    </tr>\n",
       "    <tr>\n",
       "      <th>misafir</th>\n",
       "      <td>50</td>\n",
       "      <td>63</td>\n",
       "    </tr>\n",
       "  </tbody>\n",
       "</table>\n",
       "</div>"
      ],
      "text/plain": [
       "           birinci maç  ikinci maç\n",
       "ev sahibi           66          61\n",
       "misafir             50          63"
      ]
     },
     "execution_count": 69,
     "metadata": {},
     "output_type": "execute_result"
    }
   ],
   "source": [
    "esra"
   ]
  },
  {
   "cell_type": "code",
   "execution_count": 70,
   "id": "4c2d7158",
   "metadata": {},
   "outputs": [],
   "source": [
    "x=np.array([2,6,10])# kendi verdiğim değerle matris üretme"
   ]
  },
  {
   "cell_type": "code",
   "execution_count": 71,
   "id": "ccff3f89",
   "metadata": {},
   "outputs": [],
   "source": [
    "y=np.array(([30,45,59],[18,26,40]))"
   ]
  },
  {
   "cell_type": "code",
   "execution_count": 72,
   "id": "fb7dd7f0",
   "metadata": {},
   "outputs": [
    {
     "name": "stdout",
     "output_type": "stream",
     "text": [
      "[ 2  6 10]\n"
     ]
    }
   ],
   "source": [
    "print(x)"
   ]
  },
  {
   "cell_type": "code",
   "execution_count": 73,
   "id": "4e33a435",
   "metadata": {},
   "outputs": [
    {
     "name": "stdout",
     "output_type": "stream",
     "text": [
      "[[30 45 59]\n",
      " [18 26 40]]\n"
     ]
    }
   ],
   "source": [
    "print(y)"
   ]
  },
  {
   "cell_type": "code",
   "execution_count": 74,
   "id": "2ba5545e",
   "metadata": {},
   "outputs": [
    {
     "data": {
      "text/plain": [
       "1"
      ]
     },
     "execution_count": 74,
     "metadata": {},
     "output_type": "execute_result"
    }
   ],
   "source": [
    "x.ndim #x matrisinin satır sayısı"
   ]
  },
  {
   "cell_type": "code",
   "execution_count": 75,
   "id": "03b04bb1",
   "metadata": {},
   "outputs": [
    {
     "data": {
      "text/plain": [
       "2"
      ]
     },
     "execution_count": 75,
     "metadata": {},
     "output_type": "execute_result"
    }
   ],
   "source": [
    "y.ndim#y matrisinin satır sayısı"
   ]
  },
  {
   "cell_type": "code",
   "execution_count": 76,
   "id": "d535b29b",
   "metadata": {},
   "outputs": [
    {
     "data": {
      "text/plain": [
       "(3,)"
      ]
     },
     "execution_count": 76,
     "metadata": {},
     "output_type": "execute_result"
    }
   ],
   "source": [
    "x.shape#x matrisinin sütun sayısı"
   ]
  },
  {
   "cell_type": "code",
   "execution_count": 77,
   "id": "044b1aee",
   "metadata": {},
   "outputs": [
    {
     "data": {
      "text/plain": [
       "(2, 3)"
      ]
     },
     "execution_count": 77,
     "metadata": {},
     "output_type": "execute_result"
    }
   ],
   "source": [
    "y.shape#y matrisinin sütun sayısı"
   ]
  },
  {
   "cell_type": "code",
   "execution_count": 78,
   "id": "da8a2a9a",
   "metadata": {},
   "outputs": [],
   "source": [
    "esra=np.zeros((5,6))#zeros komutu sadece 0'lardan ibaret 5x6'lık matris"
   ]
  },
  {
   "cell_type": "code",
   "execution_count": 79,
   "id": "80b6dc83",
   "metadata": {},
   "outputs": [
    {
     "data": {
      "text/plain": [
       "array([[0., 0., 0., 0., 0., 0.],\n",
       "       [0., 0., 0., 0., 0., 0.],\n",
       "       [0., 0., 0., 0., 0., 0.],\n",
       "       [0., 0., 0., 0., 0., 0.],\n",
       "       [0., 0., 0., 0., 0., 0.]])"
      ]
     },
     "execution_count": 79,
     "metadata": {},
     "output_type": "execute_result"
    }
   ],
   "source": [
    "esra"
   ]
  },
  {
   "cell_type": "code",
   "execution_count": 80,
   "id": "6084315a",
   "metadata": {},
   "outputs": [],
   "source": [
    "esra2=np.full((5,6),100)#sadece 100'lardan ibaret 5x6'lık matris"
   ]
  },
  {
   "cell_type": "code",
   "execution_count": 81,
   "id": "cc25efb0",
   "metadata": {},
   "outputs": [
    {
     "data": {
      "text/plain": [
       "array([[100, 100, 100, 100, 100, 100],\n",
       "       [100, 100, 100, 100, 100, 100],\n",
       "       [100, 100, 100, 100, 100, 100],\n",
       "       [100, 100, 100, 100, 100, 100],\n",
       "       [100, 100, 100, 100, 100, 100]])"
      ]
     },
     "execution_count": 81,
     "metadata": {},
     "output_type": "execute_result"
    }
   ],
   "source": [
    "esra2"
   ]
  },
  {
   "cell_type": "code",
   "execution_count": 82,
   "id": "90482a85",
   "metadata": {},
   "outputs": [],
   "source": [
    "esra=np.random.randint(0,200,size=(6,6))#0 ila 200 arasında rassal değerlerle 6x6'lık matris"
   ]
  },
  {
   "cell_type": "code",
   "execution_count": 83,
   "id": "92a3375b",
   "metadata": {},
   "outputs": [
    {
     "data": {
      "text/plain": [
       "array([[113, 111, 199,  63,  58, 179],\n",
       "       [ 96, 118, 180, 118, 195, 129],\n",
       "       [ 95, 103,  74, 149, 147,  87],\n",
       "       [184,   5, 105, 104, 134,   9],\n",
       "       [ 70, 104,  32,  44,  21,  31],\n",
       "       [ 70, 160, 159, 150, 108,  63]])"
      ]
     },
     "execution_count": 83,
     "metadata": {},
     "output_type": "execute_result"
    }
   ],
   "source": [
    "esra"
   ]
  },
  {
   "cell_type": "code",
   "execution_count": 84,
   "id": "45f982c9",
   "metadata": {},
   "outputs": [
    {
     "data": {
      "text/plain": [
       "array([ 2,  6, 10])"
      ]
     },
     "execution_count": 84,
     "metadata": {},
     "output_type": "execute_result"
    }
   ],
   "source": [
    "x"
   ]
  },
  {
   "cell_type": "code",
   "execution_count": 85,
   "id": "511359df",
   "metadata": {},
   "outputs": [
    {
     "data": {
      "text/plain": [
       "array([[30, 45, 59],\n",
       "       [18, 26, 40]])"
      ]
     },
     "execution_count": 85,
     "metadata": {},
     "output_type": "execute_result"
    }
   ],
   "source": [
    "y"
   ]
  },
  {
   "cell_type": "code",
   "execution_count": 86,
   "id": "030e60f3",
   "metadata": {},
   "outputs": [],
   "source": [
    "x=y"
   ]
  },
  {
   "cell_type": "code",
   "execution_count": 87,
   "id": "d9e14010",
   "metadata": {},
   "outputs": [
    {
     "data": {
      "text/plain": [
       "array([], shape=(0, 2, 3), dtype=int32)"
      ]
     },
     "execution_count": 87,
     "metadata": {},
     "output_type": "execute_result"
    }
   ],
   "source": [
    "y[0==100]"
   ]
  },
  {
   "cell_type": "code",
   "execution_count": 88,
   "id": "5aa250dc",
   "metadata": {},
   "outputs": [
    {
     "data": {
      "text/plain": [
       "array([], shape=(0, 2, 3), dtype=int32)"
      ]
     },
     "execution_count": 88,
     "metadata": {},
     "output_type": "execute_result"
    }
   ],
   "source": [
    "x[0==100]"
   ]
  },
  {
   "cell_type": "code",
   "execution_count": 89,
   "id": "c5a2f3d9",
   "metadata": {},
   "outputs": [
    {
     "name": "stdout",
     "output_type": "stream",
     "text": [
      "[[30 45 59]\n",
      " [18 26 40]]\n"
     ]
    }
   ],
   "source": [
    "print(x)"
   ]
  },
  {
   "cell_type": "code",
   "execution_count": 90,
   "id": "ff978df3",
   "metadata": {},
   "outputs": [
    {
     "name": "stdout",
     "output_type": "stream",
     "text": [
      "[[30 45 59]\n",
      " [18 26 40]]\n"
     ]
    }
   ],
   "source": [
    "print(y)"
   ]
  },
  {
   "cell_type": "code",
   "execution_count": 91,
   "id": "40803967",
   "metadata": {},
   "outputs": [
    {
     "data": {
      "text/plain": [
       "[<matplotlib.lines.Line2D at 0x2a44f823280>,\n",
       " <matplotlib.lines.Line2D at 0x2a44f8232e0>,\n",
       " <matplotlib.lines.Line2D at 0x2a44f823430>]"
      ]
     },
     "execution_count": 91,
     "metadata": {},
     "output_type": "execute_result"
    },
    {
     "data": {
      "image/png": "[encoded data removed]",
      "text/plain": [
       "<Figure size 432x288 with 1 Axes>"
      ]
     },
     "metadata": {
      "needs_background": "light"
     },
     "output_type": "display_data"
    }
   ],
   "source": [
    "plt.plot(x,y, linewidth=5.0,linestyle='-')"
   ]
  },
  {
   "cell_type": "code",
   "execution_count": 92,
   "id": "46ad2951",
   "metadata": {},
   "outputs": [],
   "source": [
    "x=[2,4,10]\n",
    "y=[5,15,30]"
   ]
  },
  {
   "cell_type": "code",
   "execution_count": 93,
   "id": "5aa98567",
   "metadata": {},
   "outputs": [
    {
     "data": {
      "text/plain": [
       "[<matplotlib.lines.Line2D at 0x2a44ff95790>]"
      ]
     },
     "execution_count": 93,
     "metadata": {},
     "output_type": "execute_result"
    },
    {
     "data": {
      "image/png": "[encoded data removed]",
      "text/plain": [
       "<Figure size 432x288 with 1 Axes>"
      ]
     },
     "metadata": {
      "needs_background": "light"
     },
     "output_type": "display_data"
    }
   ],
   "source": [
    "plt.plot(x,y, linewidth=5.0,linestyle='-')"
   ]
  },
  {
   "cell_type": "code",
   "execution_count": 94,
   "id": "f90bd91f",
   "metadata": {},
   "outputs": [
    {
     "data": {
      "text/html": [
       "<div>\n",
       "<style scoped>\n",
       "    .dataframe tbody tr th:only-of-type {\n",
       "        vertical-align: middle;\n",
       "    }\n",
       "\n",
       "    .dataframe tbody tr th {\n",
       "        vertical-align: top;\n",
       "    }\n",
       "\n",
       "    .dataframe thead th {\n",
       "        text-align: right;\n",
       "    }\n",
       "</style>\n",
       "<table border=\"1\" class=\"dataframe\">\n",
       "  <thead>\n",
       "    <tr style=\"text-align: right;\">\n",
       "      <th></th>\n",
       "      <th>no_of_adults</th>\n",
       "      <th>no_of_children</th>\n",
       "      <th>no_of_weekend_nights</th>\n",
       "      <th>no_of_week_nights</th>\n",
       "      <th>required_car_parking_space</th>\n",
       "      <th>lead_time</th>\n",
       "      <th>arrival_year</th>\n",
       "      <th>arrival_month</th>\n",
       "      <th>arrival_date</th>\n",
       "      <th>repeated_guest</th>\n",
       "      <th>no_of_previous_cancellations</th>\n",
       "      <th>no_of_previous_bookings_not_canceled</th>\n",
       "      <th>avg_price_per_room</th>\n",
       "      <th>no_of_special_requests</th>\n",
       "    </tr>\n",
       "  </thead>\n",
       "  <tbody>\n",
       "    <tr>\n",
       "      <th>count</th>\n",
       "      <td>9999.000000</td>\n",
       "      <td>9999.000000</td>\n",
       "      <td>9999.000000</td>\n",
       "      <td>9999.000000</td>\n",
       "      <td>9999.000000</td>\n",
       "      <td>9999.000000</td>\n",
       "      <td>9999.000000</td>\n",
       "      <td>9999.00000</td>\n",
       "      <td>9999.000000</td>\n",
       "      <td>9999.000000</td>\n",
       "      <td>9999.000000</td>\n",
       "      <td>9999.000000</td>\n",
       "      <td>9999.000000</td>\n",
       "      <td>9999.000000</td>\n",
       "    </tr>\n",
       "    <tr>\n",
       "      <th>mean</th>\n",
       "      <td>1.852585</td>\n",
       "      <td>0.102610</td>\n",
       "      <td>0.812281</td>\n",
       "      <td>2.198920</td>\n",
       "      <td>0.032803</td>\n",
       "      <td>85.413341</td>\n",
       "      <td>2017.823982</td>\n",
       "      <td>7.40054</td>\n",
       "      <td>15.592859</td>\n",
       "      <td>0.026503</td>\n",
       "      <td>0.018802</td>\n",
       "      <td>0.152615</td>\n",
       "      <td>2825.975798</td>\n",
       "      <td>0.638064</td>\n",
       "    </tr>\n",
       "    <tr>\n",
       "      <th>std</th>\n",
       "      <td>0.512956</td>\n",
       "      <td>0.400879</td>\n",
       "      <td>0.873509</td>\n",
       "      <td>1.421597</td>\n",
       "      <td>0.178130</td>\n",
       "      <td>86.198054</td>\n",
       "      <td>0.380854</td>\n",
       "      <td>3.05754</td>\n",
       "      <td>8.730670</td>\n",
       "      <td>0.160633</td>\n",
       "      <td>0.291999</td>\n",
       "      <td>1.698614</td>\n",
       "      <td>4432.299494</td>\n",
       "      <td>0.795765</td>\n",
       "    </tr>\n",
       "    <tr>\n",
       "      <th>min</th>\n",
       "      <td>0.000000</td>\n",
       "      <td>0.000000</td>\n",
       "      <td>0.000000</td>\n",
       "      <td>0.000000</td>\n",
       "      <td>0.000000</td>\n",
       "      <td>0.000000</td>\n",
       "      <td>2017.000000</td>\n",
       "      <td>1.00000</td>\n",
       "      <td>1.000000</td>\n",
       "      <td>0.000000</td>\n",
       "      <td>0.000000</td>\n",
       "      <td>0.000000</td>\n",
       "      <td>0.000000</td>\n",
       "      <td>0.000000</td>\n",
       "    </tr>\n",
       "    <tr>\n",
       "      <th>25%</th>\n",
       "      <td>2.000000</td>\n",
       "      <td>0.000000</td>\n",
       "      <td>0.000000</td>\n",
       "      <td>1.000000</td>\n",
       "      <td>0.000000</td>\n",
       "      <td>17.000000</td>\n",
       "      <td>2018.000000</td>\n",
       "      <td>5.00000</td>\n",
       "      <td>8.000000</td>\n",
       "      <td>0.000000</td>\n",
       "      <td>0.000000</td>\n",
       "      <td>0.000000</td>\n",
       "      <td>100.000000</td>\n",
       "      <td>0.000000</td>\n",
       "    </tr>\n",
       "    <tr>\n",
       "      <th>50%</th>\n",
       "      <td>2.000000</td>\n",
       "      <td>0.000000</td>\n",
       "      <td>1.000000</td>\n",
       "      <td>2.000000</td>\n",
       "      <td>0.000000</td>\n",
       "      <td>57.000000</td>\n",
       "      <td>2018.000000</td>\n",
       "      <td>8.00000</td>\n",
       "      <td>15.000000</td>\n",
       "      <td>0.000000</td>\n",
       "      <td>0.000000</td>\n",
       "      <td>0.000000</td>\n",
       "      <td>792.000000</td>\n",
       "      <td>0.000000</td>\n",
       "    </tr>\n",
       "    <tr>\n",
       "      <th>75%</th>\n",
       "      <td>2.000000</td>\n",
       "      <td>0.000000</td>\n",
       "      <td>2.000000</td>\n",
       "      <td>3.000000</td>\n",
       "      <td>0.000000</td>\n",
       "      <td>126.000000</td>\n",
       "      <td>2018.000000</td>\n",
       "      <td>10.00000</td>\n",
       "      <td>23.000000</td>\n",
       "      <td>0.000000</td>\n",
       "      <td>0.000000</td>\n",
       "      <td>0.000000</td>\n",
       "      <td>1911.500000</td>\n",
       "      <td>1.000000</td>\n",
       "    </tr>\n",
       "    <tr>\n",
       "      <th>max</th>\n",
       "      <td>4.000000</td>\n",
       "      <td>10.000000</td>\n",
       "      <td>6.000000</td>\n",
       "      <td>15.000000</td>\n",
       "      <td>1.000000</td>\n",
       "      <td>443.000000</td>\n",
       "      <td>2018.000000</td>\n",
       "      <td>12.00000</td>\n",
       "      <td>31.000000</td>\n",
       "      <td>1.000000</td>\n",
       "      <td>11.000000</td>\n",
       "      <td>53.000000</td>\n",
       "      <td>26667.000000</td>\n",
       "      <td>5.000000</td>\n",
       "    </tr>\n",
       "  </tbody>\n",
       "</table>\n",
       "</div>"
      ],
      "text/plain": [
       "       no_of_adults  no_of_children  no_of_weekend_nights  no_of_week_nights  \\\n",
       "count   9999.000000     9999.000000           9999.000000        9999.000000   \n",
       "mean       1.852585        0.102610              0.812281           2.198920   \n",
       "std        0.512956        0.400879              0.873509           1.421597   \n",
       "min        0.000000        0.000000              0.000000           0.000000   \n",
       "25%        2.000000        0.000000              0.000000           1.000000   \n",
       "50%        2.000000        0.000000              1.000000           2.000000   \n",
       "75%        2.000000        0.000000              2.000000           3.000000   \n",
       "max        4.000000       10.000000              6.000000          15.000000   \n",
       "\n",
       "       required_car_parking_space    lead_time  arrival_year  arrival_month  \\\n",
       "count                 9999.000000  9999.000000   9999.000000     9999.00000   \n",
       "mean                     0.032803    85.413341   2017.823982        7.40054   \n",
       "std                      0.178130    86.198054      0.380854        3.05754   \n",
       "min                      0.000000     0.000000   2017.000000        1.00000   \n",
       "25%                      0.000000    17.000000   2018.000000        5.00000   \n",
       "50%                      0.000000    57.000000   2018.000000        8.00000   \n",
       "75%                      0.000000   126.000000   2018.000000       10.00000   \n",
       "max                      1.000000   443.000000   2018.000000       12.00000   \n",
       "\n",
       "       arrival_date  repeated_guest  no_of_previous_cancellations  \\\n",
       "count   9999.000000     9999.000000                   9999.000000   \n",
       "mean      15.592859        0.026503                      0.018802   \n",
       "std        8.730670        0.160633                      0.291999   \n",
       "min        1.000000        0.000000                      0.000000   \n",
       "25%        8.000000        0.000000                      0.000000   \n",
       "50%       15.000000        0.000000                      0.000000   \n",
       "75%       23.000000        0.000000                      0.000000   \n",
       "max       31.000000        1.000000                     11.000000   \n",
       "\n",
       "       no_of_previous_bookings_not_canceled  avg_price_per_room  \\\n",
       "count                           9999.000000         9999.000000   \n",
       "mean                               0.152615         2825.975798   \n",
       "std                                1.698614         4432.299494   \n",
       "min                                0.000000            0.000000   \n",
       "25%                                0.000000          100.000000   \n",
       "50%                                0.000000          792.000000   \n",
       "75%                                0.000000         1911.500000   \n",
       "max                               53.000000        26667.000000   \n",
       "\n",
       "       no_of_special_requests  \n",
       "count             9999.000000  \n",
       "mean                 0.638064  \n",
       "std                  0.795765  \n",
       "min                  0.000000  \n",
       "25%                  0.000000  \n",
       "50%                  0.000000  \n",
       "75%                  1.000000  \n",
       "max                  5.000000  "
      ]
     },
     "execution_count": 94,
     "metadata": {},
     "output_type": "execute_result"
    }
   ],
   "source": [
    "df.describe()"
   ]
  },
  {
   "cell_type": "code",
   "execution_count": 97,
   "id": "2c2981f5",
   "metadata": {},
   "outputs": [],
   "source": [
    "Q1=df.quantile(0.45)#çeyrekler açıklığı hesaplama"
   ]
  },
  {
   "cell_type": "code",
   "execution_count": 98,
   "id": "0d73198e",
   "metadata": {},
   "outputs": [
    {
     "data": {
      "text/plain": [
       "no_of_adults                               2.0\n",
       "no_of_children                             0.0\n",
       "no_of_weekend_nights                       0.0\n",
       "no_of_week_nights                          2.0\n",
       "required_car_parking_space                 0.0\n",
       "lead_time                                 47.0\n",
       "arrival_year                            2018.0\n",
       "arrival_month                              7.0\n",
       "arrival_date                              14.0\n",
       "repeated_guest                             0.0\n",
       "no_of_previous_cancellations               0.0\n",
       "no_of_previous_bookings_not_canceled       0.0\n",
       "avg_price_per_room                       177.0\n",
       "no_of_special_requests                     0.0\n",
       "Name: 0.45, dtype: float64"
      ]
     },
     "execution_count": 98,
     "metadata": {},
     "output_type": "execute_result"
    }
   ],
   "source": [
    "Q1"
   ]
  },
  {
   "cell_type": "code",
   "execution_count": 99,
   "id": "d938d1a2",
   "metadata": {},
   "outputs": [],
   "source": [
    "Q2=df.quantile(0.85)#veriyi parçalara ayırdıktan sonra belirlenen sınır değerleri dışında kalan verileri aykırı değer olarak işaretler"
   ]
  },
  {
   "cell_type": "code",
   "execution_count": 100,
   "id": "c2bf064f",
   "metadata": {},
   "outputs": [
    {
     "data": {
      "text/plain": [
       "no_of_adults                               2.0\n",
       "no_of_children                             0.0\n",
       "no_of_weekend_nights                       2.0\n",
       "no_of_week_nights                          3.0\n",
       "required_car_parking_space                 0.0\n",
       "lead_time                                180.0\n",
       "arrival_year                            2018.0\n",
       "arrival_month                             11.0\n",
       "arrival_date                              26.0\n",
       "repeated_guest                             0.0\n",
       "no_of_previous_cancellations               0.0\n",
       "no_of_previous_bookings_not_canceled       0.0\n",
       "avg_price_per_room                      8799.6\n",
       "no_of_special_requests                     1.0\n",
       "Name: 0.85, dtype: float64"
      ]
     },
     "execution_count": 100,
     "metadata": {},
     "output_type": "execute_result"
    }
   ],
   "source": [
    "Q2"
   ]
  },
  {
   "cell_type": "code",
   "execution_count": 101,
   "id": "77a6f351",
   "metadata": {},
   "outputs": [],
   "source": [
    "IQR=Q2-Q1#IQR kullanılarak alt ve üst sınır değerleri hesaplanır\n",
    "IQL=Q2+Q1"
   ]
  },
  {
   "cell_type": "code",
   "execution_count": 102,
   "id": "3d1c356f",
   "metadata": {},
   "outputs": [
    {
     "data": {
      "text/plain": [
       "no_of_adults                               4.0\n",
       "no_of_children                             0.0\n",
       "no_of_weekend_nights                       2.0\n",
       "no_of_week_nights                          5.0\n",
       "required_car_parking_space                 0.0\n",
       "lead_time                                227.0\n",
       "arrival_year                            4036.0\n",
       "arrival_month                             18.0\n",
       "arrival_date                              40.0\n",
       "repeated_guest                             0.0\n",
       "no_of_previous_cancellations               0.0\n",
       "no_of_previous_bookings_not_canceled       0.0\n",
       "avg_price_per_room                      8976.6\n",
       "no_of_special_requests                     1.0\n",
       "dtype: float64"
      ]
     },
     "execution_count": 102,
     "metadata": {},
     "output_type": "execute_result"
    }
   ],
   "source": [
    "IQL"
   ]
  },
  {
   "cell_type": "code",
   "execution_count": 103,
   "id": "e34c5d52",
   "metadata": {},
   "outputs": [
    {
     "data": {
      "text/plain": [
       "no_of_adults                               0.0\n",
       "no_of_children                             0.0\n",
       "no_of_weekend_nights                       2.0\n",
       "no_of_week_nights                          1.0\n",
       "required_car_parking_space                 0.0\n",
       "lead_time                                133.0\n",
       "arrival_year                               0.0\n",
       "arrival_month                              4.0\n",
       "arrival_date                              12.0\n",
       "repeated_guest                             0.0\n",
       "no_of_previous_cancellations               0.0\n",
       "no_of_previous_bookings_not_canceled       0.0\n",
       "avg_price_per_room                      8622.6\n",
       "no_of_special_requests                     1.0\n",
       "dtype: float64"
      ]
     },
     "execution_count": 103,
     "metadata": {},
     "output_type": "execute_result"
    }
   ],
   "source": [
    "IQR"
   ]
  },
  {
   "cell_type": "code",
   "execution_count": 104,
   "id": "0b45a722",
   "metadata": {},
   "outputs": [],
   "source": [
    "veri=np.random.normal(50000,5000,50)"
   ]
  },
  {
   "cell_type": "code",
   "execution_count": 105,
   "id": "a5c445d0",
   "metadata": {},
   "outputs": [
    {
     "name": "stdout",
     "output_type": "stream",
     "text": [
      "[53616.10748483 46570.37031487 50289.27219871 44898.60264604\n",
      " 45995.56866685 47377.80943084 48736.94716175 46823.06969545\n",
      " 55209.57517721 46589.5630755  45437.13617664 55802.90814875\n",
      " 52087.02848911 56644.50066468 51511.69181296 54132.12736855\n",
      " 44313.75279353 49585.63449862 47225.86729118 49125.05324673\n",
      " 58327.98530724 44146.69770674 52913.710136   41393.31444864\n",
      " 46424.65112817 50437.22218758 47477.92838143 43047.69712249\n",
      " 48920.56173792 53629.38653163 47513.64596761 51654.17387169\n",
      " 51146.45146603 46905.50663893 49486.7723202  48492.08055952\n",
      " 55885.56121307 51192.424355   47021.61520879 51225.28494745\n",
      " 49493.45108543 48187.80614537 49666.19645953 51968.73037259\n",
      " 52229.52992682 51866.64404552 37629.28171476 47347.43764317\n",
      " 46743.92335477 47267.14476877]\n"
     ]
    }
   ],
   "source": [
    "print(veri)"
   ]
  },
  {
   "cell_type": "code",
   "execution_count": 106,
   "id": "a54675bf",
   "metadata": {},
   "outputs": [
    {
     "data": {
      "text/plain": [
       "49232.30806191336"
      ]
     },
     "execution_count": 106,
     "metadata": {},
     "output_type": "execute_result"
    }
   ],
   "source": [
    "np.mean(veri)"
   ]
  },
  {
   "cell_type": "code",
   "execution_count": 107,
   "id": "81687414",
   "metadata": {},
   "outputs": [
    {
     "data": {
      "text/plain": [
       "49022.80749232149"
      ]
     },
     "execution_count": 107,
     "metadata": {},
     "output_type": "execute_result"
    }
   ],
   "source": [
    "np.median(veri)"
   ]
  },
  {
   "cell_type": "code",
   "execution_count": 108,
   "id": "0a5e1c22",
   "metadata": {},
   "outputs": [
    {
     "data": {
      "text/plain": [
       "15785328.05742291"
      ]
     },
     "execution_count": 108,
     "metadata": {},
     "output_type": "execute_result"
    }
   ],
   "source": [
    "veri.var()"
   ]
  },
  {
   "cell_type": "code",
   "execution_count": 109,
   "id": "c3500678",
   "metadata": {},
   "outputs": [
    {
     "data": {
      "text/html": [
       "<div>\n",
       "<style scoped>\n",
       "    .dataframe tbody tr th:only-of-type {\n",
       "        vertical-align: middle;\n",
       "    }\n",
       "\n",
       "    .dataframe tbody tr th {\n",
       "        vertical-align: top;\n",
       "    }\n",
       "\n",
       "    .dataframe thead th {\n",
       "        text-align: right;\n",
       "    }\n",
       "</style>\n",
       "<table border=\"1\" class=\"dataframe\">\n",
       "  <thead>\n",
       "    <tr style=\"text-align: right;\">\n",
       "      <th></th>\n",
       "      <th>Booking_ID</th>\n",
       "      <th>no_of_adults</th>\n",
       "      <th>no_of_children</th>\n",
       "      <th>no_of_weekend_nights</th>\n",
       "      <th>no_of_week_nights</th>\n",
       "      <th>type_of_meal_plan</th>\n",
       "      <th>required_car_parking_space</th>\n",
       "      <th>room_type_reserved</th>\n",
       "      <th>lead_time</th>\n",
       "      <th>arrival_year</th>\n",
       "      <th>arrival_month</th>\n",
       "      <th>arrival_date</th>\n",
       "      <th>market_segment_type</th>\n",
       "      <th>repeated_guest</th>\n",
       "      <th>no_of_previous_cancellations</th>\n",
       "      <th>no_of_previous_bookings_not_canceled</th>\n",
       "      <th>avg_price_per_room</th>\n",
       "      <th>no_of_special_requests</th>\n",
       "      <th>booking_status</th>\n",
       "    </tr>\n",
       "  </thead>\n",
       "  <tbody>\n",
       "    <tr>\n",
       "      <th>0</th>\n",
       "      <td>INN00001</td>\n",
       "      <td>2</td>\n",
       "      <td>0</td>\n",
       "      <td>1</td>\n",
       "      <td>2</td>\n",
       "      <td>Meal Plan 1</td>\n",
       "      <td>0</td>\n",
       "      <td>Room_Type 1</td>\n",
       "      <td>224</td>\n",
       "      <td>2017</td>\n",
       "      <td>10</td>\n",
       "      <td>2</td>\n",
       "      <td>Offline</td>\n",
       "      <td>0</td>\n",
       "      <td>0</td>\n",
       "      <td>0</td>\n",
       "      <td>65</td>\n",
       "      <td>0</td>\n",
       "      <td>Not_Canceled</td>\n",
       "    </tr>\n",
       "    <tr>\n",
       "      <th>1</th>\n",
       "      <td>INN00002</td>\n",
       "      <td>2</td>\n",
       "      <td>0</td>\n",
       "      <td>2</td>\n",
       "      <td>3</td>\n",
       "      <td>Not Selected</td>\n",
       "      <td>0</td>\n",
       "      <td>Room_Type 1</td>\n",
       "      <td>5</td>\n",
       "      <td>2018</td>\n",
       "      <td>11</td>\n",
       "      <td>6</td>\n",
       "      <td>Online</td>\n",
       "      <td>0</td>\n",
       "      <td>0</td>\n",
       "      <td>0</td>\n",
       "      <td>10668</td>\n",
       "      <td>1</td>\n",
       "      <td>Not_Canceled</td>\n",
       "    </tr>\n",
       "    <tr>\n",
       "      <th>2</th>\n",
       "      <td>INN00003</td>\n",
       "      <td>1</td>\n",
       "      <td>0</td>\n",
       "      <td>2</td>\n",
       "      <td>1</td>\n",
       "      <td>Meal Plan 1</td>\n",
       "      <td>0</td>\n",
       "      <td>Room_Type 1</td>\n",
       "      <td>1</td>\n",
       "      <td>2018</td>\n",
       "      <td>2</td>\n",
       "      <td>28</td>\n",
       "      <td>Online</td>\n",
       "      <td>0</td>\n",
       "      <td>0</td>\n",
       "      <td>0</td>\n",
       "      <td>60</td>\n",
       "      <td>0</td>\n",
       "      <td>Canceled</td>\n",
       "    </tr>\n",
       "    <tr>\n",
       "      <th>3</th>\n",
       "      <td>INN00004</td>\n",
       "      <td>2</td>\n",
       "      <td>0</td>\n",
       "      <td>0</td>\n",
       "      <td>2</td>\n",
       "      <td>Meal Plan 1</td>\n",
       "      <td>0</td>\n",
       "      <td>Room_Type 1</td>\n",
       "      <td>211</td>\n",
       "      <td>2018</td>\n",
       "      <td>5</td>\n",
       "      <td>20</td>\n",
       "      <td>Online</td>\n",
       "      <td>0</td>\n",
       "      <td>0</td>\n",
       "      <td>0</td>\n",
       "      <td>100</td>\n",
       "      <td>0</td>\n",
       "      <td>Canceled</td>\n",
       "    </tr>\n",
       "    <tr>\n",
       "      <th>4</th>\n",
       "      <td>INN00005</td>\n",
       "      <td>2</td>\n",
       "      <td>0</td>\n",
       "      <td>1</td>\n",
       "      <td>1</td>\n",
       "      <td>Not Selected</td>\n",
       "      <td>0</td>\n",
       "      <td>Room_Type 1</td>\n",
       "      <td>48</td>\n",
       "      <td>2018</td>\n",
       "      <td>4</td>\n",
       "      <td>11</td>\n",
       "      <td>Online</td>\n",
       "      <td>0</td>\n",
       "      <td>0</td>\n",
       "      <td>0</td>\n",
       "      <td>945</td>\n",
       "      <td>0</td>\n",
       "      <td>Canceled</td>\n",
       "    </tr>\n",
       "  </tbody>\n",
       "</table>\n",
       "</div>"
      ],
      "text/plain": [
       "  Booking_ID  no_of_adults  no_of_children  no_of_weekend_nights  \\\n",
       "0   INN00001             2               0                     1   \n",
       "1   INN00002             2               0                     2   \n",
       "2   INN00003             1               0                     2   \n",
       "3   INN00004             2               0                     0   \n",
       "4   INN00005             2               0                     1   \n",
       "\n",
       "   no_of_week_nights type_of_meal_plan  required_car_parking_space  \\\n",
       "0                  2       Meal Plan 1                           0   \n",
       "1                  3      Not Selected                           0   \n",
       "2                  1       Meal Plan 1                           0   \n",
       "3                  2       Meal Plan 1                           0   \n",
       "4                  1      Not Selected                           0   \n",
       "\n",
       "  room_type_reserved  lead_time  arrival_year  arrival_month  arrival_date  \\\n",
       "0        Room_Type 1        224          2017             10             2   \n",
       "1        Room_Type 1          5          2018             11             6   \n",
       "2        Room_Type 1          1          2018              2            28   \n",
       "3        Room_Type 1        211          2018              5            20   \n",
       "4        Room_Type 1         48          2018              4            11   \n",
       "\n",
       "  market_segment_type  repeated_guest  no_of_previous_cancellations  \\\n",
       "0             Offline               0                             0   \n",
       "1              Online               0                             0   \n",
       "2              Online               0                             0   \n",
       "3              Online               0                             0   \n",
       "4              Online               0                             0   \n",
       "\n",
       "   no_of_previous_bookings_not_canceled  avg_price_per_room  \\\n",
       "0                                     0                  65   \n",
       "1                                     0               10668   \n",
       "2                                     0                  60   \n",
       "3                                     0                 100   \n",
       "4                                     0                 945   \n",
       "\n",
       "   no_of_special_requests booking_status  \n",
       "0                       0   Not_Canceled  \n",
       "1                       1   Not_Canceled  \n",
       "2                       0       Canceled  \n",
       "3                       0       Canceled  \n",
       "4                       0       Canceled  "
      ]
     },
     "execution_count": 109,
     "metadata": {},
     "output_type": "execute_result"
    }
   ],
   "source": [
    "df.head()"
   ]
  },
  {
   "cell_type": "code",
   "execution_count": 113,
   "id": "c0123b08",
   "metadata": {},
   "outputs": [],
   "source": [
    "ilkdefa=df[df.repeated_guest==0]#integer tipindeki verileri string tipine çevirir\n",
    "tekrarlı=df[df.repeated_guest==1]"
   ]
  },
  {
   "cell_type": "code",
   "execution_count": 114,
   "id": "c99a2b8f",
   "metadata": {},
   "outputs": [
    {
     "data": {
      "text/plain": [
       "Text(0, 0.5, 'no_of_special_requests')"
      ]
     },
     "execution_count": 114,
     "metadata": {},
     "output_type": "execute_result"
    },
    {
     "data": {
      "image/png": "[encoded data removed]",
      "text/plain": [
       "<Figure size 432x288 with 1 Axes>"
      ]
     },
     "metadata": {
      "needs_background": "light"
     },
     "output_type": "display_data"
    }
   ],
   "source": [
    "plt.scatter(ilkdefa.no_of_adults, ilkdefa.no_of_special_requests, color=\"red\", label=\"İlk defa kiralayanlar\", alpha=0.4)\n",
    "plt.scatter(tekrarlı.no_of_adults, tekrarlı.no_of_special_requests, color=\"yellow\", label=\"Daha önceden kaydı olanlar\", alpha=0.4)\n",
    "plt.xlabel(\"no_of_adults\")\n",
    "plt.ylabel(\"no_of_special_requests\")"
   ]
  },
  {
   "cell_type": "code",
   "execution_count": 115,
   "id": "1159be9f",
   "metadata": {},
   "outputs": [],
   "source": [
    "y=df.no_of_adults.values"
   ]
  },
  {
   "cell_type": "code",
   "execution_count": 141,
   "id": "65e3ab2a",
   "metadata": {},
   "outputs": [],
   "source": [
    "yeniset=df.drop(['no_of_adults'],axis=1)#sütun silme"
   ]
  },
  {
   "cell_type": "code",
   "execution_count": 142,
   "id": "e4914ce8",
   "metadata": {},
   "outputs": [
    {
     "data": {
      "text/html": [
       "<div>\n",
       "<style scoped>\n",
       "    .dataframe tbody tr th:only-of-type {\n",
       "        vertical-align: middle;\n",
       "    }\n",
       "\n",
       "    .dataframe tbody tr th {\n",
       "        vertical-align: top;\n",
       "    }\n",
       "\n",
       "    .dataframe thead th {\n",
       "        text-align: right;\n",
       "    }\n",
       "</style>\n",
       "<table border=\"1\" class=\"dataframe\">\n",
       "  <thead>\n",
       "    <tr style=\"text-align: right;\">\n",
       "      <th></th>\n",
       "      <th>Booking_ID</th>\n",
       "      <th>no_of_children</th>\n",
       "      <th>no_of_weekend_nights</th>\n",
       "      <th>no_of_week_nights</th>\n",
       "      <th>type_of_meal_plan</th>\n",
       "      <th>required_car_parking_space</th>\n",
       "      <th>room_type_reserved</th>\n",
       "      <th>lead_time</th>\n",
       "      <th>arrival_year</th>\n",
       "      <th>arrival_month</th>\n",
       "      <th>arrival_date</th>\n",
       "      <th>market_segment_type</th>\n",
       "      <th>repeated_guest</th>\n",
       "      <th>no_of_previous_cancellations</th>\n",
       "      <th>no_of_previous_bookings_not_canceled</th>\n",
       "      <th>avg_price_per_room</th>\n",
       "      <th>no_of_special_requests</th>\n",
       "      <th>booking_status</th>\n",
       "    </tr>\n",
       "  </thead>\n",
       "  <tbody>\n",
       "    <tr>\n",
       "      <th>0</th>\n",
       "      <td>INN00001</td>\n",
       "      <td>0</td>\n",
       "      <td>1</td>\n",
       "      <td>2</td>\n",
       "      <td>Meal Plan 1</td>\n",
       "      <td>0</td>\n",
       "      <td>Room_Type 1</td>\n",
       "      <td>224</td>\n",
       "      <td>2017</td>\n",
       "      <td>10</td>\n",
       "      <td>2</td>\n",
       "      <td>Offline</td>\n",
       "      <td>0</td>\n",
       "      <td>0</td>\n",
       "      <td>0</td>\n",
       "      <td>65</td>\n",
       "      <td>0</td>\n",
       "      <td>Not_Canceled</td>\n",
       "    </tr>\n",
       "    <tr>\n",
       "      <th>1</th>\n",
       "      <td>INN00002</td>\n",
       "      <td>0</td>\n",
       "      <td>2</td>\n",
       "      <td>3</td>\n",
       "      <td>Not Selected</td>\n",
       "      <td>0</td>\n",
       "      <td>Room_Type 1</td>\n",
       "      <td>5</td>\n",
       "      <td>2018</td>\n",
       "      <td>11</td>\n",
       "      <td>6</td>\n",
       "      <td>Online</td>\n",
       "      <td>0</td>\n",
       "      <td>0</td>\n",
       "      <td>0</td>\n",
       "      <td>10668</td>\n",
       "      <td>1</td>\n",
       "      <td>Not_Canceled</td>\n",
       "    </tr>\n",
       "    <tr>\n",
       "      <th>2</th>\n",
       "      <td>INN00003</td>\n",
       "      <td>0</td>\n",
       "      <td>2</td>\n",
       "      <td>1</td>\n",
       "      <td>Meal Plan 1</td>\n",
       "      <td>0</td>\n",
       "      <td>Room_Type 1</td>\n",
       "      <td>1</td>\n",
       "      <td>2018</td>\n",
       "      <td>2</td>\n",
       "      <td>28</td>\n",
       "      <td>Online</td>\n",
       "      <td>0</td>\n",
       "      <td>0</td>\n",
       "      <td>0</td>\n",
       "      <td>60</td>\n",
       "      <td>0</td>\n",
       "      <td>Canceled</td>\n",
       "    </tr>\n",
       "    <tr>\n",
       "      <th>3</th>\n",
       "      <td>INN00004</td>\n",
       "      <td>0</td>\n",
       "      <td>0</td>\n",
       "      <td>2</td>\n",
       "      <td>Meal Plan 1</td>\n",
       "      <td>0</td>\n",
       "      <td>Room_Type 1</td>\n",
       "      <td>211</td>\n",
       "      <td>2018</td>\n",
       "      <td>5</td>\n",
       "      <td>20</td>\n",
       "      <td>Online</td>\n",
       "      <td>0</td>\n",
       "      <td>0</td>\n",
       "      <td>0</td>\n",
       "      <td>100</td>\n",
       "      <td>0</td>\n",
       "      <td>Canceled</td>\n",
       "    </tr>\n",
       "    <tr>\n",
       "      <th>4</th>\n",
       "      <td>INN00005</td>\n",
       "      <td>0</td>\n",
       "      <td>1</td>\n",
       "      <td>1</td>\n",
       "      <td>Not Selected</td>\n",
       "      <td>0</td>\n",
       "      <td>Room_Type 1</td>\n",
       "      <td>48</td>\n",
       "      <td>2018</td>\n",
       "      <td>4</td>\n",
       "      <td>11</td>\n",
       "      <td>Online</td>\n",
       "      <td>0</td>\n",
       "      <td>0</td>\n",
       "      <td>0</td>\n",
       "      <td>945</td>\n",
       "      <td>0</td>\n",
       "      <td>Canceled</td>\n",
       "    </tr>\n",
       "    <tr>\n",
       "      <th>...</th>\n",
       "      <td>...</td>\n",
       "      <td>...</td>\n",
       "      <td>...</td>\n",
       "      <td>...</td>\n",
       "      <td>...</td>\n",
       "      <td>...</td>\n",
       "      <td>...</td>\n",
       "      <td>...</td>\n",
       "      <td>...</td>\n",
       "      <td>...</td>\n",
       "      <td>...</td>\n",
       "      <td>...</td>\n",
       "      <td>...</td>\n",
       "      <td>...</td>\n",
       "      <td>...</td>\n",
       "      <td>...</td>\n",
       "      <td>...</td>\n",
       "      <td>...</td>\n",
       "    </tr>\n",
       "    <tr>\n",
       "      <th>9994</th>\n",
       "      <td>INN09995</td>\n",
       "      <td>0</td>\n",
       "      <td>0</td>\n",
       "      <td>4</td>\n",
       "      <td>Meal Plan 1</td>\n",
       "      <td>0</td>\n",
       "      <td>Room_Type 4</td>\n",
       "      <td>109</td>\n",
       "      <td>2018</td>\n",
       "      <td>8</td>\n",
       "      <td>24</td>\n",
       "      <td>Online</td>\n",
       "      <td>0</td>\n",
       "      <td>0</td>\n",
       "      <td>0</td>\n",
       "      <td>1521</td>\n",
       "      <td>0</td>\n",
       "      <td>Canceled</td>\n",
       "    </tr>\n",
       "    <tr>\n",
       "      <th>9995</th>\n",
       "      <td>INN09996</td>\n",
       "      <td>0</td>\n",
       "      <td>2</td>\n",
       "      <td>1</td>\n",
       "      <td>Meal Plan 1</td>\n",
       "      <td>0</td>\n",
       "      <td>Room_Type 1</td>\n",
       "      <td>55</td>\n",
       "      <td>2018</td>\n",
       "      <td>4</td>\n",
       "      <td>3</td>\n",
       "      <td>Offline</td>\n",
       "      <td>0</td>\n",
       "      <td>0</td>\n",
       "      <td>0</td>\n",
       "      <td>75</td>\n",
       "      <td>1</td>\n",
       "      <td>Not_Canceled</td>\n",
       "    </tr>\n",
       "    <tr>\n",
       "      <th>9996</th>\n",
       "      <td>INN09997</td>\n",
       "      <td>0</td>\n",
       "      <td>2</td>\n",
       "      <td>1</td>\n",
       "      <td>Meal Plan 1</td>\n",
       "      <td>0</td>\n",
       "      <td>Room_Type 1</td>\n",
       "      <td>2</td>\n",
       "      <td>2017</td>\n",
       "      <td>9</td>\n",
       "      <td>12</td>\n",
       "      <td>Online</td>\n",
       "      <td>0</td>\n",
       "      <td>0</td>\n",
       "      <td>0</td>\n",
       "      <td>13867</td>\n",
       "      <td>1</td>\n",
       "      <td>Not_Canceled</td>\n",
       "    </tr>\n",
       "    <tr>\n",
       "      <th>9997</th>\n",
       "      <td>INN09998</td>\n",
       "      <td>0</td>\n",
       "      <td>0</td>\n",
       "      <td>3</td>\n",
       "      <td>Meal Plan 1</td>\n",
       "      <td>0</td>\n",
       "      <td>Room_Type 1</td>\n",
       "      <td>105</td>\n",
       "      <td>2018</td>\n",
       "      <td>10</td>\n",
       "      <td>12</td>\n",
       "      <td>Offline</td>\n",
       "      <td>0</td>\n",
       "      <td>0</td>\n",
       "      <td>0</td>\n",
       "      <td>75</td>\n",
       "      <td>0</td>\n",
       "      <td>Not_Canceled</td>\n",
       "    </tr>\n",
       "    <tr>\n",
       "      <th>9998</th>\n",
       "      <td>INN09999</td>\n",
       "      <td>0</td>\n",
       "      <td>4</td>\n",
       "      <td>6</td>\n",
       "      <td>Meal Plan 1</td>\n",
       "      <td>0</td>\n",
       "      <td>Room_Type 1</td>\n",
       "      <td>207</td>\n",
       "      <td>2018</td>\n",
       "      <td>8</td>\n",
       "      <td>20</td>\n",
       "      <td>Offline</td>\n",
       "      <td>0</td>\n",
       "      <td>0</td>\n",
       "      <td>0</td>\n",
       "      <td>7225</td>\n",
       "      <td>0</td>\n",
       "      <td>Not_Canceled</td>\n",
       "    </tr>\n",
       "  </tbody>\n",
       "</table>\n",
       "<p>9999 rows × 18 columns</p>\n",
       "</div>"
      ],
      "text/plain": [
       "     Booking_ID  no_of_children  no_of_weekend_nights  no_of_week_nights  \\\n",
       "0      INN00001               0                     1                  2   \n",
       "1      INN00002               0                     2                  3   \n",
       "2      INN00003               0                     2                  1   \n",
       "3      INN00004               0                     0                  2   \n",
       "4      INN00005               0                     1                  1   \n",
       "...         ...             ...                   ...                ...   \n",
       "9994   INN09995               0                     0                  4   \n",
       "9995   INN09996               0                     2                  1   \n",
       "9996   INN09997               0                     2                  1   \n",
       "9997   INN09998               0                     0                  3   \n",
       "9998   INN09999               0                     4                  6   \n",
       "\n",
       "     type_of_meal_plan  required_car_parking_space room_type_reserved  \\\n",
       "0          Meal Plan 1                           0        Room_Type 1   \n",
       "1         Not Selected                           0        Room_Type 1   \n",
       "2          Meal Plan 1                           0        Room_Type 1   \n",
       "3          Meal Plan 1                           0        Room_Type 1   \n",
       "4         Not Selected                           0        Room_Type 1   \n",
       "...                ...                         ...                ...   \n",
       "9994       Meal Plan 1                           0        Room_Type 4   \n",
       "9995       Meal Plan 1                           0        Room_Type 1   \n",
       "9996       Meal Plan 1                           0        Room_Type 1   \n",
       "9997       Meal Plan 1                           0        Room_Type 1   \n",
       "9998       Meal Plan 1                           0        Room_Type 1   \n",
       "\n",
       "      lead_time  arrival_year  arrival_month  arrival_date  \\\n",
       "0           224          2017             10             2   \n",
       "1             5          2018             11             6   \n",
       "2             1          2018              2            28   \n",
       "3           211          2018              5            20   \n",
       "4            48          2018              4            11   \n",
       "...         ...           ...            ...           ...   \n",
       "9994        109          2018              8            24   \n",
       "9995         55          2018              4             3   \n",
       "9996          2          2017              9            12   \n",
       "9997        105          2018             10            12   \n",
       "9998        207          2018              8            20   \n",
       "\n",
       "     market_segment_type  repeated_guest  no_of_previous_cancellations  \\\n",
       "0                Offline               0                             0   \n",
       "1                 Online               0                             0   \n",
       "2                 Online               0                             0   \n",
       "3                 Online               0                             0   \n",
       "4                 Online               0                             0   \n",
       "...                  ...             ...                           ...   \n",
       "9994              Online               0                             0   \n",
       "9995             Offline               0                             0   \n",
       "9996              Online               0                             0   \n",
       "9997             Offline               0                             0   \n",
       "9998             Offline               0                             0   \n",
       "\n",
       "      no_of_previous_bookings_not_canceled  avg_price_per_room  \\\n",
       "0                                        0                  65   \n",
       "1                                        0               10668   \n",
       "2                                        0                  60   \n",
       "3                                        0                 100   \n",
       "4                                        0                 945   \n",
       "...                                    ...                 ...   \n",
       "9994                                     0                1521   \n",
       "9995                                     0                  75   \n",
       "9996                                     0               13867   \n",
       "9997                                     0                  75   \n",
       "9998                                     0                7225   \n",
       "\n",
       "      no_of_special_requests booking_status  \n",
       "0                          0   Not_Canceled  \n",
       "1                          1   Not_Canceled  \n",
       "2                          0       Canceled  \n",
       "3                          0       Canceled  \n",
       "4                          0       Canceled  \n",
       "...                      ...            ...  \n",
       "9994                       0       Canceled  \n",
       "9995                       1   Not_Canceled  \n",
       "9996                       1   Not_Canceled  \n",
       "9997                       0   Not_Canceled  \n",
       "9998                       0   Not_Canceled  \n",
       "\n",
       "[9999 rows x 18 columns]"
      ]
     },
     "execution_count": 142,
     "metadata": {},
     "output_type": "execute_result"
    }
   ],
   "source": [
    "yeniset"
   ]
  },
  {
   "cell_type": "code",
   "execution_count": 143,
   "id": "d36e9eae",
   "metadata": {},
   "outputs": [],
   "source": [
    "from sklearn.model_selection import train_test_split\n",
    "from sklearn.neighbors import KNeighborsClassifier"
   ]
  },
  {
   "cell_type": "code",
   "execution_count": 144,
   "id": "ed7ac85e",
   "metadata": {},
   "outputs": [],
   "source": [
    "X = df.iloc[:, [2,3]].values#istediğimiz veriye koordinat ile çağırmak\n",
    "y = df.iloc[:, 4].values"
   ]
  },
  {
   "cell_type": "code",
   "execution_count": 145,
   "id": "258feb93",
   "metadata": {},
   "outputs": [],
   "source": [
    "X_train, X_test, y_train, y_test = train_test_split(X, y, test_size = 0.25, random_state = 0)#datasetimden test için küme yüzdem 0,25"
   ]
  },
  {
   "cell_type": "code",
   "execution_count": 146,
   "id": "5c3132a8",
   "metadata": {},
   "outputs": [
    {
     "data": {
      "text/plain": [
       "array([[0, 0],\n",
       "       [0, 1],\n",
       "       [0, 2],\n",
       "       ...,\n",
       "       [0, 0],\n",
       "       [0, 0],\n",
       "       [0, 0]], dtype=int64)"
      ]
     },
     "execution_count": 146,
     "metadata": {},
     "output_type": "execute_result"
    }
   ],
   "source": [
    "X_train"
   ]
  },
  {
   "cell_type": "code",
   "execution_count": 147,
   "id": "3cf8a119",
   "metadata": {},
   "outputs": [
    {
     "data": {
      "text/plain": [
       "array([[0, 1],\n",
       "       [0, 2],\n",
       "       [0, 1],\n",
       "       ...,\n",
       "       [1, 2],\n",
       "       [0, 1],\n",
       "       [0, 2]], dtype=int64)"
      ]
     },
     "execution_count": 147,
     "metadata": {},
     "output_type": "execute_result"
    }
   ],
   "source": [
    "X_test"
   ]
  },
  {
   "cell_type": "code",
   "execution_count": 148,
   "id": "ac6d58ac",
   "metadata": {},
   "outputs": [
    {
     "data": {
      "text/plain": [
       "array([3, 7, 0, ..., 5, 2, 2], dtype=int64)"
      ]
     },
     "execution_count": 148,
     "metadata": {},
     "output_type": "execute_result"
    }
   ],
   "source": [
    "y_test#test veri seti"
   ]
  },
  {
   "cell_type": "code",
   "execution_count": 149,
   "id": "27fde26e",
   "metadata": {},
   "outputs": [
    {
     "data": {
      "text/plain": [
       "array([1, 2, 5, ..., 2, 2, 1], dtype=int64)"
      ]
     },
     "execution_count": 149,
     "metadata": {},
     "output_type": "execute_result"
    }
   ],
   "source": [
    "y_train#eğitim veri seti"
   ]
  },
  {
   "cell_type": "code",
   "execution_count": 150,
   "id": "b6fb9d47",
   "metadata": {},
   "outputs": [],
   "source": [
    "KNN = KNeighborsClassifier(n_neighbors=1)#k kadar ayırıp k kısmını test için kalan kısmınıda eğitim için kullanmak"
   ]
  },
  {
   "cell_type": "code",
   "execution_count": 151,
   "id": "5950856a",
   "metadata": {},
   "outputs": [
    {
     "data": {
      "text/plain": [
       "KNeighborsClassifier(n_neighbors=1)"
      ]
     },
     "execution_count": 151,
     "metadata": {},
     "output_type": "execute_result"
    }
   ],
   "source": [
    "KNN.fit(X_train, y_train)#eksik değerleri doldurma yani veri setini eğitme"
   ]
  },
  {
   "cell_type": "code",
   "execution_count": 152,
   "id": "e71726fa",
   "metadata": {},
   "outputs": [],
   "source": [
    "predictions = KNN.predict(X_test)#etiket bilgisiyle tahmin etme"
   ]
  },
  {
   "cell_type": "code",
   "execution_count": 153,
   "id": "b1cd6ae5",
   "metadata": {},
   "outputs": [
    {
     "data": {
      "text/plain": [
       "array([2, 5, 2, ..., 2, 2, 5], dtype=int64)"
      ]
     },
     "execution_count": 153,
     "metadata": {},
     "output_type": "execute_result"
    }
   ],
   "source": [
    "predictions"
   ]
  },
  {
   "cell_type": "code",
   "execution_count": 154,
   "id": "697a7cc9",
   "metadata": {},
   "outputs": [],
   "source": [
    "from sklearn.preprocessing import MinMaxScaler"
   ]
  },
  {
   "cell_type": "code",
   "execution_count": 155,
   "id": "df5b16f8",
   "metadata": {},
   "outputs": [],
   "source": [
    "data=[[2,4],[1.5,10],[24,57],[32,64]]"
   ]
  },
  {
   "cell_type": "code",
   "execution_count": 156,
   "id": "da47d483",
   "metadata": {},
   "outputs": [],
   "source": [
    "scaler= MinMaxScaler()# minimum ve maksimum değerleri bulur ve her birinden minimum değerden çıkarır ve maksimum-minimum değerine böler"
   ]
  },
  {
   "cell_type": "code",
   "execution_count": 157,
   "id": "63c14d5c",
   "metadata": {},
   "outputs": [
    {
     "name": "stdout",
     "output_type": "stream",
     "text": [
      "MinMaxScaler()\n"
     ]
    }
   ],
   "source": [
    "print(scaler.fit(data))"
   ]
  },
  {
   "cell_type": "code",
   "execution_count": 158,
   "id": "a46765c8",
   "metadata": {},
   "outputs": [
    {
     "name": "stdout",
     "output_type": "stream",
     "text": [
      "[32. 64.]\n"
     ]
    }
   ],
   "source": [
    "print(scaler.data_max_)"
   ]
  },
  {
   "cell_type": "code",
   "execution_count": 159,
   "id": "4a9ffdaa",
   "metadata": {},
   "outputs": [
    {
     "name": "stdout",
     "output_type": "stream",
     "text": [
      "MinMaxScaler()\n"
     ]
    }
   ],
   "source": [
    "print(scaler)"
   ]
  },
  {
   "cell_type": "code",
   "execution_count": 160,
   "id": "e1bc9461",
   "metadata": {},
   "outputs": [
    {
     "data": {
      "text/html": [
       "<div>\n",
       "<style scoped>\n",
       "    .dataframe tbody tr th:only-of-type {\n",
       "        vertical-align: middle;\n",
       "    }\n",
       "\n",
       "    .dataframe tbody tr th {\n",
       "        vertical-align: top;\n",
       "    }\n",
       "\n",
       "    .dataframe thead th {\n",
       "        text-align: right;\n",
       "    }\n",
       "</style>\n",
       "<table border=\"1\" class=\"dataframe\">\n",
       "  <thead>\n",
       "    <tr style=\"text-align: right;\">\n",
       "      <th></th>\n",
       "      <th>Booking_ID</th>\n",
       "      <th>no_of_adults</th>\n",
       "      <th>no_of_children</th>\n",
       "      <th>no_of_weekend_nights</th>\n",
       "      <th>no_of_week_nights</th>\n",
       "      <th>type_of_meal_plan</th>\n",
       "      <th>required_car_parking_space</th>\n",
       "      <th>room_type_reserved</th>\n",
       "      <th>lead_time</th>\n",
       "      <th>arrival_year</th>\n",
       "      <th>arrival_month</th>\n",
       "      <th>arrival_date</th>\n",
       "      <th>market_segment_type</th>\n",
       "      <th>repeated_guest</th>\n",
       "      <th>no_of_previous_cancellations</th>\n",
       "      <th>no_of_previous_bookings_not_canceled</th>\n",
       "      <th>avg_price_per_room</th>\n",
       "      <th>no_of_special_requests</th>\n",
       "      <th>booking_status</th>\n",
       "    </tr>\n",
       "  </thead>\n",
       "  <tbody>\n",
       "    <tr>\n",
       "      <th>0</th>\n",
       "      <td>INN00001</td>\n",
       "      <td>2</td>\n",
       "      <td>0</td>\n",
       "      <td>1</td>\n",
       "      <td>2</td>\n",
       "      <td>Meal Plan 1</td>\n",
       "      <td>0</td>\n",
       "      <td>Room_Type 1</td>\n",
       "      <td>224</td>\n",
       "      <td>2017</td>\n",
       "      <td>10</td>\n",
       "      <td>2</td>\n",
       "      <td>Offline</td>\n",
       "      <td>0</td>\n",
       "      <td>0</td>\n",
       "      <td>0</td>\n",
       "      <td>65</td>\n",
       "      <td>0</td>\n",
       "      <td>Not_Canceled</td>\n",
       "    </tr>\n",
       "    <tr>\n",
       "      <th>1</th>\n",
       "      <td>INN00002</td>\n",
       "      <td>2</td>\n",
       "      <td>0</td>\n",
       "      <td>2</td>\n",
       "      <td>3</td>\n",
       "      <td>Not Selected</td>\n",
       "      <td>0</td>\n",
       "      <td>Room_Type 1</td>\n",
       "      <td>5</td>\n",
       "      <td>2018</td>\n",
       "      <td>11</td>\n",
       "      <td>6</td>\n",
       "      <td>Online</td>\n",
       "      <td>0</td>\n",
       "      <td>0</td>\n",
       "      <td>0</td>\n",
       "      <td>10668</td>\n",
       "      <td>1</td>\n",
       "      <td>Not_Canceled</td>\n",
       "    </tr>\n",
       "    <tr>\n",
       "      <th>2</th>\n",
       "      <td>INN00003</td>\n",
       "      <td>1</td>\n",
       "      <td>0</td>\n",
       "      <td>2</td>\n",
       "      <td>1</td>\n",
       "      <td>Meal Plan 1</td>\n",
       "      <td>0</td>\n",
       "      <td>Room_Type 1</td>\n",
       "      <td>1</td>\n",
       "      <td>2018</td>\n",
       "      <td>2</td>\n",
       "      <td>28</td>\n",
       "      <td>Online</td>\n",
       "      <td>0</td>\n",
       "      <td>0</td>\n",
       "      <td>0</td>\n",
       "      <td>60</td>\n",
       "      <td>0</td>\n",
       "      <td>Canceled</td>\n",
       "    </tr>\n",
       "    <tr>\n",
       "      <th>3</th>\n",
       "      <td>INN00004</td>\n",
       "      <td>2</td>\n",
       "      <td>0</td>\n",
       "      <td>0</td>\n",
       "      <td>2</td>\n",
       "      <td>Meal Plan 1</td>\n",
       "      <td>0</td>\n",
       "      <td>Room_Type 1</td>\n",
       "      <td>211</td>\n",
       "      <td>2018</td>\n",
       "      <td>5</td>\n",
       "      <td>20</td>\n",
       "      <td>Online</td>\n",
       "      <td>0</td>\n",
       "      <td>0</td>\n",
       "      <td>0</td>\n",
       "      <td>100</td>\n",
       "      <td>0</td>\n",
       "      <td>Canceled</td>\n",
       "    </tr>\n",
       "    <tr>\n",
       "      <th>4</th>\n",
       "      <td>INN00005</td>\n",
       "      <td>2</td>\n",
       "      <td>0</td>\n",
       "      <td>1</td>\n",
       "      <td>1</td>\n",
       "      <td>Not Selected</td>\n",
       "      <td>0</td>\n",
       "      <td>Room_Type 1</td>\n",
       "      <td>48</td>\n",
       "      <td>2018</td>\n",
       "      <td>4</td>\n",
       "      <td>11</td>\n",
       "      <td>Online</td>\n",
       "      <td>0</td>\n",
       "      <td>0</td>\n",
       "      <td>0</td>\n",
       "      <td>945</td>\n",
       "      <td>0</td>\n",
       "      <td>Canceled</td>\n",
       "    </tr>\n",
       "  </tbody>\n",
       "</table>\n",
       "</div>"
      ],
      "text/plain": [
       "  Booking_ID  no_of_adults  no_of_children  no_of_weekend_nights  \\\n",
       "0   INN00001             2               0                     1   \n",
       "1   INN00002             2               0                     2   \n",
       "2   INN00003             1               0                     2   \n",
       "3   INN00004             2               0                     0   \n",
       "4   INN00005             2               0                     1   \n",
       "\n",
       "   no_of_week_nights type_of_meal_plan  required_car_parking_space  \\\n",
       "0                  2       Meal Plan 1                           0   \n",
       "1                  3      Not Selected                           0   \n",
       "2                  1       Meal Plan 1                           0   \n",
       "3                  2       Meal Plan 1                           0   \n",
       "4                  1      Not Selected                           0   \n",
       "\n",
       "  room_type_reserved  lead_time  arrival_year  arrival_month  arrival_date  \\\n",
       "0        Room_Type 1        224          2017             10             2   \n",
       "1        Room_Type 1          5          2018             11             6   \n",
       "2        Room_Type 1          1          2018              2            28   \n",
       "3        Room_Type 1        211          2018              5            20   \n",
       "4        Room_Type 1         48          2018              4            11   \n",
       "\n",
       "  market_segment_type  repeated_guest  no_of_previous_cancellations  \\\n",
       "0             Offline               0                             0   \n",
       "1              Online               0                             0   \n",
       "2              Online               0                             0   \n",
       "3              Online               0                             0   \n",
       "4              Online               0                             0   \n",
       "\n",
       "   no_of_previous_bookings_not_canceled  avg_price_per_room  \\\n",
       "0                                     0                  65   \n",
       "1                                     0               10668   \n",
       "2                                     0                  60   \n",
       "3                                     0                 100   \n",
       "4                                     0                 945   \n",
       "\n",
       "   no_of_special_requests booking_status  \n",
       "0                       0   Not_Canceled  \n",
       "1                       1   Not_Canceled  \n",
       "2                       0       Canceled  \n",
       "3                       0       Canceled  \n",
       "4                       0       Canceled  "
      ]
     },
     "execution_count": 160,
     "metadata": {},
     "output_type": "execute_result"
    }
   ],
   "source": [
    "df.head()"
   ]
  },
  {
   "cell_type": "code",
   "execution_count": 161,
   "id": "90c2993c",
   "metadata": {},
   "outputs": [],
   "source": [
    "from sklearn import linear_model"
   ]
  },
  {
   "cell_type": "code",
   "execution_count": 162,
   "id": "a927a1f9",
   "metadata": {},
   "outputs": [
    {
     "data": {
      "text/html": [
       "<div>\n",
       "<style scoped>\n",
       "    .dataframe tbody tr th:only-of-type {\n",
       "        vertical-align: middle;\n",
       "    }\n",
       "\n",
       "    .dataframe tbody tr th {\n",
       "        vertical-align: top;\n",
       "    }\n",
       "\n",
       "    .dataframe thead th {\n",
       "        text-align: right;\n",
       "    }\n",
       "</style>\n",
       "<table border=\"1\" class=\"dataframe\">\n",
       "  <thead>\n",
       "    <tr style=\"text-align: right;\">\n",
       "      <th></th>\n",
       "      <th>avg_price_per_room</th>\n",
       "    </tr>\n",
       "  </thead>\n",
       "  <tbody>\n",
       "    <tr>\n",
       "      <th>0</th>\n",
       "      <td>65</td>\n",
       "    </tr>\n",
       "    <tr>\n",
       "      <th>1</th>\n",
       "      <td>10668</td>\n",
       "    </tr>\n",
       "    <tr>\n",
       "      <th>2</th>\n",
       "      <td>60</td>\n",
       "    </tr>\n",
       "    <tr>\n",
       "      <th>3</th>\n",
       "      <td>100</td>\n",
       "    </tr>\n",
       "    <tr>\n",
       "      <th>4</th>\n",
       "      <td>945</td>\n",
       "    </tr>\n",
       "    <tr>\n",
       "      <th>...</th>\n",
       "      <td>...</td>\n",
       "    </tr>\n",
       "    <tr>\n",
       "      <th>9994</th>\n",
       "      <td>1521</td>\n",
       "    </tr>\n",
       "    <tr>\n",
       "      <th>9995</th>\n",
       "      <td>75</td>\n",
       "    </tr>\n",
       "    <tr>\n",
       "      <th>9996</th>\n",
       "      <td>13867</td>\n",
       "    </tr>\n",
       "    <tr>\n",
       "      <th>9997</th>\n",
       "      <td>75</td>\n",
       "    </tr>\n",
       "    <tr>\n",
       "      <th>9998</th>\n",
       "      <td>7225</td>\n",
       "    </tr>\n",
       "  </tbody>\n",
       "</table>\n",
       "<p>9999 rows × 1 columns</p>\n",
       "</div>"
      ],
      "text/plain": [
       "      avg_price_per_room\n",
       "0                     65\n",
       "1                  10668\n",
       "2                     60\n",
       "3                    100\n",
       "4                    945\n",
       "...                  ...\n",
       "9994                1521\n",
       "9995                  75\n",
       "9996               13867\n",
       "9997                  75\n",
       "9998                7225\n",
       "\n",
       "[9999 rows x 1 columns]"
      ]
     },
     "execution_count": 162,
     "metadata": {},
     "output_type": "execute_result"
    }
   ],
   "source": [
    "df[['avg_price_per_room']]#bağımlı değişken"
   ]
  },
  {
   "cell_type": "code",
   "execution_count": 163,
   "id": "b73b32e0",
   "metadata": {},
   "outputs": [
    {
     "data": {
      "text/html": [
       "<div>\n",
       "<style scoped>\n",
       "    .dataframe tbody tr th:only-of-type {\n",
       "        vertical-align: middle;\n",
       "    }\n",
       "\n",
       "    .dataframe tbody tr th {\n",
       "        vertical-align: top;\n",
       "    }\n",
       "\n",
       "    .dataframe thead th {\n",
       "        text-align: right;\n",
       "    }\n",
       "</style>\n",
       "<table border=\"1\" class=\"dataframe\">\n",
       "  <thead>\n",
       "    <tr style=\"text-align: right;\">\n",
       "      <th></th>\n",
       "      <th>no_of_children</th>\n",
       "      <th>repeated_guest</th>\n",
       "      <th>arrival_date</th>\n",
       "    </tr>\n",
       "  </thead>\n",
       "  <tbody>\n",
       "    <tr>\n",
       "      <th>0</th>\n",
       "      <td>0</td>\n",
       "      <td>0</td>\n",
       "      <td>2</td>\n",
       "    </tr>\n",
       "    <tr>\n",
       "      <th>1</th>\n",
       "      <td>0</td>\n",
       "      <td>0</td>\n",
       "      <td>6</td>\n",
       "    </tr>\n",
       "    <tr>\n",
       "      <th>2</th>\n",
       "      <td>0</td>\n",
       "      <td>0</td>\n",
       "      <td>28</td>\n",
       "    </tr>\n",
       "    <tr>\n",
       "      <th>3</th>\n",
       "      <td>0</td>\n",
       "      <td>0</td>\n",
       "      <td>20</td>\n",
       "    </tr>\n",
       "    <tr>\n",
       "      <th>4</th>\n",
       "      <td>0</td>\n",
       "      <td>0</td>\n",
       "      <td>11</td>\n",
       "    </tr>\n",
       "    <tr>\n",
       "      <th>...</th>\n",
       "      <td>...</td>\n",
       "      <td>...</td>\n",
       "      <td>...</td>\n",
       "    </tr>\n",
       "    <tr>\n",
       "      <th>9994</th>\n",
       "      <td>0</td>\n",
       "      <td>0</td>\n",
       "      <td>24</td>\n",
       "    </tr>\n",
       "    <tr>\n",
       "      <th>9995</th>\n",
       "      <td>0</td>\n",
       "      <td>0</td>\n",
       "      <td>3</td>\n",
       "    </tr>\n",
       "    <tr>\n",
       "      <th>9996</th>\n",
       "      <td>0</td>\n",
       "      <td>0</td>\n",
       "      <td>12</td>\n",
       "    </tr>\n",
       "    <tr>\n",
       "      <th>9997</th>\n",
       "      <td>0</td>\n",
       "      <td>0</td>\n",
       "      <td>12</td>\n",
       "    </tr>\n",
       "    <tr>\n",
       "      <th>9998</th>\n",
       "      <td>0</td>\n",
       "      <td>0</td>\n",
       "      <td>20</td>\n",
       "    </tr>\n",
       "  </tbody>\n",
       "</table>\n",
       "<p>9999 rows × 3 columns</p>\n",
       "</div>"
      ],
      "text/plain": [
       "      no_of_children  repeated_guest  arrival_date\n",
       "0                  0               0             2\n",
       "1                  0               0             6\n",
       "2                  0               0            28\n",
       "3                  0               0            20\n",
       "4                  0               0            11\n",
       "...              ...             ...           ...\n",
       "9994               0               0            24\n",
       "9995               0               0             3\n",
       "9996               0               0            12\n",
       "9997               0               0            12\n",
       "9998               0               0            20\n",
       "\n",
       "[9999 rows x 3 columns]"
      ]
     },
     "execution_count": 163,
     "metadata": {},
     "output_type": "execute_result"
    }
   ],
   "source": [
    "df[['no_of_children','repeated_guest','arrival_date']]#bağımsız değişkenler"
   ]
  },
  {
   "cell_type": "code",
   "execution_count": 164,
   "id": "fde0ed13",
   "metadata": {},
   "outputs": [],
   "source": [
    "reg=linear_model.LinearRegression()#doğrusal regresyon"
   ]
  },
  {
   "cell_type": "code",
   "execution_count": 165,
   "id": "419c507f",
   "metadata": {},
   "outputs": [
    {
     "data": {
      "text/plain": [
       "LinearRegression()"
      ]
     },
     "execution_count": 165,
     "metadata": {},
     "output_type": "execute_result"
    }
   ],
   "source": [
    "reg.fit(df[['no_of_children','repeated_guest','arrival_date']], df['avg_price_per_room'])"
   ]
  },
  {
   "cell_type": "code",
   "execution_count": 167,
   "id": "57ab4b02",
   "metadata": {},
   "outputs": [
    {
     "name": "stderr",
     "output_type": "stream",
     "text": [
      "C:\\Users\\casper\\anaconda3\\lib\\site-packages\\sklearn\\base.py:450: UserWarning: X does not have valid feature names, but LinearRegression was fitted with feature names\n",
      "  warnings.warn(\n"
     ]
    },
    {
     "data": {
      "text/plain": [
       "array([233756.04099423])"
      ]
     },
     "execution_count": 167,
     "metadata": {},
     "output_type": "execute_result"
    }
   ],
   "source": [
    "reg.predict([[300,100,500]])#regresyon işleminde girdiğimiz yeni 3 bağımsız değişkene göre tahmin ettik"
   ]
  },
  {
   "cell_type": "code",
   "execution_count": 168,
   "id": "90b4a748",
   "metadata": {},
   "outputs": [
    {
     "data": {
      "text/plain": [
       "array([ 1589.08029115, -2549.93597136,    19.18850919])"
      ]
     },
     "execution_count": 168,
     "metadata": {},
     "output_type": "execute_result"
    }
   ],
   "source": [
    "reg.coef_#sabitleri"
   ]
  },
  {
   "cell_type": "code",
   "execution_count": 169,
   "id": "2847b4c8",
   "metadata": {},
   "outputs": [
    {
     "data": {
      "text/plain": [
       "2431.2961916995296"
      ]
     },
     "execution_count": 169,
     "metadata": {},
     "output_type": "execute_result"
    }
   ],
   "source": [
    "reg.intercept_#a +bx a için"
   ]
  },
  {
   "cell_type": "code",
   "execution_count": 170,
   "id": "bed9dcc1",
   "metadata": {},
   "outputs": [],
   "source": [
    "a=reg.intercept_\n",
    "b1=reg.coef_[0]\n",
    "b2=reg.coef_[1]\n",
    "b3=reg.coef_[2]\n",
    "x1=300\n",
    "x2=100\n",
    "x3=500\n",
    "y=a+b1*x1+b2*x2+b3*x3"
   ]
  },
  {
   "cell_type": "code",
   "execution_count": 171,
   "id": "1ec10fad",
   "metadata": {},
   "outputs": [
    {
     "data": {
      "text/plain": [
       "233756.04099423077"
      ]
     },
     "execution_count": 171,
     "metadata": {},
     "output_type": "execute_result"
    }
   ],
   "source": [
    "y"
   ]
  },
  {
   "cell_type": "code",
   "execution_count": 172,
   "id": "af318e2c",
   "metadata": {},
   "outputs": [],
   "source": [
    "duzeltme_mapping_type_of_meal_plan={'Not Selected':0,'Meal Plan 1':1,'Meal Plan 2':2,'Meal Plan 3':3}#string ifadeleri puanlama ya da integer değerlere atama diyebiliriz"
   ]
  },
  {
   "cell_type": "code",
   "execution_count": 173,
   "id": "39898675",
   "metadata": {},
   "outputs": [],
   "source": [
    "df['type_of_meal_plan']=df['type_of_meal_plan'].map(duzeltme_mapping_type_of_meal_plan)\n",
    "duzeltme_mapping_type_of_meal_plan={'Not Selected':0,'Meal Plan 1':1,'Meal Plan 2':2,'Meal Plan 3':3}"
   ]
  },
  {
   "cell_type": "code",
   "execution_count": 174,
   "id": "6ce88920",
   "metadata": {},
   "outputs": [
    {
     "data": {
      "text/plain": [
       "0       1\n",
       "1       0\n",
       "2       1\n",
       "3       1\n",
       "4       0\n",
       "       ..\n",
       "9994    1\n",
       "9995    1\n",
       "9996    1\n",
       "9997    1\n",
       "9998    1\n",
       "Name: type_of_meal_plan, Length: 9999, dtype: int64"
      ]
     },
     "execution_count": 174,
     "metadata": {},
     "output_type": "execute_result"
    }
   ],
   "source": [
    "df['type_of_meal_plan']"
   ]
  },
  {
   "cell_type": "code",
   "execution_count": 175,
   "id": "f7e64159",
   "metadata": {},
   "outputs": [],
   "source": [
    "from sklearn import tree\n",
    "from sklearn.tree import DecisionTreeClassifier#karar ağacı"
   ]
  },
  {
   "cell_type": "code",
   "execution_count": 176,
   "id": "8e4fc42c",
   "metadata": {},
   "outputs": [],
   "source": [
    "import pandas as pd\n",
    "import numpy as np\n",
    "from sklearn import datasets\n",
    "\n",
    "agac=['lead_time', 'arrival_date','avg_price_per_room','no_of_week_nights']\n",
    "\n",
    "iris = datasets.load_iris()\n",
    "X = pd.DataFrame(iris.data, columns = agac)\n",
    "y = iris.target"
   ]
  },
  {
   "cell_type": "code",
   "execution_count": 177,
   "id": "349d1b80",
   "metadata": {},
   "outputs": [
    {
     "data": {
      "text/plain": [
       "DecisionTreeClassifier()"
      ]
     },
     "execution_count": 177,
     "metadata": {},
     "output_type": "execute_result"
    }
   ],
   "source": [
    "from sklearn.tree import DecisionTreeClassifier\n",
    "model = DecisionTreeClassifier()\n",
    "model.fit(X,y)"
   ]
  },
  {
   "cell_type": "code",
   "execution_count": 178,
   "id": "52f81680",
   "metadata": {},
   "outputs": [
    {
     "data": {
      "image/png": "[encoded data removed]",
      "text/plain": [
       "<Figure size 432x288 with 1 Axes>"
      ]
     },
     "metadata": {
      "needs_background": "light"
     },
     "output_type": "display_data"
    }
   ],
   "source": [
    "agac=tree.plot_tree(model)"
   ]
  },
  {
   "cell_type": "code",
   "execution_count": 183,
   "id": "5cbcdf13",
   "metadata": {},
   "outputs": [],
   "source": [
    "from sklearn.cluster import KMeans#kümeleme ve ortalama\n",
    "import pandas as pd\n",
    "from sklearn.preprocessing import MinMaxScaler#minmax yöntemi ile normalize edelim\n",
    "from matplotlib import pyplot as plt "
   ]
  },
  {
   "cell_type": "code",
   "execution_count": 184,
   "id": "e8dc565f",
   "metadata": {},
   "outputs": [],
   "source": [
    "scaler=MinMaxScaler()"
   ]
  },
  {
   "cell_type": "code",
   "execution_count": 185,
   "id": "516ebf12",
   "metadata": {},
   "outputs": [
    {
     "data": {
      "text/html": [
       "<div>\n",
       "<style scoped>\n",
       "    .dataframe tbody tr th:only-of-type {\n",
       "        vertical-align: middle;\n",
       "    }\n",
       "\n",
       "    .dataframe tbody tr th {\n",
       "        vertical-align: top;\n",
       "    }\n",
       "\n",
       "    .dataframe thead th {\n",
       "        text-align: right;\n",
       "    }\n",
       "</style>\n",
       "<table border=\"1\" class=\"dataframe\">\n",
       "  <thead>\n",
       "    <tr style=\"text-align: right;\">\n",
       "      <th></th>\n",
       "      <th>Booking_ID</th>\n",
       "      <th>no_of_adults</th>\n",
       "      <th>no_of_children</th>\n",
       "      <th>no_of_weekend_nights</th>\n",
       "      <th>no_of_week_nights</th>\n",
       "      <th>type_of_meal_plan</th>\n",
       "      <th>required_car_parking_space</th>\n",
       "      <th>room_type_reserved</th>\n",
       "      <th>lead_time</th>\n",
       "      <th>arrival_year</th>\n",
       "      <th>arrival_month</th>\n",
       "      <th>arrival_date</th>\n",
       "      <th>market_segment_type</th>\n",
       "      <th>repeated_guest</th>\n",
       "      <th>no_of_previous_cancellations</th>\n",
       "      <th>no_of_previous_bookings_not_canceled</th>\n",
       "      <th>avg_price_per_room</th>\n",
       "      <th>no_of_special_requests</th>\n",
       "      <th>booking_status</th>\n",
       "    </tr>\n",
       "  </thead>\n",
       "  <tbody>\n",
       "    <tr>\n",
       "      <th>0</th>\n",
       "      <td>INN00001</td>\n",
       "      <td>2</td>\n",
       "      <td>0</td>\n",
       "      <td>1</td>\n",
       "      <td>2</td>\n",
       "      <td>1</td>\n",
       "      <td>0</td>\n",
       "      <td>Room_Type 1</td>\n",
       "      <td>0.505643</td>\n",
       "      <td>2017</td>\n",
       "      <td>10</td>\n",
       "      <td>2</td>\n",
       "      <td>Offline</td>\n",
       "      <td>0</td>\n",
       "      <td>0</td>\n",
       "      <td>0</td>\n",
       "      <td>65</td>\n",
       "      <td>0</td>\n",
       "      <td>Not_Canceled</td>\n",
       "    </tr>\n",
       "    <tr>\n",
       "      <th>1</th>\n",
       "      <td>INN00002</td>\n",
       "      <td>2</td>\n",
       "      <td>0</td>\n",
       "      <td>2</td>\n",
       "      <td>3</td>\n",
       "      <td>0</td>\n",
       "      <td>0</td>\n",
       "      <td>Room_Type 1</td>\n",
       "      <td>0.011287</td>\n",
       "      <td>2018</td>\n",
       "      <td>11</td>\n",
       "      <td>6</td>\n",
       "      <td>Online</td>\n",
       "      <td>0</td>\n",
       "      <td>0</td>\n",
       "      <td>0</td>\n",
       "      <td>10668</td>\n",
       "      <td>1</td>\n",
       "      <td>Not_Canceled</td>\n",
       "    </tr>\n",
       "    <tr>\n",
       "      <th>2</th>\n",
       "      <td>INN00003</td>\n",
       "      <td>1</td>\n",
       "      <td>0</td>\n",
       "      <td>2</td>\n",
       "      <td>1</td>\n",
       "      <td>1</td>\n",
       "      <td>0</td>\n",
       "      <td>Room_Type 1</td>\n",
       "      <td>0.002257</td>\n",
       "      <td>2018</td>\n",
       "      <td>2</td>\n",
       "      <td>28</td>\n",
       "      <td>Online</td>\n",
       "      <td>0</td>\n",
       "      <td>0</td>\n",
       "      <td>0</td>\n",
       "      <td>60</td>\n",
       "      <td>0</td>\n",
       "      <td>Canceled</td>\n",
       "    </tr>\n",
       "    <tr>\n",
       "      <th>3</th>\n",
       "      <td>INN00004</td>\n",
       "      <td>2</td>\n",
       "      <td>0</td>\n",
       "      <td>0</td>\n",
       "      <td>2</td>\n",
       "      <td>1</td>\n",
       "      <td>0</td>\n",
       "      <td>Room_Type 1</td>\n",
       "      <td>0.476298</td>\n",
       "      <td>2018</td>\n",
       "      <td>5</td>\n",
       "      <td>20</td>\n",
       "      <td>Online</td>\n",
       "      <td>0</td>\n",
       "      <td>0</td>\n",
       "      <td>0</td>\n",
       "      <td>100</td>\n",
       "      <td>0</td>\n",
       "      <td>Canceled</td>\n",
       "    </tr>\n",
       "    <tr>\n",
       "      <th>4</th>\n",
       "      <td>INN00005</td>\n",
       "      <td>2</td>\n",
       "      <td>0</td>\n",
       "      <td>1</td>\n",
       "      <td>1</td>\n",
       "      <td>0</td>\n",
       "      <td>0</td>\n",
       "      <td>Room_Type 1</td>\n",
       "      <td>0.108352</td>\n",
       "      <td>2018</td>\n",
       "      <td>4</td>\n",
       "      <td>11</td>\n",
       "      <td>Online</td>\n",
       "      <td>0</td>\n",
       "      <td>0</td>\n",
       "      <td>0</td>\n",
       "      <td>945</td>\n",
       "      <td>0</td>\n",
       "      <td>Canceled</td>\n",
       "    </tr>\n",
       "  </tbody>\n",
       "</table>\n",
       "</div>"
      ],
      "text/plain": [
       "  Booking_ID  no_of_adults  no_of_children  no_of_weekend_nights  \\\n",
       "0   INN00001             2               0                     1   \n",
       "1   INN00002             2               0                     2   \n",
       "2   INN00003             1               0                     2   \n",
       "3   INN00004             2               0                     0   \n",
       "4   INN00005             2               0                     1   \n",
       "\n",
       "   no_of_week_nights  type_of_meal_plan  required_car_parking_space  \\\n",
       "0                  2                  1                           0   \n",
       "1                  3                  0                           0   \n",
       "2                  1                  1                           0   \n",
       "3                  2                  1                           0   \n",
       "4                  1                  0                           0   \n",
       "\n",
       "  room_type_reserved  lead_time  arrival_year  arrival_month  arrival_date  \\\n",
       "0        Room_Type 1   0.505643          2017             10             2   \n",
       "1        Room_Type 1   0.011287          2018             11             6   \n",
       "2        Room_Type 1   0.002257          2018              2            28   \n",
       "3        Room_Type 1   0.476298          2018              5            20   \n",
       "4        Room_Type 1   0.108352          2018              4            11   \n",
       "\n",
       "  market_segment_type  repeated_guest  no_of_previous_cancellations  \\\n",
       "0             Offline               0                             0   \n",
       "1              Online               0                             0   \n",
       "2              Online               0                             0   \n",
       "3              Online               0                             0   \n",
       "4              Online               0                             0   \n",
       "\n",
       "   no_of_previous_bookings_not_canceled  avg_price_per_room  \\\n",
       "0                                     0                  65   \n",
       "1                                     0               10668   \n",
       "2                                     0                  60   \n",
       "3                                     0                 100   \n",
       "4                                     0                 945   \n",
       "\n",
       "   no_of_special_requests booking_status  \n",
       "0                       0   Not_Canceled  \n",
       "1                       1   Not_Canceled  \n",
       "2                       0       Canceled  \n",
       "3                       0       Canceled  \n",
       "4                       0       Canceled  "
      ]
     },
     "execution_count": 185,
     "metadata": {},
     "output_type": "execute_result"
    }
   ],
   "source": [
    "scaler.fit(df[['lead_time']])#\n",
    "df['lead_time']=scaler.transform(df[['lead_time']])\n",
    "df.head()"
   ]
  },
  {
   "cell_type": "code",
   "execution_count": 186,
   "id": "346ab61b",
   "metadata": {},
   "outputs": [
    {
     "data": {
      "text/plain": [
       "range(10, 50)"
      ]
     },
     "execution_count": 186,
     "metadata": {},
     "output_type": "execute_result"
    }
   ],
   "source": [
    "k_range=range(10,50)\n",
    "k_range"
   ]
  },
  {
   "cell_type": "code",
   "execution_count": 187,
   "id": "e21c95eb",
   "metadata": {},
   "outputs": [],
   "source": [
    "list_dist=[]"
   ]
  },
  {
   "cell_type": "code",
   "execution_count": 188,
   "id": "a38d3e6c",
   "metadata": {},
   "outputs": [],
   "source": [
    "for k in k_range:#k-en yakın komşu algoritması\n",
    "    kmeans_modelim=KMeans(n_clusters=k)\n",
    "    kmeans_modelim.fit(df[['arrival_date','lead_time']])\n",
    "    list_dist.append(kmeans_modelim.inertia_)"
   ]
  },
  {
   "cell_type": "code",
   "execution_count": 189,
   "id": "0c95fd9b",
   "metadata": {},
   "outputs": [
    {
     "data": {
      "image/png": "[encoded data removed]",
      "text/plain": [
       "<Figure size 432x288 with 1 Axes>"
      ]
     },
     "metadata": {
      "needs_background": "light"
     },
     "output_type": "display_data"
    }
   ],
   "source": [
    "plt.xlabel('K')\n",
    "plt.ylabel('Distortion değeri(inertia)')\n",
    "plt.plot(k_range,list_dist)\n",
    "plt.show()"
   ]
  },
  {
   "cell_type": "code",
   "execution_count": 192,
   "id": "5b8da4a9",
   "metadata": {},
   "outputs": [
    {
     "data": {
      "text/plain": [
       "array([ 5,  2,  1, ..., 13, 13,  3])"
      ]
     },
     "execution_count": 192,
     "metadata": {},
     "output_type": "execute_result"
    }
   ],
   "source": [
    "kmeans_model=KMeans(n_clusters=14)#14'ten kırıldı bu yüzden aşağıda 14 tane df yaptık\n",
    "y_predicted=kmeans_model.fit_predict(df[['arrival_date','lead_time']])\n",
    "y_predicted "
   ]
  },
  {
   "cell_type": "code",
   "execution_count": 193,
   "id": "6667c31f",
   "metadata": {},
   "outputs": [
    {
     "data": {
      "text/html": [
       "<div>\n",
       "<style scoped>\n",
       "    .dataframe tbody tr th:only-of-type {\n",
       "        vertical-align: middle;\n",
       "    }\n",
       "\n",
       "    .dataframe tbody tr th {\n",
       "        vertical-align: top;\n",
       "    }\n",
       "\n",
       "    .dataframe thead th {\n",
       "        text-align: right;\n",
       "    }\n",
       "</style>\n",
       "<table border=\"1\" class=\"dataframe\">\n",
       "  <thead>\n",
       "    <tr style=\"text-align: right;\">\n",
       "      <th></th>\n",
       "      <th>Booking_ID</th>\n",
       "      <th>no_of_adults</th>\n",
       "      <th>no_of_children</th>\n",
       "      <th>no_of_weekend_nights</th>\n",
       "      <th>no_of_week_nights</th>\n",
       "      <th>type_of_meal_plan</th>\n",
       "      <th>required_car_parking_space</th>\n",
       "      <th>room_type_reserved</th>\n",
       "      <th>lead_time</th>\n",
       "      <th>arrival_year</th>\n",
       "      <th>arrival_month</th>\n",
       "      <th>arrival_date</th>\n",
       "      <th>market_segment_type</th>\n",
       "      <th>repeated_guest</th>\n",
       "      <th>no_of_previous_cancellations</th>\n",
       "      <th>no_of_previous_bookings_not_canceled</th>\n",
       "      <th>avg_price_per_room</th>\n",
       "      <th>no_of_special_requests</th>\n",
       "      <th>booking_status</th>\n",
       "      <th>kume</th>\n",
       "    </tr>\n",
       "  </thead>\n",
       "  <tbody>\n",
       "    <tr>\n",
       "      <th>0</th>\n",
       "      <td>INN00001</td>\n",
       "      <td>2</td>\n",
       "      <td>0</td>\n",
       "      <td>1</td>\n",
       "      <td>2</td>\n",
       "      <td>1</td>\n",
       "      <td>0</td>\n",
       "      <td>Room_Type 1</td>\n",
       "      <td>0.505643</td>\n",
       "      <td>2017</td>\n",
       "      <td>10</td>\n",
       "      <td>2</td>\n",
       "      <td>Offline</td>\n",
       "      <td>0</td>\n",
       "      <td>0</td>\n",
       "      <td>0</td>\n",
       "      <td>65</td>\n",
       "      <td>0</td>\n",
       "      <td>Not_Canceled</td>\n",
       "      <td>5</td>\n",
       "    </tr>\n",
       "    <tr>\n",
       "      <th>1</th>\n",
       "      <td>INN00002</td>\n",
       "      <td>2</td>\n",
       "      <td>0</td>\n",
       "      <td>2</td>\n",
       "      <td>3</td>\n",
       "      <td>0</td>\n",
       "      <td>0</td>\n",
       "      <td>Room_Type 1</td>\n",
       "      <td>0.011287</td>\n",
       "      <td>2018</td>\n",
       "      <td>11</td>\n",
       "      <td>6</td>\n",
       "      <td>Online</td>\n",
       "      <td>0</td>\n",
       "      <td>0</td>\n",
       "      <td>0</td>\n",
       "      <td>10668</td>\n",
       "      <td>1</td>\n",
       "      <td>Not_Canceled</td>\n",
       "      <td>2</td>\n",
       "    </tr>\n",
       "    <tr>\n",
       "      <th>2</th>\n",
       "      <td>INN00003</td>\n",
       "      <td>1</td>\n",
       "      <td>0</td>\n",
       "      <td>2</td>\n",
       "      <td>1</td>\n",
       "      <td>1</td>\n",
       "      <td>0</td>\n",
       "      <td>Room_Type 1</td>\n",
       "      <td>0.002257</td>\n",
       "      <td>2018</td>\n",
       "      <td>2</td>\n",
       "      <td>28</td>\n",
       "      <td>Online</td>\n",
       "      <td>0</td>\n",
       "      <td>0</td>\n",
       "      <td>0</td>\n",
       "      <td>60</td>\n",
       "      <td>0</td>\n",
       "      <td>Canceled</td>\n",
       "      <td>1</td>\n",
       "    </tr>\n",
       "    <tr>\n",
       "      <th>3</th>\n",
       "      <td>INN00004</td>\n",
       "      <td>2</td>\n",
       "      <td>0</td>\n",
       "      <td>0</td>\n",
       "      <td>2</td>\n",
       "      <td>1</td>\n",
       "      <td>0</td>\n",
       "      <td>Room_Type 1</td>\n",
       "      <td>0.476298</td>\n",
       "      <td>2018</td>\n",
       "      <td>5</td>\n",
       "      <td>20</td>\n",
       "      <td>Online</td>\n",
       "      <td>0</td>\n",
       "      <td>0</td>\n",
       "      <td>0</td>\n",
       "      <td>100</td>\n",
       "      <td>0</td>\n",
       "      <td>Canceled</td>\n",
       "      <td>3</td>\n",
       "    </tr>\n",
       "    <tr>\n",
       "      <th>4</th>\n",
       "      <td>INN00005</td>\n",
       "      <td>2</td>\n",
       "      <td>0</td>\n",
       "      <td>1</td>\n",
       "      <td>1</td>\n",
       "      <td>0</td>\n",
       "      <td>0</td>\n",
       "      <td>Room_Type 1</td>\n",
       "      <td>0.108352</td>\n",
       "      <td>2018</td>\n",
       "      <td>4</td>\n",
       "      <td>11</td>\n",
       "      <td>Online</td>\n",
       "      <td>0</td>\n",
       "      <td>0</td>\n",
       "      <td>0</td>\n",
       "      <td>945</td>\n",
       "      <td>0</td>\n",
       "      <td>Canceled</td>\n",
       "      <td>13</td>\n",
       "    </tr>\n",
       "  </tbody>\n",
       "</table>\n",
       "</div>"
      ],
      "text/plain": [
       "  Booking_ID  no_of_adults  no_of_children  no_of_weekend_nights  \\\n",
       "0   INN00001             2               0                     1   \n",
       "1   INN00002             2               0                     2   \n",
       "2   INN00003             1               0                     2   \n",
       "3   INN00004             2               0                     0   \n",
       "4   INN00005             2               0                     1   \n",
       "\n",
       "   no_of_week_nights  type_of_meal_plan  required_car_parking_space  \\\n",
       "0                  2                  1                           0   \n",
       "1                  3                  0                           0   \n",
       "2                  1                  1                           0   \n",
       "3                  2                  1                           0   \n",
       "4                  1                  0                           0   \n",
       "\n",
       "  room_type_reserved  lead_time  arrival_year  arrival_month  arrival_date  \\\n",
       "0        Room_Type 1   0.505643          2017             10             2   \n",
       "1        Room_Type 1   0.011287          2018             11             6   \n",
       "2        Room_Type 1   0.002257          2018              2            28   \n",
       "3        Room_Type 1   0.476298          2018              5            20   \n",
       "4        Room_Type 1   0.108352          2018              4            11   \n",
       "\n",
       "  market_segment_type  repeated_guest  no_of_previous_cancellations  \\\n",
       "0             Offline               0                             0   \n",
       "1              Online               0                             0   \n",
       "2              Online               0                             0   \n",
       "3              Online               0                             0   \n",
       "4              Online               0                             0   \n",
       "\n",
       "   no_of_previous_bookings_not_canceled  avg_price_per_room  \\\n",
       "0                                     0                  65   \n",
       "1                                     0               10668   \n",
       "2                                     0                  60   \n",
       "3                                     0                 100   \n",
       "4                                     0                 945   \n",
       "\n",
       "   no_of_special_requests booking_status  kume  \n",
       "0                       0   Not_Canceled     5  \n",
       "1                       1   Not_Canceled     2  \n",
       "2                       0       Canceled     1  \n",
       "3                       0       Canceled     3  \n",
       "4                       0       Canceled    13  "
      ]
     },
     "execution_count": 193,
     "metadata": {},
     "output_type": "execute_result"
    }
   ],
   "source": [
    "df['kume']=y_predicted#kümeyi datasetimize ekledik\n",
    "df.head()"
   ]
  },
  {
   "cell_type": "code",
   "execution_count": 194,
   "id": "972f8602",
   "metadata": {},
   "outputs": [
    {
     "data": {
      "text/plain": [
       "array([[13.4602961 ,  0.2014498 ],\n",
       "       [28.06603774,  0.18658754],\n",
       "       [ 5.5115942 ,  0.17934701],\n",
       "       [19.48563218,  0.17476519],\n",
       "       [ 7.54037267,  0.17407428],\n",
       "       [ 1.54776119,  0.1951282 ],\n",
       "       [21.98137369,  0.20968789],\n",
       "       [24.99030172,  0.19676286],\n",
       "       [ 9.47649919,  0.16477824],\n",
       "       [15.49931787,  0.20869121],\n",
       "       [30.32438017,  0.2061032 ],\n",
       "       [17.50421348,  0.2074435 ],\n",
       "       [ 3.52941176,  0.22280189],\n",
       "       [11.52166934,  0.16569139]])"
      ]
     },
     "execution_count": 194,
     "metadata": {},
     "output_type": "execute_result"
    }
   ],
   "source": [
    "kmeans_model.cluster_centers_ #orta nokta bulma"
   ]
  },
  {
   "cell_type": "code",
   "execution_count": 195,
   "id": "2d51c648",
   "metadata": {},
   "outputs": [],
   "source": [
    "df1=df[df.kume==0]\n",
    "df2=df[df.kume==1]\n",
    "df3=df[df.kume==2]\n",
    "df4=df[df.kume==3]\n",
    "df5=df[df.kume==4]\n",
    "df6=df[df.kume==5]\n",
    "df7=df[df.kume==6]\n",
    "df8=df[df.kume==7]\n",
    "df9=df[df.kume==8]\n",
    "df10=df[df.kume==9]\n",
    "df11=df[df.kume==10]\n",
    "df12=df[df.kume==11]\n",
    "df13=df[df.kume==12]\n",
    "df14=df[df.kume==13]"
   ]
  },
  {
   "cell_type": "code",
   "execution_count": 196,
   "id": "5bb348ea",
   "metadata": {},
   "outputs": [
    {
     "data": {
      "text/plain": [
       "<matplotlib.collections.PathCollection at 0x2a454df7b50>"
      ]
     },
     "execution_count": 196,
     "metadata": {},
     "output_type": "execute_result"
    },
    {
     "data": {
      "image/png": "[encoded data removed]",
      "text/plain": [
       "<Figure size 432x288 with 1 Axes>"
      ]
     },
     "metadata": {
      "needs_background": "light"
     },
     "output_type": "display_data"
    }
   ],
   "source": [
    "plt.xlabel('arrival_date')\n",
    "plt.ylabel('lead_time')\n",
    "plt.scatter(df1['arrival_date'],df1['lead_time'],color='purple')\n",
    "plt.scatter(df2['arrival_date'],df2['lead_time'],color='green')\n",
    "plt.scatter(df3['arrival_date'],df3['lead_time'],color='orange')\n",
    "plt.scatter(df4['arrival_date'],df4['lead_time'],color='yellow')\n",
    "plt.scatter(df5['arrival_date'],df5['lead_time'],color='pink')\n",
    "plt.scatter(df6['arrival_date'],df6['lead_time'],color='brown')\n",
    "plt.scatter(df7['arrival_date'],df7['lead_time'],color='black')\n",
    "plt.scatter(df8['arrival_date'],df8['lead_time'],color='gray')\n",
    "plt.scatter(df9['arrival_date'],df9['lead_time'],color='red')\n",
    "plt.scatter(df10['arrival_date'],df10['lead_time'],color='blue')\n",
    "plt.scatter(df11['arrival_date'],df11['lead_time'],color='violet')\n",
    "plt.scatter(df12['arrival_date'],df12['lead_time'],color='silver')\n",
    "plt.scatter(df13['arrival_date'],df13['lead_time'],color='gold')\n",
    "plt.scatter(df14['arrival_date'],df14['lead_time'],color='Turquoise')"
   ]
  },
  {
   "cell_type": "code",
   "execution_count": 197,
   "id": "0e9aefd5",
   "metadata": {},
   "outputs": [
    {
     "data": {
      "image/png": "[encoded data removed]",
      "text/plain": [
       "<Figure size 432x288 with 1 Axes>"
      ]
     },
     "metadata": {
      "needs_background": "light"
     },
     "output_type": "display_data"
    }
   ],
   "source": [
    "plt.scatter(kmeans_modelim.cluster_centers_[:,0],kmeans_modelim.cluster_centers_[:,1],color='red',marker='X',label='centroid')\n",
    "plt.legend()\n",
    "plt.show()"
   ]
  },
  {
   "cell_type": "code",
   "execution_count": 198,
   "id": "61619b52",
   "metadata": {},
   "outputs": [],
   "source": [
    "import tensorflow as tf#zaman serisi çalışması\n",
    "from tensorflow.keras.layers import Dense,LSTM  \n",
    "from tensorflow.keras.models import Sequential  \n",
    "from sklearn.preprocessing import MinMaxScaler"
   ]
  },
  {
   "cell_type": "code",
   "execution_count": 199,
   "id": "a962bc23",
   "metadata": {},
   "outputs": [
    {
     "data": {
      "text/plain": [
       "0       0.505643\n",
       "1       0.011287\n",
       "2       0.002257\n",
       "3       0.476298\n",
       "4       0.108352\n",
       "          ...   \n",
       "9994    0.246050\n",
       "9995    0.124153\n",
       "9996    0.004515\n",
       "9997    0.237020\n",
       "9998    0.467269\n",
       "Name: LT, Length: 9999, dtype: float64"
      ]
     },
     "execution_count": 199,
     "metadata": {},
     "output_type": "execute_result"
    }
   ],
   "source": [
    "df.rename(columns={'lead_time':'LT'},inplace=True)\n",
    "df = df['LT']\n",
    "type(df)\n",
    "df"
   ]
  },
  {
   "cell_type": "code",
   "execution_count": 200,
   "id": "e628dcb9",
   "metadata": {},
   "outputs": [
    {
     "data": {
      "text/plain": [
       "pandas.core.series.Series"
      ]
     },
     "execution_count": 200,
     "metadata": {},
     "output_type": "execute_result"
    }
   ],
   "source": [
    "data=np.array(df).reshape(-1,1)\n",
    "type(df)"
   ]
  },
  {
   "cell_type": "code",
   "execution_count": 201,
   "id": "780dbb82",
   "metadata": {},
   "outputs": [
    {
     "data": {
      "image/png": "[encoded data removed]",
      "text/plain": [
       "<Figure size 432x288 with 1 Axes>"
      ]
     },
     "metadata": {
      "needs_background": "light"
     },
     "output_type": "display_data"
    }
   ],
   "source": [
    "plt.plot(df)\n",
    "plt.show()"
   ]
  },
  {
   "cell_type": "code",
   "execution_count": 202,
   "id": "7f16c377",
   "metadata": {},
   "outputs": [],
   "source": [
    "scaler = MinMaxScaler()\n",
    "data=scaler.fit_transform(data)"
   ]
  },
  {
   "cell_type": "code",
   "execution_count": 203,
   "id": "add737a6",
   "metadata": {},
   "outputs": [],
   "source": [
    "train=data[0:100,:]\n",
    "test=data[100:,:]"
   ]
  },
  {
   "cell_type": "code",
   "execution_count": 204,
   "id": "cbad0cbb",
   "metadata": {},
   "outputs": [],
   "source": [
    "def get_data(data,steps):\n",
    "    dataX = []\n",
    "    dataY = []\n",
    "    for i in range(len(data)-steps-1):\n",
    "        a= data[i:(i+steps),0]\n",
    "        dataX.append(a)\n",
    "        dataY.append(data[i+steps,0])\n",
    "    return np.array(dataX), np.array(dataY)\n",
    "steps=2"
   ]
  },
  {
   "cell_type": "code",
   "execution_count": 205,
   "id": "54f9985d",
   "metadata": {},
   "outputs": [],
   "source": [
    "X_train,Y_train = get_data(train,steps)\n",
    "X_test,Y_test=get_data(test,steps)\n",
    "X_train=np.reshape(X_train,(X_train.shape[0],1,X_train.shape[1]))\n",
    "X_test=np.reshape(X_test,(X_test.shape[0],1,X_test.shape[1]))"
   ]
  },
  {
   "cell_type": "code",
   "execution_count": 206,
   "id": "143fa323",
   "metadata": {},
   "outputs": [],
   "source": [
    "model=Sequential()#Katman ile bir model katman oluşturmanıza izin verir. Her katmanın aşağıdaki katmanı gösteren ağırlıklara sahiptir."
   ]
  },
  {
   "cell_type": "code",
   "execution_count": 207,
   "id": "267635d5",
   "metadata": {},
   "outputs": [
    {
     "name": "stdout",
     "output_type": "stream",
     "text": [
      "Model: \"sequential\"\n",
      "_________________________________________________________________\n",
      " Layer (type)                Output Shape              Param #   \n",
      "=================================================================\n",
      " lstm (LSTM)                 (None, 512)               1054720   \n",
      "                                                                 \n",
      " dense (Dense)               (None, 256)               131328    \n",
      "                                                                 \n",
      " dense_1 (Dense)             (None, 1)                 257       \n",
      "                                                                 \n",
      "=================================================================\n",
      "Total params: 1,186,305\n",
      "Trainable params: 1,186,305\n",
      "Non-trainable params: 0\n",
      "_________________________________________________________________\n"
     ]
    }
   ],
   "source": [
    "model.add(LSTM(512, input_shape = (1, steps)))# Bu benim 512 bellek bloklu ilk gizli katmanım\n",
    "model.add(Dense(256)) #Bu benim 256 bellek bloklu ikinci gizli katmanım\n",
    "model.add(Dense(1)) # bu benim çıkış katmanım\n",
    "model.compile(loss = 'mean_squared_error', optimizer = 'adam')#katmak eklemek için add komutunu kullanıyoruz\n",
    "model.summary()"
   ]
  },
  {
   "cell_type": "code",
   "execution_count": 210,
   "id": "10f19cb6",
   "metadata": {},
   "outputs": [
    {
     "name": "stdout",
     "output_type": "stream",
     "text": [
      "Epoch 1/25\n",
      "97/97 [==============================] - 2s 19ms/step - loss: 0.0319\n",
      "Epoch 2/25\n",
      "97/97 [==============================] - 2s 21ms/step - loss: 0.0305\n",
      "Epoch 3/25\n",
      "97/97 [==============================] - 2s 21ms/step - loss: 0.0303\n",
      "Epoch 4/25\n",
      "97/97 [==============================] - 2s 22ms/step - loss: 0.0311\n",
      "Epoch 5/25\n",
      "97/97 [==============================] - 2s 21ms/step - loss: 0.0298\n",
      "Epoch 6/25\n",
      "97/97 [==============================] - 2s 21ms/step - loss: 0.0307\n",
      "Epoch 7/25\n",
      "97/97 [==============================] - 2s 20ms/step - loss: 0.0304\n",
      "Epoch 8/25\n",
      "97/97 [==============================] - 2s 22ms/step - loss: 0.0309\n",
      "Epoch 9/25\n",
      "97/97 [==============================] - 2s 21ms/step - loss: 0.0308\n",
      "Epoch 10/25\n",
      "97/97 [==============================] - 2s 21ms/step - loss: 0.0310\n",
      "Epoch 11/25\n",
      "97/97 [==============================] - 2s 23ms/step - loss: 0.0309\n",
      "Epoch 12/25\n",
      "97/97 [==============================] - 2s 22ms/step - loss: 0.0306\n",
      "Epoch 13/25\n",
      "97/97 [==============================] - 2s 21ms/step - loss: 0.0300\n",
      "Epoch 14/25\n",
      "97/97 [==============================] - 2s 20ms/step - loss: 0.0304\n",
      "Epoch 15/25\n",
      "97/97 [==============================] - 2s 20ms/step - loss: 0.0300\n",
      "Epoch 16/25\n",
      "97/97 [==============================] - 2s 20ms/step - loss: 0.0304\n",
      "Epoch 17/25\n",
      "97/97 [==============================] - 2s 20ms/step - loss: 0.0298\n",
      "Epoch 18/25\n",
      "97/97 [==============================] - 2s 22ms/step - loss: 0.0303\n",
      "Epoch 19/25\n",
      "97/97 [==============================] - 2s 21ms/step - loss: 0.0304\n",
      "Epoch 20/25\n",
      "97/97 [==============================] - 2s 22ms/step - loss: 0.0304\n",
      "Epoch 21/25\n",
      "97/97 [==============================] - 2s 21ms/step - loss: 0.0304\n",
      "Epoch 22/25\n",
      "97/97 [==============================] - 2s 21ms/step - loss: 0.0298\n",
      "Epoch 23/25\n",
      "97/97 [==============================] - 2s 20ms/step - loss: 0.0307\n",
      "Epoch 24/25\n",
      "97/97 [==============================] - 2s 21ms/step - loss: 0.0301\n",
      "Epoch 25/25\n",
      "97/97 [==============================] - 2s 21ms/step - loss: 0.0303\n"
     ]
    },
    {
     "data": {
      "text/plain": [
       "<keras.callbacks.History at 0x2a45ebc3a00>"
      ]
     },
     "execution_count": 210,
     "metadata": {},
     "output_type": "execute_result"
    }
   ],
   "source": [
    "model.fit(X_train,Y_train,epochs=25,batch_size=1)#modeli veriyle eğitmek"
   ]
  },
  {
   "cell_type": "code",
   "execution_count": 211,
   "id": "8f1c16fb",
   "metadata": {},
   "outputs": [
    {
     "name": "stdout",
     "output_type": "stream",
     "text": [
      "310/310 [==============================] - 2s 5ms/step\n"
     ]
    }
   ],
   "source": [
    "Y_pred=model.predict(X_test)\n",
    "Y_pred=scaler.inverse_transform(Y_pred)\n",
    "Y_test=Y_test.reshape(-1,1)\n",
    "Y_test=scaler.inverse_transform(Y_test)"
   ]
  },
  {
   "cell_type": "code",
   "execution_count": 212,
   "id": "d1ba794b",
   "metadata": {},
   "outputs": [
    {
     "data": {
      "image/png": "[encoded data removed]",
      "text/plain": [
       "<Figure size 432x288 with 1 Axes>"
      ]
     },
     "metadata": {
      "needs_background": "light"
     },
     "output_type": "display_data"
    }
   ],
   "source": [
    "plt.plot(Y_test, label = 'LT')#eğittimiz veriyi grafik ile gösterme\n",
    "plt.plot(Y_pred, label = 'AT')\n",
    "plt.ylabel('lead_time')\n",
    "plt.ylabel('arrival_time')\n",
    "plt.legend()\n",
    "plt.show()"
   ]
  },
  {
   "cell_type": "code",
   "execution_count": 213,
   "id": "d330eeb7",
   "metadata": {},
   "outputs": [],
   "source": [
    "import matplotlib.pyplot as plt\n",
    "from sklearn.ensemble import RandomForestClassifier\n",
    "from sklearn.model_selection import GridSearchCV\n",
    "from sklearn.model_selection import cross_val_score, learning_curve, validation_curve"
   ]
  },
  {
   "cell_type": "code",
   "execution_count": 214,
   "id": "a171c433",
   "metadata": {},
   "outputs": [],
   "source": [
    "import matplotlib as mpl#çizim için parametreler"
   ]
  },
  {
   "cell_type": "code",
   "execution_count": 215,
   "id": "aee3a84e",
   "metadata": {},
   "outputs": [],
   "source": [
    "mpl.rcParams['xtick.labelsize'] = 15\n",
    "mpl.rcParams['ytick.labelsize'] = 15\n",
    "mpl.rcParams['figure.figsize'] = (15, 10)\n",
    "mpl.rcParams['axes.facecolor'] = (0.9,0.9,0.9)\n",
    "mpl.rcParams['lines.linewidth'] = 3\n",
    "mpl.rcParams['axes.grid'] = True\n",
    "mpl.rcParams['grid.color'] = 'w'\n",
    "mpl.rcParams['xtick.top'] = True\n",
    "mpl.rcParams['ytick.right'] = True\n",
    "mpl.rcParams['grid.linestyle'] = '--'\n",
    "mpl.rcParams['legend.fontsize'] = 15\n",
    "mpl.rcParams['legend.facecolor'] = [1,1,1]\n",
    "mpl.rcParams['legend.framealpha'] = 0.75\n",
    "mpl.rcParams['axes.labelsize'] = 15"
   ]
  },
  {
   "cell_type": "code",
   "execution_count": null,
   "id": "86ce246e",
   "metadata": {},
   "outputs": [],
   "source": []
  }
 ],
 "metadata": {
  "kernelspec": {
   "display_name": "Python 3 (ipykernel)",
   "language": "python",
   "name": "python3"
  },
  "language_info": {
   "codemirror_mode": {
    "name": "ipython",
    "version": 3
   },
   "file_extension": ".py",
   "mimetype": "text/x-python",
   "name": "python",
   "nbconvert_exporter": "python",
   "pygments_lexer": "ipython3",
   "version": "3.9.12"
  }
 },
 "nbformat": 4,
 "nbformat_minor": 5
}
